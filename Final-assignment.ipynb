{
 "cells": [
  {
   "cell_type": "markdown",
   "id": "3dc117a4",
   "metadata": {},
   "source": [
    "# Parkisons Disease Detection using Machine Learning"
   ]
  },
  {
   "cell_type": "markdown",
   "id": "35cc775f",
   "metadata": {},
   "source": [
    "The project will make use of Machine Learning techniques to detect Parkinson's Disease cases. \n",
    "Tasks include:\n",
    "\n",
    "* Data Preprocessing\n",
    "* Exploratory Data Analysis\n",
    "* Dataset Balancing & Scaling\n",
    "* Machine Learning Models Training & Evaluation"
   ]
  },
  {
   "cell_type": "markdown",
   "id": "5799a518",
   "metadata": {},
   "source": [
    "Machine Learning Models Trained & Evaluated\n",
    "Here are the Machine Learning models that were trained and evaluated:\n",
    "* Decision Tree Classifier\n",
    "* Logistic Regression\n",
    "* Support Vector Machine Classifier\n",
    "* Naive Bayes Classifier\n",
    "*XGBoost Classifier"
   ]
  },
  {
   "cell_type": "markdown",
   "id": "a295a643",
   "metadata": {},
   "source": [
    "The reasoning behind the steps will be told at the corresponding chapter."
   ]
  },
  {
   "cell_type": "markdown",
   "id": "8a9961e0",
   "metadata": {},
   "source": [
    "## Importing Libraries"
   ]
  },
  {
   "cell_type": "code",
   "execution_count": 62,
   "id": "ea53cf61",
   "metadata": {},
   "outputs": [],
   "source": [
    "# Importing Libraries\n",
    "import requests\n",
    "import pandas as pd\n",
    "from imblearn.over_sampling import SMOTE\n",
    "import seaborn as sns\n",
    "import matplotlib.pyplot as plt\n",
    "import joblib\n",
    "\n",
    "from sklearn.preprocessing import MinMaxScaler\n",
    "from sklearn.model_selection import train_test_split\n",
    "from sklearn.model_selection import GridSearchCV\n",
    "from sklearn.ensemble import RandomForestClassifier\n",
    "from sklearn.tree import DecisionTreeClassifier\n",
    "from sklearn.linear_model import LogisticRegression\n",
    "from sklearn.neighbors import KNeighborsClassifier\n",
    "from sklearn import svm\n",
    "from sklearn.svm import SVC\n",
    "from sklearn.naive_bayes import GaussianNB as Naive_Bayes\n",
    "from sklearn import metrics\n",
    "from sklearn.metrics import classification_report\n",
    "from sklearn.metrics import confusion_matrix\n",
    "from sklearn.metrics import accuracy_score\n",
    "from sklearn.model_selection import cross_val_score\n",
    "from sklearn.datasets import make_classification\n",
    "from sklearn.metrics import plot_confusion_matrix\n",
    "\n",
    "from IPython.display import display\n",
    "from sklearn.ensemble import RandomForestClassifier, BaggingClassifier, AdaBoostClassifier, VotingClassifier\n",
    "from sklearn.metrics import classification_report\n",
    "from sklearn.metrics import confusion_matrix\n",
    "from sklearn.metrics import mean_squared_error\n",
    "from sklearn.model_selection import learning_curve\n",
    "\n",
    "from scipy import stats\n",
    "\n",
    "from xgboost import XGBClassifier\n"
   ]
  },
  {
   "cell_type": "markdown",
   "id": "47a899cd",
   "metadata": {},
   "source": [
    "## Reading the data\n",
    "The data is a comma separated file. I took a look at this in an editor. Therefore we can pandas `read_csv` function to read the file."
   ]
  },
  {
   "cell_type": "code",
   "execution_count": 63,
   "id": "333554ce",
   "metadata": {
    "scrolled": true
   },
   "outputs": [
    {
     "data": {
      "text/html": [
       "<div>\n",
       "<style scoped>\n",
       "    .dataframe tbody tr th:only-of-type {\n",
       "        vertical-align: middle;\n",
       "    }\n",
       "\n",
       "    .dataframe tbody tr th {\n",
       "        vertical-align: top;\n",
       "    }\n",
       "\n",
       "    .dataframe thead th {\n",
       "        text-align: right;\n",
       "    }\n",
       "</style>\n",
       "<table border=\"1\" class=\"dataframe\">\n",
       "  <thead>\n",
       "    <tr style=\"text-align: right;\">\n",
       "      <th></th>\n",
       "      <th>name</th>\n",
       "      <th>MDVP:Fo(Hz)</th>\n",
       "      <th>MDVP:Fhi(Hz)</th>\n",
       "      <th>MDVP:Flo(Hz)</th>\n",
       "      <th>MDVP:Jitter(%)</th>\n",
       "      <th>MDVP:Jitter(Abs)</th>\n",
       "      <th>MDVP:RAP</th>\n",
       "      <th>MDVP:PPQ</th>\n",
       "      <th>Jitter:DDP</th>\n",
       "      <th>MDVP:Shimmer</th>\n",
       "      <th>...</th>\n",
       "      <th>Shimmer:DDA</th>\n",
       "      <th>NHR</th>\n",
       "      <th>HNR</th>\n",
       "      <th>status</th>\n",
       "      <th>RPDE</th>\n",
       "      <th>DFA</th>\n",
       "      <th>spread1</th>\n",
       "      <th>spread2</th>\n",
       "      <th>D2</th>\n",
       "      <th>PPE</th>\n",
       "    </tr>\n",
       "  </thead>\n",
       "  <tbody>\n",
       "    <tr>\n",
       "      <th>0</th>\n",
       "      <td>phon_R01_S01_1</td>\n",
       "      <td>119.992</td>\n",
       "      <td>157.302</td>\n",
       "      <td>74.997</td>\n",
       "      <td>0.00784</td>\n",
       "      <td>0.00007</td>\n",
       "      <td>0.00370</td>\n",
       "      <td>0.00554</td>\n",
       "      <td>0.01109</td>\n",
       "      <td>0.04374</td>\n",
       "      <td>...</td>\n",
       "      <td>0.06545</td>\n",
       "      <td>0.02211</td>\n",
       "      <td>21.033</td>\n",
       "      <td>1</td>\n",
       "      <td>0.414783</td>\n",
       "      <td>0.815285</td>\n",
       "      <td>-4.813031</td>\n",
       "      <td>0.266482</td>\n",
       "      <td>2.301442</td>\n",
       "      <td>0.284654</td>\n",
       "    </tr>\n",
       "    <tr>\n",
       "      <th>1</th>\n",
       "      <td>phon_R01_S01_2</td>\n",
       "      <td>122.400</td>\n",
       "      <td>148.650</td>\n",
       "      <td>113.819</td>\n",
       "      <td>0.00968</td>\n",
       "      <td>0.00008</td>\n",
       "      <td>0.00465</td>\n",
       "      <td>0.00696</td>\n",
       "      <td>0.01394</td>\n",
       "      <td>0.06134</td>\n",
       "      <td>...</td>\n",
       "      <td>0.09403</td>\n",
       "      <td>0.01929</td>\n",
       "      <td>19.085</td>\n",
       "      <td>1</td>\n",
       "      <td>0.458359</td>\n",
       "      <td>0.819521</td>\n",
       "      <td>-4.075192</td>\n",
       "      <td>0.335590</td>\n",
       "      <td>2.486855</td>\n",
       "      <td>0.368674</td>\n",
       "    </tr>\n",
       "    <tr>\n",
       "      <th>2</th>\n",
       "      <td>phon_R01_S01_3</td>\n",
       "      <td>116.682</td>\n",
       "      <td>131.111</td>\n",
       "      <td>111.555</td>\n",
       "      <td>0.01050</td>\n",
       "      <td>0.00009</td>\n",
       "      <td>0.00544</td>\n",
       "      <td>0.00781</td>\n",
       "      <td>0.01633</td>\n",
       "      <td>0.05233</td>\n",
       "      <td>...</td>\n",
       "      <td>0.08270</td>\n",
       "      <td>0.01309</td>\n",
       "      <td>20.651</td>\n",
       "      <td>1</td>\n",
       "      <td>0.429895</td>\n",
       "      <td>0.825288</td>\n",
       "      <td>-4.443179</td>\n",
       "      <td>0.311173</td>\n",
       "      <td>2.342259</td>\n",
       "      <td>0.332634</td>\n",
       "    </tr>\n",
       "    <tr>\n",
       "      <th>3</th>\n",
       "      <td>phon_R01_S01_4</td>\n",
       "      <td>116.676</td>\n",
       "      <td>137.871</td>\n",
       "      <td>111.366</td>\n",
       "      <td>0.00997</td>\n",
       "      <td>0.00009</td>\n",
       "      <td>0.00502</td>\n",
       "      <td>0.00698</td>\n",
       "      <td>0.01505</td>\n",
       "      <td>0.05492</td>\n",
       "      <td>...</td>\n",
       "      <td>0.08771</td>\n",
       "      <td>0.01353</td>\n",
       "      <td>20.644</td>\n",
       "      <td>1</td>\n",
       "      <td>0.434969</td>\n",
       "      <td>0.819235</td>\n",
       "      <td>-4.117501</td>\n",
       "      <td>0.334147</td>\n",
       "      <td>2.405554</td>\n",
       "      <td>0.368975</td>\n",
       "    </tr>\n",
       "    <tr>\n",
       "      <th>4</th>\n",
       "      <td>phon_R01_S01_5</td>\n",
       "      <td>116.014</td>\n",
       "      <td>141.781</td>\n",
       "      <td>110.655</td>\n",
       "      <td>0.01284</td>\n",
       "      <td>0.00011</td>\n",
       "      <td>0.00655</td>\n",
       "      <td>0.00908</td>\n",
       "      <td>0.01966</td>\n",
       "      <td>0.06425</td>\n",
       "      <td>...</td>\n",
       "      <td>0.10470</td>\n",
       "      <td>0.01767</td>\n",
       "      <td>19.649</td>\n",
       "      <td>1</td>\n",
       "      <td>0.417356</td>\n",
       "      <td>0.823484</td>\n",
       "      <td>-3.747787</td>\n",
       "      <td>0.234513</td>\n",
       "      <td>2.332180</td>\n",
       "      <td>0.410335</td>\n",
       "    </tr>\n",
       "  </tbody>\n",
       "</table>\n",
       "<p>5 rows × 24 columns</p>\n",
       "</div>"
      ],
      "text/plain": [
       "             name  MDVP:Fo(Hz)  MDVP:Fhi(Hz)  MDVP:Flo(Hz)  MDVP:Jitter(%)  \\\n",
       "0  phon_R01_S01_1      119.992       157.302        74.997         0.00784   \n",
       "1  phon_R01_S01_2      122.400       148.650       113.819         0.00968   \n",
       "2  phon_R01_S01_3      116.682       131.111       111.555         0.01050   \n",
       "3  phon_R01_S01_4      116.676       137.871       111.366         0.00997   \n",
       "4  phon_R01_S01_5      116.014       141.781       110.655         0.01284   \n",
       "\n",
       "   MDVP:Jitter(Abs)  MDVP:RAP  MDVP:PPQ  Jitter:DDP  MDVP:Shimmer  ...  \\\n",
       "0           0.00007   0.00370   0.00554     0.01109       0.04374  ...   \n",
       "1           0.00008   0.00465   0.00696     0.01394       0.06134  ...   \n",
       "2           0.00009   0.00544   0.00781     0.01633       0.05233  ...   \n",
       "3           0.00009   0.00502   0.00698     0.01505       0.05492  ...   \n",
       "4           0.00011   0.00655   0.00908     0.01966       0.06425  ...   \n",
       "\n",
       "   Shimmer:DDA      NHR     HNR  status      RPDE       DFA   spread1  \\\n",
       "0      0.06545  0.02211  21.033       1  0.414783  0.815285 -4.813031   \n",
       "1      0.09403  0.01929  19.085       1  0.458359  0.819521 -4.075192   \n",
       "2      0.08270  0.01309  20.651       1  0.429895  0.825288 -4.443179   \n",
       "3      0.08771  0.01353  20.644       1  0.434969  0.819235 -4.117501   \n",
       "4      0.10470  0.01767  19.649       1  0.417356  0.823484 -3.747787   \n",
       "\n",
       "    spread2        D2       PPE  \n",
       "0  0.266482  2.301442  0.284654  \n",
       "1  0.335590  2.486855  0.368674  \n",
       "2  0.311173  2.342259  0.332634  \n",
       "3  0.334147  2.405554  0.368975  \n",
       "4  0.234513  2.332180  0.410335  \n",
       "\n",
       "[5 rows x 24 columns]"
      ]
     },
     "execution_count": 63,
     "metadata": {},
     "output_type": "execute_result"
    }
   ],
   "source": [
    "# Read the data file\n",
    "df= pd.read_csv(\"parkinsons.data\")\n",
    "df.head()"
   ]
  },
  {
   "cell_type": "code",
   "execution_count": 64,
   "id": "6baaf38a",
   "metadata": {},
   "outputs": [
    {
     "data": {
      "text/html": [
       "<div>\n",
       "<style scoped>\n",
       "    .dataframe tbody tr th:only-of-type {\n",
       "        vertical-align: middle;\n",
       "    }\n",
       "\n",
       "    .dataframe tbody tr th {\n",
       "        vertical-align: top;\n",
       "    }\n",
       "\n",
       "    .dataframe thead th {\n",
       "        text-align: right;\n",
       "    }\n",
       "</style>\n",
       "<table border=\"1\" class=\"dataframe\">\n",
       "  <thead>\n",
       "    <tr style=\"text-align: right;\">\n",
       "      <th></th>\n",
       "      <th>name</th>\n",
       "      <th>MDVP:Fo(Hz)</th>\n",
       "      <th>MDVP:Fhi(Hz)</th>\n",
       "      <th>MDVP:Flo(Hz)</th>\n",
       "      <th>MDVP:Jitter(%)</th>\n",
       "      <th>MDVP:Jitter(Abs)</th>\n",
       "      <th>MDVP:RAP</th>\n",
       "      <th>MDVP:PPQ</th>\n",
       "      <th>Jitter:DDP</th>\n",
       "      <th>MDVP:Shimmer</th>\n",
       "      <th>...</th>\n",
       "      <th>Shimmer:DDA</th>\n",
       "      <th>NHR</th>\n",
       "      <th>HNR</th>\n",
       "      <th>status</th>\n",
       "      <th>RPDE</th>\n",
       "      <th>DFA</th>\n",
       "      <th>spread1</th>\n",
       "      <th>spread2</th>\n",
       "      <th>D2</th>\n",
       "      <th>PPE</th>\n",
       "    </tr>\n",
       "  </thead>\n",
       "  <tbody>\n",
       "    <tr>\n",
       "      <th>190</th>\n",
       "      <td>phon_R01_S50_2</td>\n",
       "      <td>174.188</td>\n",
       "      <td>230.978</td>\n",
       "      <td>94.261</td>\n",
       "      <td>0.00459</td>\n",
       "      <td>0.00003</td>\n",
       "      <td>0.00263</td>\n",
       "      <td>0.00259</td>\n",
       "      <td>0.00790</td>\n",
       "      <td>0.04087</td>\n",
       "      <td>...</td>\n",
       "      <td>0.07008</td>\n",
       "      <td>0.02764</td>\n",
       "      <td>19.517</td>\n",
       "      <td>0</td>\n",
       "      <td>0.448439</td>\n",
       "      <td>0.657899</td>\n",
       "      <td>-6.538586</td>\n",
       "      <td>0.121952</td>\n",
       "      <td>2.657476</td>\n",
       "      <td>0.133050</td>\n",
       "    </tr>\n",
       "    <tr>\n",
       "      <th>191</th>\n",
       "      <td>phon_R01_S50_3</td>\n",
       "      <td>209.516</td>\n",
       "      <td>253.017</td>\n",
       "      <td>89.488</td>\n",
       "      <td>0.00564</td>\n",
       "      <td>0.00003</td>\n",
       "      <td>0.00331</td>\n",
       "      <td>0.00292</td>\n",
       "      <td>0.00994</td>\n",
       "      <td>0.02751</td>\n",
       "      <td>...</td>\n",
       "      <td>0.04812</td>\n",
       "      <td>0.01810</td>\n",
       "      <td>19.147</td>\n",
       "      <td>0</td>\n",
       "      <td>0.431674</td>\n",
       "      <td>0.683244</td>\n",
       "      <td>-6.195325</td>\n",
       "      <td>0.129303</td>\n",
       "      <td>2.784312</td>\n",
       "      <td>0.168895</td>\n",
       "    </tr>\n",
       "    <tr>\n",
       "      <th>192</th>\n",
       "      <td>phon_R01_S50_4</td>\n",
       "      <td>174.688</td>\n",
       "      <td>240.005</td>\n",
       "      <td>74.287</td>\n",
       "      <td>0.01360</td>\n",
       "      <td>0.00008</td>\n",
       "      <td>0.00624</td>\n",
       "      <td>0.00564</td>\n",
       "      <td>0.01873</td>\n",
       "      <td>0.02308</td>\n",
       "      <td>...</td>\n",
       "      <td>0.03804</td>\n",
       "      <td>0.10715</td>\n",
       "      <td>17.883</td>\n",
       "      <td>0</td>\n",
       "      <td>0.407567</td>\n",
       "      <td>0.655683</td>\n",
       "      <td>-6.787197</td>\n",
       "      <td>0.158453</td>\n",
       "      <td>2.679772</td>\n",
       "      <td>0.131728</td>\n",
       "    </tr>\n",
       "    <tr>\n",
       "      <th>193</th>\n",
       "      <td>phon_R01_S50_5</td>\n",
       "      <td>198.764</td>\n",
       "      <td>396.961</td>\n",
       "      <td>74.904</td>\n",
       "      <td>0.00740</td>\n",
       "      <td>0.00004</td>\n",
       "      <td>0.00370</td>\n",
       "      <td>0.00390</td>\n",
       "      <td>0.01109</td>\n",
       "      <td>0.02296</td>\n",
       "      <td>...</td>\n",
       "      <td>0.03794</td>\n",
       "      <td>0.07223</td>\n",
       "      <td>19.020</td>\n",
       "      <td>0</td>\n",
       "      <td>0.451221</td>\n",
       "      <td>0.643956</td>\n",
       "      <td>-6.744577</td>\n",
       "      <td>0.207454</td>\n",
       "      <td>2.138608</td>\n",
       "      <td>0.123306</td>\n",
       "    </tr>\n",
       "    <tr>\n",
       "      <th>194</th>\n",
       "      <td>phon_R01_S50_6</td>\n",
       "      <td>214.289</td>\n",
       "      <td>260.277</td>\n",
       "      <td>77.973</td>\n",
       "      <td>0.00567</td>\n",
       "      <td>0.00003</td>\n",
       "      <td>0.00295</td>\n",
       "      <td>0.00317</td>\n",
       "      <td>0.00885</td>\n",
       "      <td>0.01884</td>\n",
       "      <td>...</td>\n",
       "      <td>0.03078</td>\n",
       "      <td>0.04398</td>\n",
       "      <td>21.209</td>\n",
       "      <td>0</td>\n",
       "      <td>0.462803</td>\n",
       "      <td>0.664357</td>\n",
       "      <td>-5.724056</td>\n",
       "      <td>0.190667</td>\n",
       "      <td>2.555477</td>\n",
       "      <td>0.148569</td>\n",
       "    </tr>\n",
       "  </tbody>\n",
       "</table>\n",
       "<p>5 rows × 24 columns</p>\n",
       "</div>"
      ],
      "text/plain": [
       "               name  MDVP:Fo(Hz)  MDVP:Fhi(Hz)  MDVP:Flo(Hz)  MDVP:Jitter(%)  \\\n",
       "190  phon_R01_S50_2      174.188       230.978        94.261         0.00459   \n",
       "191  phon_R01_S50_3      209.516       253.017        89.488         0.00564   \n",
       "192  phon_R01_S50_4      174.688       240.005        74.287         0.01360   \n",
       "193  phon_R01_S50_5      198.764       396.961        74.904         0.00740   \n",
       "194  phon_R01_S50_6      214.289       260.277        77.973         0.00567   \n",
       "\n",
       "     MDVP:Jitter(Abs)  MDVP:RAP  MDVP:PPQ  Jitter:DDP  MDVP:Shimmer  ...  \\\n",
       "190           0.00003   0.00263   0.00259     0.00790       0.04087  ...   \n",
       "191           0.00003   0.00331   0.00292     0.00994       0.02751  ...   \n",
       "192           0.00008   0.00624   0.00564     0.01873       0.02308  ...   \n",
       "193           0.00004   0.00370   0.00390     0.01109       0.02296  ...   \n",
       "194           0.00003   0.00295   0.00317     0.00885       0.01884  ...   \n",
       "\n",
       "     Shimmer:DDA      NHR     HNR  status      RPDE       DFA   spread1  \\\n",
       "190      0.07008  0.02764  19.517       0  0.448439  0.657899 -6.538586   \n",
       "191      0.04812  0.01810  19.147       0  0.431674  0.683244 -6.195325   \n",
       "192      0.03804  0.10715  17.883       0  0.407567  0.655683 -6.787197   \n",
       "193      0.03794  0.07223  19.020       0  0.451221  0.643956 -6.744577   \n",
       "194      0.03078  0.04398  21.209       0  0.462803  0.664357 -5.724056   \n",
       "\n",
       "      spread2        D2       PPE  \n",
       "190  0.121952  2.657476  0.133050  \n",
       "191  0.129303  2.784312  0.168895  \n",
       "192  0.158453  2.679772  0.131728  \n",
       "193  0.207454  2.138608  0.123306  \n",
       "194  0.190667  2.555477  0.148569  \n",
       "\n",
       "[5 rows x 24 columns]"
      ]
     },
     "execution_count": 64,
     "metadata": {},
     "output_type": "execute_result"
    }
   ],
   "source": [
    "# also look at the tail to look if data is correct, sometimes the last row is different\n",
    "df.tail()"
   ]
  },
  {
   "cell_type": "markdown",
   "id": "53ba0fbc",
   "metadata": {},
   "source": [
    "# General info"
   ]
  },
  {
   "cell_type": "code",
   "execution_count": 65,
   "id": "adc13984",
   "metadata": {},
   "outputs": [
    {
     "name": "stdout",
     "output_type": "stream",
     "text": [
      "<class 'pandas.core.frame.DataFrame'>\n",
      "RangeIndex: 195 entries, 0 to 194\n",
      "Data columns (total 24 columns):\n",
      " #   Column            Non-Null Count  Dtype  \n",
      "---  ------            --------------  -----  \n",
      " 0   name              195 non-null    object \n",
      " 1   MDVP:Fo(Hz)       195 non-null    float64\n",
      " 2   MDVP:Fhi(Hz)      195 non-null    float64\n",
      " 3   MDVP:Flo(Hz)      195 non-null    float64\n",
      " 4   MDVP:Jitter(%)    195 non-null    float64\n",
      " 5   MDVP:Jitter(Abs)  195 non-null    float64\n",
      " 6   MDVP:RAP          195 non-null    float64\n",
      " 7   MDVP:PPQ          195 non-null    float64\n",
      " 8   Jitter:DDP        195 non-null    float64\n",
      " 9   MDVP:Shimmer      195 non-null    float64\n",
      " 10  MDVP:Shimmer(dB)  195 non-null    float64\n",
      " 11  Shimmer:APQ3      195 non-null    float64\n",
      " 12  Shimmer:APQ5      195 non-null    float64\n",
      " 13  MDVP:APQ          195 non-null    float64\n",
      " 14  Shimmer:DDA       195 non-null    float64\n",
      " 15  NHR               195 non-null    float64\n",
      " 16  HNR               195 non-null    float64\n",
      " 17  status            195 non-null    int64  \n",
      " 18  RPDE              195 non-null    float64\n",
      " 19  DFA               195 non-null    float64\n",
      " 20  spread1           195 non-null    float64\n",
      " 21  spread2           195 non-null    float64\n",
      " 22  D2                195 non-null    float64\n",
      " 23  PPE               195 non-null    float64\n",
      "dtypes: float64(22), int64(1), object(1)\n",
      "memory usage: 36.7+ KB\n"
     ]
    }
   ],
   "source": [
    "# Exploring Information About Dataframe\n",
    "df.info()"
   ]
  },
  {
   "cell_type": "code",
   "execution_count": 66,
   "id": "6ecd3c44",
   "metadata": {
    "scrolled": true
   },
   "outputs": [
    {
     "data": {
      "text/html": [
       "<div>\n",
       "<style scoped>\n",
       "    .dataframe tbody tr th:only-of-type {\n",
       "        vertical-align: middle;\n",
       "    }\n",
       "\n",
       "    .dataframe tbody tr th {\n",
       "        vertical-align: top;\n",
       "    }\n",
       "\n",
       "    .dataframe thead th {\n",
       "        text-align: right;\n",
       "    }\n",
       "</style>\n",
       "<table border=\"1\" class=\"dataframe\">\n",
       "  <thead>\n",
       "    <tr style=\"text-align: right;\">\n",
       "      <th></th>\n",
       "      <th>MDVP:Fo(Hz)</th>\n",
       "      <th>MDVP:Fhi(Hz)</th>\n",
       "      <th>MDVP:Flo(Hz)</th>\n",
       "      <th>MDVP:Jitter(%)</th>\n",
       "      <th>MDVP:Jitter(Abs)</th>\n",
       "      <th>MDVP:RAP</th>\n",
       "      <th>MDVP:PPQ</th>\n",
       "      <th>Jitter:DDP</th>\n",
       "      <th>MDVP:Shimmer</th>\n",
       "      <th>MDVP:Shimmer(dB)</th>\n",
       "      <th>...</th>\n",
       "      <th>Shimmer:DDA</th>\n",
       "      <th>NHR</th>\n",
       "      <th>HNR</th>\n",
       "      <th>status</th>\n",
       "      <th>RPDE</th>\n",
       "      <th>DFA</th>\n",
       "      <th>spread1</th>\n",
       "      <th>spread2</th>\n",
       "      <th>D2</th>\n",
       "      <th>PPE</th>\n",
       "    </tr>\n",
       "  </thead>\n",
       "  <tbody>\n",
       "    <tr>\n",
       "      <th>count</th>\n",
       "      <td>195.000000</td>\n",
       "      <td>195.000000</td>\n",
       "      <td>195.000000</td>\n",
       "      <td>195.000000</td>\n",
       "      <td>195.000000</td>\n",
       "      <td>195.000000</td>\n",
       "      <td>195.000000</td>\n",
       "      <td>195.000000</td>\n",
       "      <td>195.000000</td>\n",
       "      <td>195.000000</td>\n",
       "      <td>...</td>\n",
       "      <td>195.000000</td>\n",
       "      <td>195.000000</td>\n",
       "      <td>195.000000</td>\n",
       "      <td>195.000000</td>\n",
       "      <td>195.000000</td>\n",
       "      <td>195.000000</td>\n",
       "      <td>195.000000</td>\n",
       "      <td>195.000000</td>\n",
       "      <td>195.000000</td>\n",
       "      <td>195.000000</td>\n",
       "    </tr>\n",
       "    <tr>\n",
       "      <th>mean</th>\n",
       "      <td>154.228641</td>\n",
       "      <td>197.104918</td>\n",
       "      <td>116.324631</td>\n",
       "      <td>0.006220</td>\n",
       "      <td>0.000044</td>\n",
       "      <td>0.003306</td>\n",
       "      <td>0.003446</td>\n",
       "      <td>0.009920</td>\n",
       "      <td>0.029709</td>\n",
       "      <td>0.282251</td>\n",
       "      <td>...</td>\n",
       "      <td>0.046993</td>\n",
       "      <td>0.024847</td>\n",
       "      <td>21.885974</td>\n",
       "      <td>0.753846</td>\n",
       "      <td>0.498536</td>\n",
       "      <td>0.718099</td>\n",
       "      <td>-5.684397</td>\n",
       "      <td>0.226510</td>\n",
       "      <td>2.381826</td>\n",
       "      <td>0.206552</td>\n",
       "    </tr>\n",
       "    <tr>\n",
       "      <th>std</th>\n",
       "      <td>41.390065</td>\n",
       "      <td>91.491548</td>\n",
       "      <td>43.521413</td>\n",
       "      <td>0.004848</td>\n",
       "      <td>0.000035</td>\n",
       "      <td>0.002968</td>\n",
       "      <td>0.002759</td>\n",
       "      <td>0.008903</td>\n",
       "      <td>0.018857</td>\n",
       "      <td>0.194877</td>\n",
       "      <td>...</td>\n",
       "      <td>0.030459</td>\n",
       "      <td>0.040418</td>\n",
       "      <td>4.425764</td>\n",
       "      <td>0.431878</td>\n",
       "      <td>0.103942</td>\n",
       "      <td>0.055336</td>\n",
       "      <td>1.090208</td>\n",
       "      <td>0.083406</td>\n",
       "      <td>0.382799</td>\n",
       "      <td>0.090119</td>\n",
       "    </tr>\n",
       "    <tr>\n",
       "      <th>min</th>\n",
       "      <td>88.333000</td>\n",
       "      <td>102.145000</td>\n",
       "      <td>65.476000</td>\n",
       "      <td>0.001680</td>\n",
       "      <td>0.000007</td>\n",
       "      <td>0.000680</td>\n",
       "      <td>0.000920</td>\n",
       "      <td>0.002040</td>\n",
       "      <td>0.009540</td>\n",
       "      <td>0.085000</td>\n",
       "      <td>...</td>\n",
       "      <td>0.013640</td>\n",
       "      <td>0.000650</td>\n",
       "      <td>8.441000</td>\n",
       "      <td>0.000000</td>\n",
       "      <td>0.256570</td>\n",
       "      <td>0.574282</td>\n",
       "      <td>-7.964984</td>\n",
       "      <td>0.006274</td>\n",
       "      <td>1.423287</td>\n",
       "      <td>0.044539</td>\n",
       "    </tr>\n",
       "    <tr>\n",
       "      <th>25%</th>\n",
       "      <td>117.572000</td>\n",
       "      <td>134.862500</td>\n",
       "      <td>84.291000</td>\n",
       "      <td>0.003460</td>\n",
       "      <td>0.000020</td>\n",
       "      <td>0.001660</td>\n",
       "      <td>0.001860</td>\n",
       "      <td>0.004985</td>\n",
       "      <td>0.016505</td>\n",
       "      <td>0.148500</td>\n",
       "      <td>...</td>\n",
       "      <td>0.024735</td>\n",
       "      <td>0.005925</td>\n",
       "      <td>19.198000</td>\n",
       "      <td>1.000000</td>\n",
       "      <td>0.421306</td>\n",
       "      <td>0.674758</td>\n",
       "      <td>-6.450096</td>\n",
       "      <td>0.174351</td>\n",
       "      <td>2.099125</td>\n",
       "      <td>0.137451</td>\n",
       "    </tr>\n",
       "    <tr>\n",
       "      <th>50%</th>\n",
       "      <td>148.790000</td>\n",
       "      <td>175.829000</td>\n",
       "      <td>104.315000</td>\n",
       "      <td>0.004940</td>\n",
       "      <td>0.000030</td>\n",
       "      <td>0.002500</td>\n",
       "      <td>0.002690</td>\n",
       "      <td>0.007490</td>\n",
       "      <td>0.022970</td>\n",
       "      <td>0.221000</td>\n",
       "      <td>...</td>\n",
       "      <td>0.038360</td>\n",
       "      <td>0.011660</td>\n",
       "      <td>22.085000</td>\n",
       "      <td>1.000000</td>\n",
       "      <td>0.495954</td>\n",
       "      <td>0.722254</td>\n",
       "      <td>-5.720868</td>\n",
       "      <td>0.218885</td>\n",
       "      <td>2.361532</td>\n",
       "      <td>0.194052</td>\n",
       "    </tr>\n",
       "    <tr>\n",
       "      <th>75%</th>\n",
       "      <td>182.769000</td>\n",
       "      <td>224.205500</td>\n",
       "      <td>140.018500</td>\n",
       "      <td>0.007365</td>\n",
       "      <td>0.000060</td>\n",
       "      <td>0.003835</td>\n",
       "      <td>0.003955</td>\n",
       "      <td>0.011505</td>\n",
       "      <td>0.037885</td>\n",
       "      <td>0.350000</td>\n",
       "      <td>...</td>\n",
       "      <td>0.060795</td>\n",
       "      <td>0.025640</td>\n",
       "      <td>25.075500</td>\n",
       "      <td>1.000000</td>\n",
       "      <td>0.587562</td>\n",
       "      <td>0.761881</td>\n",
       "      <td>-5.046192</td>\n",
       "      <td>0.279234</td>\n",
       "      <td>2.636456</td>\n",
       "      <td>0.252980</td>\n",
       "    </tr>\n",
       "    <tr>\n",
       "      <th>max</th>\n",
       "      <td>260.105000</td>\n",
       "      <td>592.030000</td>\n",
       "      <td>239.170000</td>\n",
       "      <td>0.033160</td>\n",
       "      <td>0.000260</td>\n",
       "      <td>0.021440</td>\n",
       "      <td>0.019580</td>\n",
       "      <td>0.064330</td>\n",
       "      <td>0.119080</td>\n",
       "      <td>1.302000</td>\n",
       "      <td>...</td>\n",
       "      <td>0.169420</td>\n",
       "      <td>0.314820</td>\n",
       "      <td>33.047000</td>\n",
       "      <td>1.000000</td>\n",
       "      <td>0.685151</td>\n",
       "      <td>0.825288</td>\n",
       "      <td>-2.434031</td>\n",
       "      <td>0.450493</td>\n",
       "      <td>3.671155</td>\n",
       "      <td>0.527367</td>\n",
       "    </tr>\n",
       "  </tbody>\n",
       "</table>\n",
       "<p>8 rows × 23 columns</p>\n",
       "</div>"
      ],
      "text/plain": [
       "       MDVP:Fo(Hz)  MDVP:Fhi(Hz)  MDVP:Flo(Hz)  MDVP:Jitter(%)  \\\n",
       "count   195.000000    195.000000    195.000000      195.000000   \n",
       "mean    154.228641    197.104918    116.324631        0.006220   \n",
       "std      41.390065     91.491548     43.521413        0.004848   \n",
       "min      88.333000    102.145000     65.476000        0.001680   \n",
       "25%     117.572000    134.862500     84.291000        0.003460   \n",
       "50%     148.790000    175.829000    104.315000        0.004940   \n",
       "75%     182.769000    224.205500    140.018500        0.007365   \n",
       "max     260.105000    592.030000    239.170000        0.033160   \n",
       "\n",
       "       MDVP:Jitter(Abs)    MDVP:RAP    MDVP:PPQ  Jitter:DDP  MDVP:Shimmer  \\\n",
       "count        195.000000  195.000000  195.000000  195.000000    195.000000   \n",
       "mean           0.000044    0.003306    0.003446    0.009920      0.029709   \n",
       "std            0.000035    0.002968    0.002759    0.008903      0.018857   \n",
       "min            0.000007    0.000680    0.000920    0.002040      0.009540   \n",
       "25%            0.000020    0.001660    0.001860    0.004985      0.016505   \n",
       "50%            0.000030    0.002500    0.002690    0.007490      0.022970   \n",
       "75%            0.000060    0.003835    0.003955    0.011505      0.037885   \n",
       "max            0.000260    0.021440    0.019580    0.064330      0.119080   \n",
       "\n",
       "       MDVP:Shimmer(dB)  ...  Shimmer:DDA         NHR         HNR      status  \\\n",
       "count        195.000000  ...   195.000000  195.000000  195.000000  195.000000   \n",
       "mean           0.282251  ...     0.046993    0.024847   21.885974    0.753846   \n",
       "std            0.194877  ...     0.030459    0.040418    4.425764    0.431878   \n",
       "min            0.085000  ...     0.013640    0.000650    8.441000    0.000000   \n",
       "25%            0.148500  ...     0.024735    0.005925   19.198000    1.000000   \n",
       "50%            0.221000  ...     0.038360    0.011660   22.085000    1.000000   \n",
       "75%            0.350000  ...     0.060795    0.025640   25.075500    1.000000   \n",
       "max            1.302000  ...     0.169420    0.314820   33.047000    1.000000   \n",
       "\n",
       "             RPDE         DFA     spread1     spread2          D2         PPE  \n",
       "count  195.000000  195.000000  195.000000  195.000000  195.000000  195.000000  \n",
       "mean     0.498536    0.718099   -5.684397    0.226510    2.381826    0.206552  \n",
       "std      0.103942    0.055336    1.090208    0.083406    0.382799    0.090119  \n",
       "min      0.256570    0.574282   -7.964984    0.006274    1.423287    0.044539  \n",
       "25%      0.421306    0.674758   -6.450096    0.174351    2.099125    0.137451  \n",
       "50%      0.495954    0.722254   -5.720868    0.218885    2.361532    0.194052  \n",
       "75%      0.587562    0.761881   -5.046192    0.279234    2.636456    0.252980  \n",
       "max      0.685151    0.825288   -2.434031    0.450493    3.671155    0.527367  \n",
       "\n",
       "[8 rows x 23 columns]"
      ]
     },
     "execution_count": 66,
     "metadata": {},
     "output_type": "execute_result"
    }
   ],
   "source": [
    "df.describe()"
   ]
  },
  {
   "cell_type": "markdown",
   "id": "4a042cb0",
   "metadata": {},
   "source": [
    "We can see that all data is numerical. Most values are float64, except status which is int64. We can also see there are different scales. MDVP:Fo(Hz) has a std of 41, while MDVP:Jitter(ABS) has a std of 0.000035. This means we should normalize the data. Luckily there are no missing values."
   ]
  },
  {
   "cell_type": "markdown",
   "id": "cb6fb0e9",
   "metadata": {},
   "source": [
    "# Data Preprocessing\n",
    "We need to preprocess the dataset before we can use it:\n",
    "- We look for redundant columns. Some columns are not useful for the model. For instance, they can be heavily correlated and do not add value.\n",
    "- check for duplicate rows. Some rows may be duplicated. This is not useful for the model.\n",
    "- check for missing values. The model needs numerical data. The model can't handle missing values.\n",
    "- normalize the data.  The model needs data in range [0, 1], so that every feature has the same importance. Otherwise it will think the features with the higher numbers are more important."
   ]
  },
  {
   "cell_type": "markdown",
   "id": "96eb84e9",
   "metadata": {},
   "source": [
    "##### Dropping Redudant Columns"
   ]
  },
  {
   "cell_type": "code",
   "execution_count": 67,
   "id": "514d8488",
   "metadata": {},
   "outputs": [
    {
     "name": "stdout",
     "output_type": "stream",
     "text": [
      "Number of Features In Dataset : 24\n",
      "Number of Instances In Dataset :  195\n"
     ]
    }
   ],
   "source": [
    "#getting the shape of data\n",
    "print('Number of Features In Dataset :', df.shape[1])\n",
    "print('Number of Instances In Dataset : ', df.shape[0])"
   ]
  },
  {
   "cell_type": "code",
   "execution_count": 68,
   "id": "03801dff",
   "metadata": {},
   "outputs": [],
   "source": [
    "# Dropping The Name Column. we donot need this column for our model\n",
    "df.drop(['name'], axis=1, inplace=True)"
   ]
  },
  {
   "cell_type": "code",
   "execution_count": 69,
   "id": "cce7dc73",
   "metadata": {},
   "outputs": [
    {
     "name": "stdout",
     "output_type": "stream",
     "text": [
      "Number of Features In Dataset : 23\n",
      "Number of Instances In Dataset :  195\n"
     ]
    }
   ],
   "source": [
    "print('Number of Features In Dataset :', df.shape[1])\n",
    "print('Number of Instances In Dataset : ', df.shape[0])"
   ]
  },
  {
   "cell_type": "markdown",
   "id": "08775bea",
   "metadata": {},
   "source": [
    "Data has different scales (std) so should be normalized."
   ]
  },
  {
   "cell_type": "markdown",
   "id": "0aa9cbd9",
   "metadata": {},
   "source": [
    "##### Status"
   ]
  },
  {
   "cell_type": "markdown",
   "id": "26d79663",
   "metadata": {},
   "source": [
    "We can see that the status column has a datatype of int64. Because this column only contains two numeric values 0 and 1, we will convert it to Uint8 to save memory."
   ]
  },
  {
   "cell_type": "code",
   "execution_count": 70,
   "id": "2e523856",
   "metadata": {},
   "outputs": [],
   "source": [
    "#column Status is int64 datatype and it countains just  numeric values 0 & 1,\n",
    "#for saving memory here Im changing datatype to uint8\n",
    "df['status'] = df['status'].astype('uint8')"
   ]
  },
  {
   "cell_type": "code",
   "execution_count": 71,
   "id": "4c835233",
   "metadata": {},
   "outputs": [
    {
     "name": "stdout",
     "output_type": "stream",
     "text": [
      "<class 'pandas.core.frame.DataFrame'>\n",
      "RangeIndex: 195 entries, 0 to 194\n",
      "Data columns (total 23 columns):\n",
      " #   Column            Non-Null Count  Dtype  \n",
      "---  ------            --------------  -----  \n",
      " 0   MDVP:Fo(Hz)       195 non-null    float64\n",
      " 1   MDVP:Fhi(Hz)      195 non-null    float64\n",
      " 2   MDVP:Flo(Hz)      195 non-null    float64\n",
      " 3   MDVP:Jitter(%)    195 non-null    float64\n",
      " 4   MDVP:Jitter(Abs)  195 non-null    float64\n",
      " 5   MDVP:RAP          195 non-null    float64\n",
      " 6   MDVP:PPQ          195 non-null    float64\n",
      " 7   Jitter:DDP        195 non-null    float64\n",
      " 8   MDVP:Shimmer      195 non-null    float64\n",
      " 9   MDVP:Shimmer(dB)  195 non-null    float64\n",
      " 10  Shimmer:APQ3      195 non-null    float64\n",
      " 11  Shimmer:APQ5      195 non-null    float64\n",
      " 12  MDVP:APQ          195 non-null    float64\n",
      " 13  Shimmer:DDA       195 non-null    float64\n",
      " 14  NHR               195 non-null    float64\n",
      " 15  HNR               195 non-null    float64\n",
      " 16  status            195 non-null    uint8  \n",
      " 17  RPDE              195 non-null    float64\n",
      " 18  DFA               195 non-null    float64\n",
      " 19  spread1           195 non-null    float64\n",
      " 20  spread2           195 non-null    float64\n",
      " 21  D2                195 non-null    float64\n",
      " 22  PPE               195 non-null    float64\n",
      "dtypes: float64(22), uint8(1)\n",
      "memory usage: 33.8 KB\n"
     ]
    }
   ],
   "source": [
    "df.info()"
   ]
  },
  {
   "cell_type": "markdown",
   "id": "ebe1ea1c",
   "metadata": {},
   "source": [
    "##### Duplicated rows"
   ]
  },
  {
   "cell_type": "code",
   "execution_count": 72,
   "id": "429aa7b5",
   "metadata": {},
   "outputs": [
    {
     "name": "stdout",
     "output_type": "stream",
     "text": [
      "Number of Duplicated Rows : 0\n"
     ]
    }
   ],
   "source": [
    "#Now,checking Dataset For Duplicate Rows\n",
    "print('Number of Duplicated Rows :',df.duplicated().sum())"
   ]
  },
  {
   "cell_type": "markdown",
   "id": "b8b148ca",
   "metadata": {},
   "source": [
    "As there is no Duplicate Rows"
   ]
  },
  {
   "cell_type": "markdown",
   "id": "2d0c5be1",
   "metadata": {},
   "source": [
    "##### Missing values"
   ]
  },
  {
   "cell_type": "code",
   "execution_count": 73,
   "id": "f17e750c",
   "metadata": {},
   "outputs": [
    {
     "data": {
      "text/plain": [
       "MDVP:Fo(Hz)         0\n",
       "MDVP:Fhi(Hz)        0\n",
       "MDVP:Flo(Hz)        0\n",
       "MDVP:Jitter(%)      0\n",
       "MDVP:Jitter(Abs)    0\n",
       "MDVP:RAP            0\n",
       "MDVP:PPQ            0\n",
       "Jitter:DDP          0\n",
       "MDVP:Shimmer        0\n",
       "MDVP:Shimmer(dB)    0\n",
       "Shimmer:APQ3        0\n",
       "Shimmer:APQ5        0\n",
       "MDVP:APQ            0\n",
       "Shimmer:DDA         0\n",
       "NHR                 0\n",
       "HNR                 0\n",
       "status              0\n",
       "RPDE                0\n",
       "DFA                 0\n",
       "spread1             0\n",
       "spread2             0\n",
       "D2                  0\n",
       "PPE                 0\n",
       "dtype: int64"
      ]
     },
     "execution_count": 73,
     "metadata": {},
     "output_type": "execute_result"
    }
   ],
   "source": [
    "#Now,\n",
    "# Checking For Missing Values In Dataset\n",
    "df.isna().sum()"
   ]
  },
  {
   "cell_type": "markdown",
   "id": "e210b4ff",
   "metadata": {},
   "source": [
    "# Exploratry Data Analysis\n",
    "Lets explore the distribution of data as most models expect normal distribution and lets check for correlated features. Highly correlated features do not add value.\n",
    "\n",
    "The visualization is with respect to the target variable 'status':"
   ]
  },
  {
   "cell_type": "code",
   "execution_count": 74,
   "id": "c56bc90f",
   "metadata": {},
   "outputs": [
    {
     "data": {
      "text/plain": [
       "<AxesSubplot:xlabel='status', ylabel='count'>"
      ]
     },
     "execution_count": 74,
     "metadata": {},
     "output_type": "execute_result"
    },
    {
     "data": {
      "image/png": "[encoded data removed]",
      "text/plain": [
       "<Figure size 432x288 with 1 Axes>"
      ]
     },
     "metadata": {
      "needs_background": "light"
     },
     "output_type": "display_data"
    }
   ],
   "source": [
    "### we check if status is balanced\n",
    "sns.countplot(x='status',data=df)"
   ]
  },
  {
   "cell_type": "markdown",
   "id": "0ab1e81c",
   "metadata": {},
   "source": [
    "The barplot shown (above) clearly shows that most of the observations given in the dataset have a status of 1 i.e most of the people's represented in the dataset have been prone to parkinsons disease. This could also create a bias in the model.\n",
    "\n",
    "1 ----> Parkinson's Posetive\n",
    "\n",
    "0 ----> Healthy\n"
   ]
  },
  {
   "cell_type": "markdown",
   "id": "566e767f",
   "metadata": {},
   "source": [
    "##### Distribution\n"
   ]
  },
  {
   "cell_type": "code",
   "execution_count": 75,
   "id": "1ccf1e81",
   "metadata": {},
   "outputs": [
    {
     "data": {
      "image/png": "[encoded data removed]",
      "text/plain": [
       "<Figure size 1440x1080 with 25 Axes>"
      ]
     },
     "metadata": {
      "needs_background": "light"
     },
     "output_type": "display_data"
    }
   ],
   "source": [
    "df.hist(figsize=(20, 15))\n",
    "plt.show()"
   ]
  },
  {
   "cell_type": "markdown",
   "id": "28fad108",
   "metadata": {},
   "source": [
    "None of the variables have a normal distribution. They should be transformed later because most models expect a normal distribution."
   ]
  },
  {
   "cell_type": "code",
   "execution_count": 76,
   "id": "388ee0ad",
   "metadata": {},
   "outputs": [
    {
     "data": {
      "text/plain": [
       "<AxesSubplot:>"
      ]
     },
     "execution_count": 76,
     "metadata": {},
     "output_type": "execute_result"
    },
    {
     "data": {
      "image/png": "[encoded data removed]",
      "text/plain": [
       "<Figure size 1080x1080 with 2 Axes>"
      ]
     },
     "metadata": {
      "needs_background": "light"
     },
     "output_type": "display_data"
    }
   ],
   "source": [
    "# we check if there is correlation between features\n",
    "fig, ax = plt.subplots(figsize=(15,15))  \n",
    "sns.heatmap(df.corr(),annot=True,ax=ax)"
   ]
  },
  {
   "cell_type": "markdown",
   "id": "7f5565f5",
   "metadata": {},
   "source": [
    "As we can see from the Heatmap correlation, many features are highly correlated with one another. This is good to know, we can keep features that are not heavily correlated. "
   ]
  },
  {
   "cell_type": "code",
   "execution_count": 79,
   "id": "fbe380fc",
   "metadata": {},
   "outputs": [
    {
     "data": {
      "text/plain": [
       "22"
      ]
     },
     "execution_count": 79,
     "metadata": {},
     "output_type": "execute_result"
    }
   ],
   "source": [
    "len(df.columns)-1"
   ]
  },
  {
   "cell_type": "code",
   "execution_count": 80,
   "id": "444a7bfc",
   "metadata": {},
   "outputs": [
    {
     "data": {
      "text/plain": [
       "Index(['MDVP:Fhi(Hz)', 'MDVP:Flo(Hz)', 'Jitter:DDP', 'status', 'RPDE', 'DFA',\n",
       "       'spread2', 'D2', 'PPE'],\n",
       "      dtype='object')"
      ]
     },
     "execution_count": 80,
     "metadata": {},
     "output_type": "execute_result"
    }
   ],
   "source": [
    "corr = df.corr()\n",
    "\n",
    "# remove columns with a correlation higher than 0.8 as that means they are highly correlated\n",
    "filtered_corr = corr[((corr >= 0.8) | (corr <= -0.8)) & (corr != 1.0)]\n",
    "flattened = filtered_corr.unstack().sort_values().drop_duplicates()\n",
    "to_remove = pd.DataFrame(flattened).reset_index()['level_1'].tolist()\n",
    "filtered_df = df.drop(to_remove, axis=1)\n",
    "\n",
    "columns_to_use = filtered_df.columns\n",
    "\n",
    "columns_to_use"
   ]
  },
  {
   "cell_type": "markdown",
   "id": "3d7ed0f9",
   "metadata": {},
   "source": [
    "These features provide most information to predict the status although `status` should ofcourse be removed."
   ]
  },
  {
   "cell_type": "markdown",
   "id": "037235f3",
   "metadata": {},
   "source": [
    "# Prepare Dataset\n",
    "Here as we can find out the Dataset is Imbalanced, with Number of Samples of Parkinson Disease Samples being 147, and Non-Parkinson Being only 48. Then, here we SMOTE to Oversample and Balance the dataset. We assume that the model will be able to learn easier if the dataset is balanced."
   ]
  },
  {
   "cell_type": "code",
   "execution_count": 81,
   "id": "9d85e855",
   "metadata": {},
   "outputs": [
    {
     "data": {
      "text/plain": [
       "1    147\n",
       "0     48\n",
       "Name: status, dtype: int64"
      ]
     },
     "execution_count": 81,
     "metadata": {},
     "output_type": "execute_result"
    }
   ],
   "source": [
    "# Exploring Imabalance In Dataset\n",
    "df['status'].value_counts()"
   ]
  },
  {
   "cell_type": "code",
   "execution_count": 82,
   "id": "93f1ce2e",
   "metadata": {},
   "outputs": [
    {
     "name": "stdout",
     "output_type": "stream",
     "text": [
      "Feature (X) Shape Before Balancing : (195, 22)\n",
      "Target (y) Shape Before Balancing : (195,)\n"
     ]
    }
   ],
   "source": [
    "# Extracting Features Into Features & Target\n",
    "X = df.drop(['status'], axis=1)\n",
    "y = df['status']\n",
    "\n",
    "print('Feature (X) Shape Before Balancing :', X.shape)\n",
    "print('Target (y) Shape Before Balancing :', y.shape)"
   ]
  },
  {
   "cell_type": "code",
   "execution_count": 83,
   "id": "803de24a",
   "metadata": {},
   "outputs": [],
   "source": [
    "# Intialising SMOTE Object\n",
    "sm = SMOTE(random_state=300)"
   ]
  },
  {
   "cell_type": "code",
   "execution_count": 84,
   "id": "15f255f4",
   "metadata": {},
   "outputs": [],
   "source": [
    "# Resampling Data\n",
    "X, y = sm.fit_resample(X, y)"
   ]
  },
  {
   "cell_type": "code",
   "execution_count": 85,
   "id": "4c97d8b6",
   "metadata": {},
   "outputs": [
    {
     "name": "stdout",
     "output_type": "stream",
     "text": [
      "Feature (X) Shape After Balancing : (294, 22)\n",
      "Target (y) Shape After Balancing : (294,)\n"
     ]
    }
   ],
   "source": [
    "print('Feature (X) Shape After Balancing :', X.shape)\n",
    "print('Target (y) Shape After Balancing :', y.shape)"
   ]
  },
  {
   "cell_type": "code",
   "execution_count": 86,
   "id": "5476e3a8",
   "metadata": {},
   "outputs": [
    {
     "data": {
      "text/plain": [
       "<AxesSubplot:xlabel='status', ylabel='count'>"
      ]
     },
     "execution_count": 86,
     "metadata": {},
     "output_type": "execute_result"
    },
    {
     "data": {
      "image/png": "[encoded data removed]",
      "text/plain": [
       "<Figure size 432x288 with 1 Axes>"
      ]
     },
     "metadata": {
      "needs_background": "light"
     },
     "output_type": "display_data"
    }
   ],
   "source": [
    "sns.countplot(x=y)"
   ]
  },
  {
   "cell_type": "markdown",
   "id": "b28b1efa",
   "metadata": {},
   "source": [
    "##### Transform"
   ]
  },
  {
   "cell_type": "code",
   "execution_count": 87,
   "id": "fd7b2669",
   "metadata": {},
   "outputs": [
    {
     "data": {
      "image/png": "[encoded data removed]",
      "text/plain": [
       "<Figure size 1080x1080 with 25 Axes>"
      ]
     },
     "metadata": {
      "needs_background": "light"
     },
     "output_type": "display_data"
    }
   ],
   "source": [
    "for col in X.columns:\n",
    "    if all(X[col] > 0):\n",
    "        trans, _ = stats.boxcox(X[col])\n",
    "        X[col] = trans\n",
    "        \n",
    "X.hist(figsize=(15, 15))\n",
    "plt.show()"
   ]
  },
  {
   "cell_type": "markdown",
   "id": "eb9e1aef",
   "metadata": {},
   "source": [
    "Now the data is more normally distributed. Although some are still not normally distributed."
   ]
  },
  {
   "cell_type": "markdown",
   "id": "eecc88f1",
   "metadata": {},
   "source": [
    "##### Selection\n",
    "As mentioned earlier I only use 'HNR','MDVP:Flo(Hz)','MDVP:Fhi(Hz)','MDVP:Fo(Hz)' because the boxplot shows that they are very different between healthy and parkinsons patients."
   ]
  },
  {
   "cell_type": "code",
   "execution_count": 89,
   "id": "84a9bd58",
   "metadata": {},
   "outputs": [],
   "source": [
    "selection = ['MDVP:Fhi(Hz)', 'MDVP:Flo(Hz)', 'Jitter:DDP', 'RPDE', 'DFA',\n",
    "       'spread2', 'D2', 'PPE']\n",
    "X_sub = X[selection]"
   ]
  },
  {
   "cell_type": "markdown",
   "id": "7c938600",
   "metadata": {},
   "source": [
    "##### Scale"
   ]
  },
  {
   "cell_type": "code",
   "execution_count": 90,
   "id": "4bbf9d21",
   "metadata": {},
   "outputs": [],
   "source": [
    "# Scaling features between -1 and 1  for mormalization \n",
    "scaler = MinMaxScaler((-1,1))"
   ]
  },
  {
   "cell_type": "code",
   "execution_count": 91,
   "id": "a7644ab7",
   "metadata": {},
   "outputs": [],
   "source": [
    "# define X_features , Y_labels\n",
    "X_features = scaler.fit_transform(X_sub)\n",
    "Y_labels = y"
   ]
  },
  {
   "cell_type": "code",
   "execution_count": 92,
   "id": "eaa7d397",
   "metadata": {},
   "outputs": [],
   "source": [
    "# splitting the dataset into traning and testing sets into 80 - 20\n",
    "from sklearn.model_selection import train_test_split\n",
    "X_train , X_test , y_train , y_test = train_test_split(X_features, Y_labels , test_size=0.20, random_state=20)"
   ]
  },
  {
   "cell_type": "markdown",
   "id": "6fb1732c",
   "metadata": {},
   "source": [
    "# Machine Learning Model Training\n",
    "It is good to use several machine learning models. Every machine learning model has it's own strength.\n",
    "\n",
    "##### Now we want to use  Machine Learning Models for training the data:\n",
    "\n",
    "*Decision Tree Classifier*: it is good at classifying using a tree. It can lead to overfitting.\n",
    "\n",
    "*Logistic Regression*: good for binary classification.\n",
    "\n",
    "*SVM*: can linearly separate data using higher dimensions.\n",
    "\n",
    "*Naive Bayes*: a probabilistic framework\n",
    "\n",
    "*XGBoost Classifier*: one of the best models."
   ]
  },
  {
   "cell_type": "markdown",
   "id": "4dac3951",
   "metadata": {},
   "source": [
    "## Decision Tree Classifier"
   ]
  },
  {
   "cell_type": "code",
   "execution_count": 93,
   "id": "d0935b2c",
   "metadata": {
    "scrolled": true
   },
   "outputs": [
    {
     "name": "stdout",
     "output_type": "stream",
     "text": [
      "              precision    recall  f1-score   support\n",
      "\n",
      "           0       0.88      0.91      0.90        33\n",
      "           1       0.88      0.85      0.86        26\n",
      "\n",
      "    accuracy                           0.88        59\n",
      "   macro avg       0.88      0.88      0.88        59\n",
      "weighted avg       0.88      0.88      0.88        59\n",
      "\n"
     ]
    }
   ],
   "source": [
    "#Decision Tree Classifier\n",
    "\n",
    "clf = DecisionTreeClassifier()\n",
    "clf.fit(X_train, y_train)\n",
    "predDT = clf.predict(X_test)\n",
    "\n",
    "print(classification_report(y_test, predDT))"
   ]
  },
  {
   "cell_type": "markdown",
   "id": "2f76c552",
   "metadata": {},
   "source": [
    "In General if we have  imbalanced dataset , we  probably would be prefare to assign a greater contribution to classes with more examples.Although in  balanced dataset its more understandable metric for overall performance regardless of the class. Then we ,can go with accuracy, which is essentially our micro F1 score.\n",
    "\n",
    "\n",
    " As we can see here the accuracy its not great but in comparisson with other models its Good 93%\n",
    "\n",
    "We can also use GridSearch to find the optimal hyperparameters for the classifier."
   ]
  },
  {
   "cell_type": "code",
   "execution_count": 94,
   "id": "c34730fd",
   "metadata": {
    "scrolled": false
   },
   "outputs": [],
   "source": [
    "param_grid = { \n",
    "    'max_features': ['auto', 'sqrt', 'log2'],\n",
    "    'max_depth' :range(1,10),\n",
    "    'random_state':range(30,210,30),\n",
    "    'criterion' :['gini', 'entropy']\n",
    "}\n",
    "CV_dt = GridSearchCV(estimator=clf, param_grid=param_grid, cv= 5)\n",
    "CV_dt.fit(X_train, y_train)\n",
    "import warnings\n",
    "warnings.simplefilter(\"ignore\")"
   ]
  },
  {
   "cell_type": "code",
   "execution_count": 95,
   "id": "b1878b56",
   "metadata": {},
   "outputs": [
    {
     "data": {
      "text/plain": [
       "{'criterion': 'gini',\n",
       " 'max_depth': 8,\n",
       " 'max_features': 'log2',\n",
       " 'random_state': 60}"
      ]
     },
     "execution_count": 95,
     "metadata": {},
     "output_type": "execute_result"
    }
   ],
   "source": [
    "CV_dt.best_params_"
   ]
  },
  {
   "cell_type": "code",
   "execution_count": 96,
   "id": "acc1e89d",
   "metadata": {
    "scrolled": true
   },
   "outputs": [
    {
     "name": "stdout",
     "output_type": "stream",
     "text": [
      "              precision    recall  f1-score   support\n",
      "\n",
      "           0       0.90      0.85      0.88        33\n",
      "           1       0.82      0.88      0.85        26\n",
      "\n",
      "    accuracy                           0.86        59\n",
      "   macro avg       0.86      0.87      0.86        59\n",
      "weighted avg       0.87      0.86      0.86        59\n",
      "\n"
     ]
    }
   ],
   "source": [
    "dt1=DecisionTreeClassifier(random_state=60, max_features='log2', max_depth=8, criterion='gini')\n",
    "dt1.fit(X_train, y_train)\n",
    "predDT = dt1.predict(X_test) \n",
    "print(classification_report(y_test, predDT))\n"
   ]
  },
  {
   "cell_type": "markdown",
   "id": "7e852965",
   "metadata": {},
   "source": [
    "As we can see DecisionTree is a accurate model for classification of parkinson data. It has an accuracy and f1 score of 0.86. This is not better than the baseline. But this can be due to stochastic nature."
   ]
  },
  {
   "cell_type": "code",
   "execution_count": 97,
   "id": "b7b321f7",
   "metadata": {},
   "outputs": [
    {
     "data": {
      "image/png": "[encoded data removed]",
      "text/plain": [
       "<Figure size 432x288 with 2 Axes>"
      ]
     },
     "metadata": {
      "needs_background": "light"
     },
     "output_type": "display_data"
    }
   ],
   "source": [
    "plot_confusion_matrix(dt1, X_test, y_test, cmap=plt.cm.Reds) \n",
    "plt.title('Confusion matrix for Decision Tree', y=1.1)\n",
    "plt.show()"
   ]
  },
  {
   "cell_type": "markdown",
   "id": "7ed0ea84",
   "metadata": {},
   "source": [
    "The model is descent. However, we misclassify 5 people with parkinson and 3 people as healthy while they have parkinson. That is not that good."
   ]
  },
  {
   "cell_type": "code",
   "execution_count": 98,
   "id": "783d9e76",
   "metadata": {},
   "outputs": [
    {
     "data": {
      "image/png": "[encoded data removed]",
      "text/plain": [
       "<Figure size 432x288 with 1 Axes>"
      ]
     },
     "metadata": {
      "needs_background": "light"
     },
     "output_type": "display_data"
    }
   ],
   "source": [
    "y_pred_proba = dt1.predict_proba(X_test)[::,1]\n",
    "fpr, tpr, _ = metrics.roc_curve(y_test,  y_pred_proba)\n",
    "auc = metrics.roc_auc_score(y_test, y_pred_proba)\n",
    "plt.plot(fpr,tpr,label=\"data 1, auc=\"+str(auc), c=\"r\")\n",
    "plt.legend(loc=4)\n",
    "plt.show()"
   ]
  },
  {
   "cell_type": "markdown",
   "id": "dd334f90",
   "metadata": {},
   "source": [
    "'''The Area Under the Curve (AUC) measures how well a classifier can distinguish between classes and provides a summary of the ROC curve.\n",
    "AUC indicates how well a model can distinguish between positive and negative classes.\n",
    "https://www.analyticsvidhya.com \n",
    "'''\n"
   ]
  },
  {
   "cell_type": "markdown",
   "id": "05765ea0",
   "metadata": {},
   "source": [
    "As we can see here in plot above the AUC is close to 1 and it showes in this model is quite nice"
   ]
  },
  {
   "cell_type": "code",
   "execution_count": 99,
   "id": "87223da2",
   "metadata": {},
   "outputs": [
    {
     "data": {
      "text/plain": [
       "['dt_clf.pkl']"
      ]
     },
     "execution_count": 99,
     "metadata": {},
     "output_type": "execute_result"
    }
   ],
   "source": [
    "# Dumping Decision Tree Classifier\n",
    "joblib.dump(dt1, 'dt_clf.pkl')"
   ]
  },
  {
   "cell_type": "markdown",
   "id": "a8dc042e",
   "metadata": {},
   "source": [
    "## Logistic Regression"
   ]
  },
  {
   "cell_type": "code",
   "execution_count": 100,
   "id": "da9a42de",
   "metadata": {},
   "outputs": [],
   "source": [
    "logmodel = LogisticRegression()\n",
    "logmodel.fit(X_train, y_train)\n",
    "predlog = logmodel.predict(X_test)"
   ]
  },
  {
   "cell_type": "code",
   "execution_count": 101,
   "id": "5ffcc87f",
   "metadata": {},
   "outputs": [
    {
     "name": "stdout",
     "output_type": "stream",
     "text": [
      "              precision    recall  f1-score   support\n",
      "\n",
      "           0       0.77      0.82      0.79        33\n",
      "           1       0.75      0.69      0.72        26\n",
      "\n",
      "    accuracy                           0.76        59\n",
      "   macro avg       0.76      0.76      0.76        59\n",
      "weighted avg       0.76      0.76      0.76        59\n",
      "\n",
      "Confusion Matrix:\n"
     ]
    },
    {
     "data": {
      "text/plain": [
       "array([[27,  6],\n",
       "       [ 8, 18]], dtype=int64)"
      ]
     },
     "execution_count": 101,
     "metadata": {},
     "output_type": "execute_result"
    }
   ],
   "source": [
    "\n",
    "print(classification_report(y_test, predlog))\n",
    "print(\"Confusion Matrix:\")\n",
    "confusion_matrix(y_test, predlog)"
   ]
  },
  {
   "cell_type": "markdown",
   "id": "77be6d32",
   "metadata": {},
   "source": [
    "Based on the outcomes The accuracy is not good enough then Logistic Regression is not a good model with 76% accuracy"
   ]
  },
  {
   "cell_type": "code",
   "execution_count": 102,
   "id": "7bcf4af8",
   "metadata": {},
   "outputs": [
    {
     "data": {
      "image/png": "[encoded data removed]",
      "text/plain": [
       "<Figure size 432x288 with 2 Axes>"
      ]
     },
     "metadata": {
      "needs_background": "light"
     },
     "output_type": "display_data"
    }
   ],
   "source": [
    "plot_confusion_matrix(logmodel, X_test, y_test, cmap=plt.cm.Reds) \n",
    "plt.title('Confusion matrix for Logistic Regression', y=1.1)\n",
    "plt.show()"
   ]
  },
  {
   "cell_type": "markdown",
   "id": "0fd5a460",
   "metadata": {},
   "source": [
    " Here we see they are more false negative  rather than the other models and the accuracy its not good enough though that coul not be a good model in our case"
   ]
  },
  {
   "cell_type": "code",
   "execution_count": 103,
   "id": "61c91ecf",
   "metadata": {},
   "outputs": [
    {
     "data": {
      "image/png": "[encoded data removed]",
      "text/plain": [
       "<Figure size 432x288 with 1 Axes>"
      ]
     },
     "metadata": {
      "needs_background": "light"
     },
     "output_type": "display_data"
    }
   ],
   "source": [
    "y_pred_proba = logmodel.predict_proba(X_test)[::,1]\n",
    "fpr, tpr, _ = metrics.roc_curve(y_test,  y_pred_proba)\n",
    "auc = metrics.roc_auc_score(y_test, y_pred_proba)\n",
    "plt.plot(fpr,tpr,label=\"data 1, auc=\"+str(auc), c=\"r\")\n",
    "plt.legend(loc=4)\n",
    "plt.show()"
   ]
  },
  {
   "cell_type": "markdown",
   "id": "ad3f160b",
   "metadata": {},
   "source": [
    " As we can see here in plot above the AUC is 87% which shows the model is not good enough"
   ]
  },
  {
   "cell_type": "code",
   "execution_count": 104,
   "id": "386ee992",
   "metadata": {},
   "outputs": [
    {
     "data": {
      "text/plain": [
       "['lg_clf.pkl']"
      ]
     },
     "execution_count": 104,
     "metadata": {},
     "output_type": "execute_result"
    }
   ],
   "source": [
    "# Dumping Logistic Regression Model\n",
    "joblib.dump(logmodel, 'lg_clf.pkl')"
   ]
  },
  {
   "cell_type": "markdown",
   "id": "5ad22133",
   "metadata": {},
   "source": [
    "## SVM\n"
   ]
  },
  {
   "cell_type": "code",
   "execution_count": 105,
   "id": "3e14e3d2",
   "metadata": {},
   "outputs": [
    {
     "name": "stdout",
     "output_type": "stream",
     "text": [
      "Test Set Accuracy: 0.8305084745762712\n",
      "Train Set Accuracy: 0.8212765957446808\n"
     ]
    }
   ],
   "source": [
    "# SVM With Linear Kernel\n",
    "#Create a svm Classifier\n",
    "clf = svm.SVC(kernel='linear', probability=True) # Linear Kernel\n",
    "\n",
    "#Train the model using the training sets\n",
    "clf.fit(X_train, y_train)\n",
    "\n",
    "#Predict the response for test dataset\n",
    "y_pred = clf.predict(X_test)\n",
    "\n",
    "# Model Accuracy: how often is the classifier correct?\n",
    "print(\"Test Set Accuracy:\",metrics.accuracy_score(y_test, y_pred))\n",
    "\n",
    "X_pred = clf.predict(X_train)\n",
    "print(\"Train Set Accuracy:\",metrics.accuracy_score(y_train, X_pred))"
   ]
  },
  {
   "cell_type": "code",
   "execution_count": 106,
   "id": "91c38e5a",
   "metadata": {
    "scrolled": true
   },
   "outputs": [
    {
     "name": "stdout",
     "output_type": "stream",
     "text": [
      "Fitting 5 folds for each of 60 candidates, totalling 300 fits\n",
      "[CV 1/5] END .....C=0.5, gamma=1, kernel=linear;, score=0.809 total time=   0.0s\n",
      "[CV 2/5] END .....C=0.5, gamma=1, kernel=linear;, score=0.818 total time=   0.0s\n",
      "[CV 3/5] END .....C=0.5, gamma=1, kernel=linear;, score=0.792 total time=   0.0s\n",
      "[CV 4/5] END .....C=0.5, gamma=1, kernel=linear;, score=0.844 total time=   0.0s\n",
      "[CV 5/5] END .....C=0.5, gamma=1, kernel=linear;, score=0.791 total time=   0.0s\n",
      "[CV 1/5] END ........C=0.5, gamma=1, kernel=rbf;, score=0.875 total time=   0.0s\n",
      "[CV 2/5] END ........C=0.5, gamma=1, kernel=rbf;, score=0.913 total time=   0.0s\n",
      "[CV 3/5] END ........C=0.5, gamma=1, kernel=rbf;, score=0.913 total time=   0.0s\n",
      "[CV 4/5] END ........C=0.5, gamma=1, kernel=rbf;, score=0.957 total time=   0.0s\n",
      "[CV 5/5] END ........C=0.5, gamma=1, kernel=rbf;, score=0.933 total time=   0.0s\n",
      "[CV 1/5] END .......C=0.5, gamma=1, kernel=poly;, score=0.780 total time=   0.0s\n",
      "[CV 2/5] END .......C=0.5, gamma=1, kernel=poly;, score=0.864 total time=   0.0s\n",
      "[CV 3/5] END .......C=0.5, gamma=1, kernel=poly;, score=0.884 total time=   0.0s\n",
      "[CV 4/5] END .......C=0.5, gamma=1, kernel=poly;, score=0.957 total time=   0.0s\n",
      "[CV 5/5] END .......C=0.5, gamma=1, kernel=poly;, score=0.857 total time=   0.0s\n",
      "[CV 1/5] END ...C=0.5, gamma=0.1, kernel=linear;, score=0.809 total time=   0.0s\n",
      "[CV 2/5] END ...C=0.5, gamma=0.1, kernel=linear;, score=0.818 total time=   0.0s\n",
      "[CV 3/5] END ...C=0.5, gamma=0.1, kernel=linear;, score=0.792 total time=   0.0s\n",
      "[CV 4/5] END ...C=0.5, gamma=0.1, kernel=linear;, score=0.844 total time=   0.0s\n",
      "[CV 5/5] END ...C=0.5, gamma=0.1, kernel=linear;, score=0.791 total time=   0.0s\n",
      "[CV 1/5] END ......C=0.5, gamma=0.1, kernel=rbf;, score=0.750 total time=   0.0s\n",
      "[CV 2/5] END ......C=0.5, gamma=0.1, kernel=rbf;, score=0.800 total time=   0.0s\n",
      "[CV 3/5] END ......C=0.5, gamma=0.1, kernel=rbf;, score=0.808 total time=   0.0s\n",
      "[CV 4/5] END ......C=0.5, gamma=0.1, kernel=rbf;, score=0.776 total time=   0.0s\n",
      "[CV 5/5] END ......C=0.5, gamma=0.1, kernel=rbf;, score=0.864 total time=   0.0s\n",
      "[CV 1/5] END .....C=0.5, gamma=0.1, kernel=poly;, score=0.694 total time=   0.0s\n",
      "[CV 2/5] END .....C=0.5, gamma=0.1, kernel=poly;, score=0.676 total time=   0.0s\n",
      "[CV 3/5] END .....C=0.5, gamma=0.1, kernel=poly;, score=0.676 total time=   0.0s\n",
      "[CV 4/5] END .....C=0.5, gamma=0.1, kernel=poly;, score=0.676 total time=   0.0s\n",
      "[CV 5/5] END .....C=0.5, gamma=0.1, kernel=poly;, score=0.676 total time=   0.0s\n",
      "[CV 1/5] END ..C=0.5, gamma=0.01, kernel=linear;, score=0.809 total time=   0.0s\n",
      "[CV 2/5] END ..C=0.5, gamma=0.01, kernel=linear;, score=0.818 total time=   0.0s\n",
      "[CV 3/5] END ..C=0.5, gamma=0.01, kernel=linear;, score=0.792 total time=   0.0s\n",
      "[CV 4/5] END ..C=0.5, gamma=0.01, kernel=linear;, score=0.844 total time=   0.0s\n",
      "[CV 5/5] END ..C=0.5, gamma=0.01, kernel=linear;, score=0.791 total time=   0.0s\n",
      "[CV 1/5] END .....C=0.5, gamma=0.01, kernel=rbf;, score=0.772 total time=   0.0s\n",
      "[CV 2/5] END .....C=0.5, gamma=0.01, kernel=rbf;, score=0.714 total time=   0.0s\n",
      "[CV 3/5] END .....C=0.5, gamma=0.01, kernel=rbf;, score=0.721 total time=   0.0s\n",
      "[CV 4/5] END .....C=0.5, gamma=0.01, kernel=rbf;, score=0.754 total time=   0.0s\n",
      "[CV 5/5] END .....C=0.5, gamma=0.01, kernel=rbf;, score=0.755 total time=   0.0s\n",
      "[CV 1/5] END ....C=0.5, gamma=0.01, kernel=poly;, score=0.694 total time=   0.0s\n",
      "[CV 2/5] END ....C=0.5, gamma=0.01, kernel=poly;, score=0.676 total time=   0.0s\n",
      "[CV 3/5] END ....C=0.5, gamma=0.01, kernel=poly;, score=0.676 total time=   0.0s\n",
      "[CV 4/5] END ....C=0.5, gamma=0.01, kernel=poly;, score=0.676 total time=   0.0s\n",
      "[CV 5/5] END ....C=0.5, gamma=0.01, kernel=poly;, score=0.676 total time=   0.0s\n",
      "[CV 1/5] END .C=0.5, gamma=0.001, kernel=linear;, score=0.809 total time=   0.0s\n",
      "[CV 2/5] END .C=0.5, gamma=0.001, kernel=linear;, score=0.818 total time=   0.0s\n",
      "[CV 3/5] END .C=0.5, gamma=0.001, kernel=linear;, score=0.792 total time=   0.0s\n",
      "[CV 4/5] END .C=0.5, gamma=0.001, kernel=linear;, score=0.844 total time=   0.0s\n",
      "[CV 5/5] END .C=0.5, gamma=0.001, kernel=linear;, score=0.791 total time=   0.0s\n",
      "[CV 1/5] END ....C=0.5, gamma=0.001, kernel=rbf;, score=0.694 total time=   0.0s\n",
      "[CV 2/5] END ....C=0.5, gamma=0.001, kernel=rbf;, score=0.676 total time=   0.0s\n",
      "[CV 3/5] END ....C=0.5, gamma=0.001, kernel=rbf;, score=0.676 total time=   0.0s\n",
      "[CV 4/5] END ....C=0.5, gamma=0.001, kernel=rbf;, score=0.676 total time=   0.0s\n",
      "[CV 5/5] END ....C=0.5, gamma=0.001, kernel=rbf;, score=0.676 total time=   0.0s\n",
      "[CV 1/5] END ...C=0.5, gamma=0.001, kernel=poly;, score=0.694 total time=   0.0s\n",
      "[CV 2/5] END ...C=0.5, gamma=0.001, kernel=poly;, score=0.676 total time=   0.0s\n",
      "[CV 3/5] END ...C=0.5, gamma=0.001, kernel=poly;, score=0.676 total time=   0.0s\n",
      "[CV 4/5] END ...C=0.5, gamma=0.001, kernel=poly;, score=0.676 total time=   0.0s\n",
      "[CV 5/5] END ...C=0.5, gamma=0.001, kernel=poly;, score=0.676 total time=   0.0s\n",
      "[CV 1/5] END C=0.5, gamma=0.0001, kernel=linear;, score=0.809 total time=   0.0s\n",
      "[CV 2/5] END C=0.5, gamma=0.0001, kernel=linear;, score=0.818 total time=   0.0s\n",
      "[CV 3/5] END C=0.5, gamma=0.0001, kernel=linear;, score=0.792 total time=   0.0s\n",
      "[CV 4/5] END C=0.5, gamma=0.0001, kernel=linear;, score=0.844 total time=   0.0s\n",
      "[CV 5/5] END C=0.5, gamma=0.0001, kernel=linear;, score=0.791 total time=   0.0s\n",
      "[CV 1/5] END ...C=0.5, gamma=0.0001, kernel=rbf;, score=0.694 total time=   0.0s\n",
      "[CV 2/5] END ...C=0.5, gamma=0.0001, kernel=rbf;, score=0.676 total time=   0.0s\n",
      "[CV 3/5] END ...C=0.5, gamma=0.0001, kernel=rbf;, score=0.676 total time=   0.0s\n",
      "[CV 4/5] END ...C=0.5, gamma=0.0001, kernel=rbf;, score=0.676 total time=   0.0s\n",
      "[CV 5/5] END ...C=0.5, gamma=0.0001, kernel=rbf;, score=0.676 total time=   0.0s\n",
      "[CV 1/5] END ..C=0.5, gamma=0.0001, kernel=poly;, score=0.694 total time=   0.0s\n",
      "[CV 2/5] END ..C=0.5, gamma=0.0001, kernel=poly;, score=0.676 total time=   0.0s\n",
      "[CV 3/5] END ..C=0.5, gamma=0.0001, kernel=poly;, score=0.676 total time=   0.0s\n",
      "[CV 4/5] END ..C=0.5, gamma=0.0001, kernel=poly;, score=0.676 total time=   0.0s\n",
      "[CV 5/5] END ..C=0.5, gamma=0.0001, kernel=poly;, score=0.676 total time=   0.0s\n",
      "[CV 1/5] END .......C=1, gamma=1, kernel=linear;, score=0.800 total time=   0.0s\n",
      "[CV 2/5] END .......C=1, gamma=1, kernel=linear;, score=0.837 total time=   0.0s\n",
      "[CV 3/5] END .......C=1, gamma=1, kernel=linear;, score=0.792 total time=   0.0s\n",
      "[CV 4/5] END .......C=1, gamma=1, kernel=linear;, score=0.800 total time=   0.0s\n",
      "[CV 5/5] END .......C=1, gamma=1, kernel=linear;, score=0.818 total time=   0.0s\n",
      "[CV 1/5] END ..........C=1, gamma=1, kernel=rbf;, score=0.939 total time=   0.0s\n",
      "[CV 2/5] END ..........C=1, gamma=1, kernel=rbf;, score=0.936 total time=   0.0s\n",
      "[CV 3/5] END ..........C=1, gamma=1, kernel=rbf;, score=0.913 total time=   0.0s\n",
      "[CV 4/5] END ..........C=1, gamma=1, kernel=rbf;, score=0.979 total time=   0.0s\n",
      "[CV 5/5] END ..........C=1, gamma=1, kernel=rbf;, score=0.933 total time=   0.0s\n",
      "[CV 1/5] END .........C=1, gamma=1, kernel=poly;, score=0.818 total time=   0.0s\n",
      "[CV 2/5] END .........C=1, gamma=1, kernel=poly;, score=0.889 total time=   0.0s\n",
      "[CV 3/5] END .........C=1, gamma=1, kernel=poly;, score=0.884 total time=   0.0s\n",
      "[CV 4/5] END .........C=1, gamma=1, kernel=poly;, score=0.957 total time=   0.0s\n",
      "[CV 5/5] END .........C=1, gamma=1, kernel=poly;, score=0.884 total time=   0.0s\n",
      "[CV 1/5] END .....C=1, gamma=0.1, kernel=linear;, score=0.800 total time=   0.0s\n",
      "[CV 2/5] END .....C=1, gamma=0.1, kernel=linear;, score=0.837 total time=   0.0s\n",
      "[CV 3/5] END .....C=1, gamma=0.1, kernel=linear;, score=0.792 total time=   0.0s\n",
      "[CV 4/5] END .....C=1, gamma=0.1, kernel=linear;, score=0.800 total time=   0.0s\n",
      "[CV 5/5] END .....C=1, gamma=0.1, kernel=linear;, score=0.818 total time=   0.0s\n",
      "[CV 1/5] END ........C=1, gamma=0.1, kernel=rbf;, score=0.870 total time=   0.0s\n",
      "[CV 2/5] END ........C=1, gamma=0.1, kernel=rbf;, score=0.800 total time=   0.0s\n",
      "[CV 3/5] END ........C=1, gamma=0.1, kernel=rbf;, score=0.816 total time=   0.0s\n",
      "[CV 4/5] END ........C=1, gamma=0.1, kernel=rbf;, score=0.800 total time=   0.0s\n",
      "[CV 5/5] END ........C=1, gamma=0.1, kernel=rbf;, score=0.844 total time=   0.0s\n",
      "[CV 1/5] END .......C=1, gamma=0.1, kernel=poly;, score=0.694 total time=   0.0s\n",
      "[CV 2/5] END .......C=1, gamma=0.1, kernel=poly;, score=0.676 total time=   0.0s\n"
     ]
    },
    {
     "name": "stdout",
     "output_type": "stream",
     "text": [
      "[CV 3/5] END .......C=1, gamma=0.1, kernel=poly;, score=0.676 total time=   0.0s\n",
      "[CV 4/5] END .......C=1, gamma=0.1, kernel=poly;, score=0.676 total time=   0.0s\n",
      "[CV 5/5] END .......C=1, gamma=0.1, kernel=poly;, score=0.676 total time=   0.0s\n",
      "[CV 1/5] END ....C=1, gamma=0.01, kernel=linear;, score=0.800 total time=   0.0s\n",
      "[CV 2/5] END ....C=1, gamma=0.01, kernel=linear;, score=0.837 total time=   0.0s\n",
      "[CV 3/5] END ....C=1, gamma=0.01, kernel=linear;, score=0.792 total time=   0.0s\n",
      "[CV 4/5] END ....C=1, gamma=0.01, kernel=linear;, score=0.800 total time=   0.0s\n",
      "[CV 5/5] END ....C=1, gamma=0.01, kernel=linear;, score=0.818 total time=   0.0s\n",
      "[CV 1/5] END .......C=1, gamma=0.01, kernel=rbf;, score=0.764 total time=   0.0s\n",
      "[CV 2/5] END .......C=1, gamma=0.01, kernel=rbf;, score=0.769 total time=   0.0s\n",
      "[CV 3/5] END .......C=1, gamma=0.01, kernel=rbf;, score=0.702 total time=   0.0s\n",
      "[CV 4/5] END .......C=1, gamma=0.01, kernel=rbf;, score=0.769 total time=   0.0s\n",
      "[CV 5/5] END .......C=1, gamma=0.01, kernel=rbf;, score=0.816 total time=   0.0s\n",
      "[CV 1/5] END ......C=1, gamma=0.01, kernel=poly;, score=0.694 total time=   0.0s\n",
      "[CV 2/5] END ......C=1, gamma=0.01, kernel=poly;, score=0.676 total time=   0.0s\n",
      "[CV 3/5] END ......C=1, gamma=0.01, kernel=poly;, score=0.676 total time=   0.0s\n",
      "[CV 4/5] END ......C=1, gamma=0.01, kernel=poly;, score=0.676 total time=   0.0s\n",
      "[CV 5/5] END ......C=1, gamma=0.01, kernel=poly;, score=0.676 total time=   0.0s\n",
      "[CV 1/5] END ...C=1, gamma=0.001, kernel=linear;, score=0.800 total time=   0.0s\n",
      "[CV 2/5] END ...C=1, gamma=0.001, kernel=linear;, score=0.837 total time=   0.0s\n",
      "[CV 3/5] END ...C=1, gamma=0.001, kernel=linear;, score=0.792 total time=   0.0s\n",
      "[CV 4/5] END ...C=1, gamma=0.001, kernel=linear;, score=0.800 total time=   0.0s\n",
      "[CV 5/5] END ...C=1, gamma=0.001, kernel=linear;, score=0.818 total time=   0.0s\n",
      "[CV 1/5] END ......C=1, gamma=0.001, kernel=rbf;, score=0.694 total time=   0.0s\n",
      "[CV 2/5] END ......C=1, gamma=0.001, kernel=rbf;, score=0.676 total time=   0.0s\n",
      "[CV 3/5] END ......C=1, gamma=0.001, kernel=rbf;, score=0.676 total time=   0.0s\n",
      "[CV 4/5] END ......C=1, gamma=0.001, kernel=rbf;, score=0.676 total time=   0.0s\n",
      "[CV 5/5] END ......C=1, gamma=0.001, kernel=rbf;, score=0.676 total time=   0.0s\n",
      "[CV 1/5] END .....C=1, gamma=0.001, kernel=poly;, score=0.694 total time=   0.0s\n",
      "[CV 2/5] END .....C=1, gamma=0.001, kernel=poly;, score=0.676 total time=   0.0s\n",
      "[CV 3/5] END .....C=1, gamma=0.001, kernel=poly;, score=0.676 total time=   0.0s\n",
      "[CV 4/5] END .....C=1, gamma=0.001, kernel=poly;, score=0.676 total time=   0.0s\n",
      "[CV 5/5] END .....C=1, gamma=0.001, kernel=poly;, score=0.676 total time=   0.0s\n",
      "[CV 1/5] END ..C=1, gamma=0.0001, kernel=linear;, score=0.800 total time=   0.0s\n",
      "[CV 2/5] END ..C=1, gamma=0.0001, kernel=linear;, score=0.837 total time=   0.0s\n",
      "[CV 3/5] END ..C=1, gamma=0.0001, kernel=linear;, score=0.792 total time=   0.0s\n",
      "[CV 4/5] END ..C=1, gamma=0.0001, kernel=linear;, score=0.800 total time=   0.0s\n",
      "[CV 5/5] END ..C=1, gamma=0.0001, kernel=linear;, score=0.818 total time=   0.0s\n",
      "[CV 1/5] END .....C=1, gamma=0.0001, kernel=rbf;, score=0.694 total time=   0.0s\n",
      "[CV 2/5] END .....C=1, gamma=0.0001, kernel=rbf;, score=0.676 total time=   0.0s\n",
      "[CV 3/5] END .....C=1, gamma=0.0001, kernel=rbf;, score=0.676 total time=   0.0s\n",
      "[CV 4/5] END .....C=1, gamma=0.0001, kernel=rbf;, score=0.676 total time=   0.0s\n",
      "[CV 5/5] END .....C=1, gamma=0.0001, kernel=rbf;, score=0.676 total time=   0.0s\n",
      "[CV 1/5] END ....C=1, gamma=0.0001, kernel=poly;, score=0.694 total time=   0.0s\n",
      "[CV 2/5] END ....C=1, gamma=0.0001, kernel=poly;, score=0.676 total time=   0.0s\n",
      "[CV 3/5] END ....C=1, gamma=0.0001, kernel=poly;, score=0.676 total time=   0.0s\n",
      "[CV 4/5] END ....C=1, gamma=0.0001, kernel=poly;, score=0.676 total time=   0.0s\n",
      "[CV 5/5] END ....C=1, gamma=0.0001, kernel=poly;, score=0.676 total time=   0.0s\n",
      "[CV 1/5] END ......C=10, gamma=1, kernel=linear;, score=0.783 total time=   0.0s\n",
      "[CV 2/5] END ......C=10, gamma=1, kernel=linear;, score=0.844 total time=   0.0s\n",
      "[CV 3/5] END ......C=10, gamma=1, kernel=linear;, score=0.750 total time=   0.0s\n",
      "[CV 4/5] END ......C=10, gamma=1, kernel=linear;, score=0.800 total time=   0.0s\n",
      "[CV 5/5] END ......C=10, gamma=1, kernel=linear;, score=0.800 total time=   0.0s\n",
      "[CV 1/5] END .........C=10, gamma=1, kernel=rbf;, score=0.939 total time=   0.0s\n",
      "[CV 2/5] END .........C=10, gamma=1, kernel=rbf;, score=0.958 total time=   0.0s\n",
      "[CV 3/5] END .........C=10, gamma=1, kernel=rbf;, score=0.957 total time=   0.0s\n",
      "[CV 4/5] END .........C=10, gamma=1, kernel=rbf;, score=0.979 total time=   0.0s\n",
      "[CV 5/5] END .........C=10, gamma=1, kernel=rbf;, score=0.957 total time=   0.0s\n",
      "[CV 1/5] END ........C=10, gamma=1, kernel=poly;, score=0.844 total time=   0.0s\n",
      "[CV 2/5] END ........C=10, gamma=1, kernel=poly;, score=0.889 total time=   0.0s\n",
      "[CV 3/5] END ........C=10, gamma=1, kernel=poly;, score=0.909 total time=   0.0s\n",
      "[CV 4/5] END ........C=10, gamma=1, kernel=poly;, score=0.957 total time=   0.0s\n",
      "[CV 5/5] END ........C=10, gamma=1, kernel=poly;, score=0.913 total time=   0.0s\n",
      "[CV 1/5] END ....C=10, gamma=0.1, kernel=linear;, score=0.783 total time=   0.0s\n",
      "[CV 2/5] END ....C=10, gamma=0.1, kernel=linear;, score=0.844 total time=   0.0s\n",
      "[CV 3/5] END ....C=10, gamma=0.1, kernel=linear;, score=0.750 total time=   0.0s\n",
      "[CV 4/5] END ....C=10, gamma=0.1, kernel=linear;, score=0.800 total time=   0.0s\n",
      "[CV 5/5] END ....C=10, gamma=0.1, kernel=linear;, score=0.800 total time=   0.0s\n",
      "[CV 1/5] END .......C=10, gamma=0.1, kernel=rbf;, score=0.851 total time=   0.0s\n",
      "[CV 2/5] END .......C=10, gamma=0.1, kernel=rbf;, score=0.889 total time=   0.0s\n",
      "[CV 3/5] END .......C=10, gamma=0.1, kernel=rbf;, score=0.851 total time=   0.0s\n",
      "[CV 4/5] END .......C=10, gamma=0.1, kernel=rbf;, score=0.909 total time=   0.0s\n",
      "[CV 5/5] END .......C=10, gamma=0.1, kernel=rbf;, score=0.913 total time=   0.0s\n",
      "[CV 1/5] END ......C=10, gamma=0.1, kernel=poly;, score=0.718 total time=   0.0s\n",
      "[CV 2/5] END ......C=10, gamma=0.1, kernel=poly;, score=0.769 total time=   0.0s\n",
      "[CV 3/5] END ......C=10, gamma=0.1, kernel=poly;, score=0.780 total time=   0.0s\n",
      "[CV 4/5] END ......C=10, gamma=0.1, kernel=poly;, score=0.769 total time=   0.0s\n",
      "[CV 5/5] END ......C=10, gamma=0.1, kernel=poly;, score=0.829 total time=   0.0s\n",
      "[CV 1/5] END ...C=10, gamma=0.01, kernel=linear;, score=0.783 total time=   0.0s\n",
      "[CV 2/5] END ...C=10, gamma=0.01, kernel=linear;, score=0.844 total time=   0.0s\n",
      "[CV 3/5] END ...C=10, gamma=0.01, kernel=linear;, score=0.750 total time=   0.0s\n",
      "[CV 4/5] END ...C=10, gamma=0.01, kernel=linear;, score=0.800 total time=   0.0s\n",
      "[CV 5/5] END ...C=10, gamma=0.01, kernel=linear;, score=0.800 total time=   0.0s\n",
      "[CV 1/5] END ......C=10, gamma=0.01, kernel=rbf;, score=0.800 total time=   0.0s\n",
      "[CV 2/5] END ......C=10, gamma=0.01, kernel=rbf;, score=0.800 total time=   0.0s\n",
      "[CV 3/5] END ......C=10, gamma=0.01, kernel=rbf;, score=0.784 total time=   0.0s\n",
      "[CV 4/5] END ......C=10, gamma=0.01, kernel=rbf;, score=0.766 total time=   0.0s\n",
      "[CV 5/5] END ......C=10, gamma=0.01, kernel=rbf;, score=0.844 total time=   0.0s\n",
      "[CV 1/5] END .....C=10, gamma=0.01, kernel=poly;, score=0.694 total time=   0.0s\n",
      "[CV 2/5] END .....C=10, gamma=0.01, kernel=poly;, score=0.676 total time=   0.0s\n",
      "[CV 3/5] END .....C=10, gamma=0.01, kernel=poly;, score=0.676 total time=   0.0s\n",
      "[CV 4/5] END .....C=10, gamma=0.01, kernel=poly;, score=0.676 total time=   0.0s\n",
      "[CV 5/5] END .....C=10, gamma=0.01, kernel=poly;, score=0.676 total time=   0.0s\n",
      "[CV 1/5] END ..C=10, gamma=0.001, kernel=linear;, score=0.783 total time=   0.0s\n",
      "[CV 2/5] END ..C=10, gamma=0.001, kernel=linear;, score=0.844 total time=   0.0s\n",
      "[CV 3/5] END ..C=10, gamma=0.001, kernel=linear;, score=0.750 total time=   0.0s\n",
      "[CV 4/5] END ..C=10, gamma=0.001, kernel=linear;, score=0.800 total time=   0.0s\n",
      "[CV 5/5] END ..C=10, gamma=0.001, kernel=linear;, score=0.800 total time=   0.0s\n",
      "[CV 1/5] END .....C=10, gamma=0.001, kernel=rbf;, score=0.764 total time=   0.0s\n",
      "[CV 2/5] END .....C=10, gamma=0.001, kernel=rbf;, score=0.769 total time=   0.0s\n",
      "[CV 3/5] END .....C=10, gamma=0.001, kernel=rbf;, score=0.702 total time=   0.0s\n",
      "[CV 4/5] END .....C=10, gamma=0.001, kernel=rbf;, score=0.769 total time=   0.0s\n",
      "[CV 5/5] END .....C=10, gamma=0.001, kernel=rbf;, score=0.816 total time=   0.0s\n",
      "[CV 1/5] END ....C=10, gamma=0.001, kernel=poly;, score=0.694 total time=   0.0s\n",
      "[CV 2/5] END ....C=10, gamma=0.001, kernel=poly;, score=0.676 total time=   0.0s\n",
      "[CV 3/5] END ....C=10, gamma=0.001, kernel=poly;, score=0.676 total time=   0.0s\n",
      "[CV 4/5] END ....C=10, gamma=0.001, kernel=poly;, score=0.676 total time=   0.0s\n",
      "[CV 5/5] END ....C=10, gamma=0.001, kernel=poly;, score=0.676 total time=   0.0s\n",
      "[CV 1/5] END .C=10, gamma=0.0001, kernel=linear;, score=0.783 total time=   0.0s\n",
      "[CV 2/5] END .C=10, gamma=0.0001, kernel=linear;, score=0.844 total time=   0.0s\n",
      "[CV 3/5] END .C=10, gamma=0.0001, kernel=linear;, score=0.750 total time=   0.0s\n",
      "[CV 4/5] END .C=10, gamma=0.0001, kernel=linear;, score=0.800 total time=   0.0s\n",
      "[CV 5/5] END .C=10, gamma=0.0001, kernel=linear;, score=0.800 total time=   0.0s\n",
      "[CV 1/5] END ....C=10, gamma=0.0001, kernel=rbf;, score=0.694 total time=   0.0s\n"
     ]
    },
    {
     "name": "stdout",
     "output_type": "stream",
     "text": [
      "[CV 2/5] END ....C=10, gamma=0.0001, kernel=rbf;, score=0.676 total time=   0.0s\n",
      "[CV 3/5] END ....C=10, gamma=0.0001, kernel=rbf;, score=0.676 total time=   0.0s\n",
      "[CV 4/5] END ....C=10, gamma=0.0001, kernel=rbf;, score=0.676 total time=   0.0s\n",
      "[CV 5/5] END ....C=10, gamma=0.0001, kernel=rbf;, score=0.676 total time=   0.0s\n",
      "[CV 1/5] END ...C=10, gamma=0.0001, kernel=poly;, score=0.694 total time=   0.0s\n",
      "[CV 2/5] END ...C=10, gamma=0.0001, kernel=poly;, score=0.676 total time=   0.0s\n",
      "[CV 3/5] END ...C=10, gamma=0.0001, kernel=poly;, score=0.676 total time=   0.0s\n",
      "[CV 4/5] END ...C=10, gamma=0.0001, kernel=poly;, score=0.676 total time=   0.0s\n",
      "[CV 5/5] END ...C=10, gamma=0.0001, kernel=poly;, score=0.676 total time=   0.0s\n",
      "[CV 1/5] END .....C=100, gamma=1, kernel=linear;, score=0.783 total time=   0.0s\n",
      "[CV 2/5] END .....C=100, gamma=1, kernel=linear;, score=0.844 total time=   0.0s\n",
      "[CV 3/5] END .....C=100, gamma=1, kernel=linear;, score=0.750 total time=   0.0s\n",
      "[CV 4/5] END .....C=100, gamma=1, kernel=linear;, score=0.744 total time=   0.0s\n",
      "[CV 5/5] END .....C=100, gamma=1, kernel=linear;, score=0.800 total time=   0.0s\n",
      "[CV 1/5] END ........C=100, gamma=1, kernel=rbf;, score=0.920 total time=   0.0s\n",
      "[CV 2/5] END ........C=100, gamma=1, kernel=rbf;, score=0.958 total time=   0.0s\n",
      "[CV 3/5] END ........C=100, gamma=1, kernel=rbf;, score=0.936 total time=   0.0s\n",
      "[CV 4/5] END ........C=100, gamma=1, kernel=rbf;, score=0.957 total time=   0.0s\n",
      "[CV 5/5] END ........C=100, gamma=1, kernel=rbf;, score=0.936 total time=   0.0s\n",
      "[CV 1/5] END .......C=100, gamma=1, kernel=poly;, score=0.870 total time=   0.0s\n",
      "[CV 2/5] END .......C=100, gamma=1, kernel=poly;, score=0.889 total time=   0.0s\n",
      "[CV 3/5] END .......C=100, gamma=1, kernel=poly;, score=0.884 total time=   0.0s\n",
      "[CV 4/5] END .......C=100, gamma=1, kernel=poly;, score=0.957 total time=   0.0s\n",
      "[CV 5/5] END .......C=100, gamma=1, kernel=poly;, score=0.844 total time=   0.0s\n",
      "[CV 1/5] END ...C=100, gamma=0.1, kernel=linear;, score=0.783 total time=   0.0s\n",
      "[CV 2/5] END ...C=100, gamma=0.1, kernel=linear;, score=0.844 total time=   0.0s\n",
      "[CV 3/5] END ...C=100, gamma=0.1, kernel=linear;, score=0.750 total time=   0.0s\n",
      "[CV 4/5] END ...C=100, gamma=0.1, kernel=linear;, score=0.744 total time=   0.0s\n",
      "[CV 5/5] END ...C=100, gamma=0.1, kernel=linear;, score=0.800 total time=   0.0s\n",
      "[CV 1/5] END ......C=100, gamma=0.1, kernel=rbf;, score=0.894 total time=   0.0s\n",
      "[CV 2/5] END ......C=100, gamma=0.1, kernel=rbf;, score=0.913 total time=   0.0s\n",
      "[CV 3/5] END ......C=100, gamma=0.1, kernel=rbf;, score=0.870 total time=   0.0s\n",
      "[CV 4/5] END ......C=100, gamma=0.1, kernel=rbf;, score=0.979 total time=   0.0s\n",
      "[CV 5/5] END ......C=100, gamma=0.1, kernel=rbf;, score=0.933 total time=   0.0s\n",
      "[CV 1/5] END .....C=100, gamma=0.1, kernel=poly;, score=0.750 total time=   0.0s\n",
      "[CV 2/5] END .....C=100, gamma=0.1, kernel=poly;, score=0.800 total time=   0.0s\n",
      "[CV 3/5] END .....C=100, gamma=0.1, kernel=poly;, score=0.810 total time=   0.0s\n",
      "[CV 4/5] END .....C=100, gamma=0.1, kernel=poly;, score=0.800 total time=   0.0s\n",
      "[CV 5/5] END .....C=100, gamma=0.1, kernel=poly;, score=0.829 total time=   0.0s\n",
      "[CV 1/5] END ..C=100, gamma=0.01, kernel=linear;, score=0.783 total time=   0.0s\n",
      "[CV 2/5] END ..C=100, gamma=0.01, kernel=linear;, score=0.844 total time=   0.0s\n",
      "[CV 3/5] END ..C=100, gamma=0.01, kernel=linear;, score=0.750 total time=   0.0s\n",
      "[CV 4/5] END ..C=100, gamma=0.01, kernel=linear;, score=0.744 total time=   0.0s\n",
      "[CV 5/5] END ..C=100, gamma=0.01, kernel=linear;, score=0.800 total time=   0.0s\n",
      "[CV 1/5] END .....C=100, gamma=0.01, kernel=rbf;, score=0.826 total time=   0.0s\n",
      "[CV 2/5] END .....C=100, gamma=0.01, kernel=rbf;, score=0.818 total time=   0.0s\n",
      "[CV 3/5] END .....C=100, gamma=0.01, kernel=rbf;, score=0.776 total time=   0.0s\n",
      "[CV 4/5] END .....C=100, gamma=0.01, kernel=rbf;, score=0.791 total time=   0.0s\n",
      "[CV 5/5] END .....C=100, gamma=0.01, kernel=rbf;, score=0.844 total time=   0.0s\n",
      "[CV 1/5] END ....C=100, gamma=0.01, kernel=poly;, score=0.694 total time=   0.0s\n",
      "[CV 2/5] END ....C=100, gamma=0.01, kernel=poly;, score=0.676 total time=   0.0s\n",
      "[CV 3/5] END ....C=100, gamma=0.01, kernel=poly;, score=0.676 total time=   0.0s\n",
      "[CV 4/5] END ....C=100, gamma=0.01, kernel=poly;, score=0.676 total time=   0.0s\n",
      "[CV 5/5] END ....C=100, gamma=0.01, kernel=poly;, score=0.676 total time=   0.0s\n",
      "[CV 1/5] END .C=100, gamma=0.001, kernel=linear;, score=0.783 total time=   0.0s\n",
      "[CV 2/5] END .C=100, gamma=0.001, kernel=linear;, score=0.844 total time=   0.0s\n",
      "[CV 3/5] END .C=100, gamma=0.001, kernel=linear;, score=0.750 total time=   0.0s\n",
      "[CV 4/5] END .C=100, gamma=0.001, kernel=linear;, score=0.744 total time=   0.0s\n",
      "[CV 5/5] END .C=100, gamma=0.001, kernel=linear;, score=0.800 total time=   0.0s\n",
      "[CV 1/5] END ....C=100, gamma=0.001, kernel=rbf;, score=0.776 total time=   0.0s\n",
      "[CV 2/5] END ....C=100, gamma=0.001, kernel=rbf;, score=0.800 total time=   0.0s\n",
      "[CV 3/5] END ....C=100, gamma=0.001, kernel=rbf;, score=0.784 total time=   0.0s\n",
      "[CV 4/5] END ....C=100, gamma=0.001, kernel=rbf;, score=0.766 total time=   0.0s\n",
      "[CV 5/5] END ....C=100, gamma=0.001, kernel=rbf;, score=0.844 total time=   0.0s\n",
      "[CV 1/5] END ...C=100, gamma=0.001, kernel=poly;, score=0.694 total time=   0.0s\n",
      "[CV 2/5] END ...C=100, gamma=0.001, kernel=poly;, score=0.676 total time=   0.0s\n",
      "[CV 3/5] END ...C=100, gamma=0.001, kernel=poly;, score=0.676 total time=   0.0s\n",
      "[CV 4/5] END ...C=100, gamma=0.001, kernel=poly;, score=0.676 total time=   0.0s\n",
      "[CV 5/5] END ...C=100, gamma=0.001, kernel=poly;, score=0.676 total time=   0.0s\n",
      "[CV 1/5] END C=100, gamma=0.0001, kernel=linear;, score=0.783 total time=   0.0s\n",
      "[CV 2/5] END C=100, gamma=0.0001, kernel=linear;, score=0.844 total time=   0.0s\n",
      "[CV 3/5] END C=100, gamma=0.0001, kernel=linear;, score=0.750 total time=   0.0s\n",
      "[CV 4/5] END C=100, gamma=0.0001, kernel=linear;, score=0.744 total time=   0.0s\n",
      "[CV 5/5] END C=100, gamma=0.0001, kernel=linear;, score=0.800 total time=   0.0s\n",
      "[CV 1/5] END ...C=100, gamma=0.0001, kernel=rbf;, score=0.764 total time=   0.0s\n",
      "[CV 2/5] END ...C=100, gamma=0.0001, kernel=rbf;, score=0.769 total time=   0.0s\n",
      "[CV 3/5] END ...C=100, gamma=0.0001, kernel=rbf;, score=0.702 total time=   0.0s\n",
      "[CV 4/5] END ...C=100, gamma=0.0001, kernel=rbf;, score=0.769 total time=   0.0s\n",
      "[CV 5/5] END ...C=100, gamma=0.0001, kernel=rbf;, score=0.816 total time=   0.0s\n",
      "[CV 1/5] END ..C=100, gamma=0.0001, kernel=poly;, score=0.694 total time=   0.0s\n",
      "[CV 2/5] END ..C=100, gamma=0.0001, kernel=poly;, score=0.676 total time=   0.0s\n",
      "[CV 3/5] END ..C=100, gamma=0.0001, kernel=poly;, score=0.676 total time=   0.0s\n",
      "[CV 4/5] END ..C=100, gamma=0.0001, kernel=poly;, score=0.676 total time=   0.0s\n",
      "[CV 5/5] END ..C=100, gamma=0.0001, kernel=poly;, score=0.676 total time=   0.0s\n",
      "\n",
      "Best Parameters:  {'C': 10, 'gamma': 1, 'kernel': 'rbf'}\n",
      "\n",
      " SVC(C=10, gamma=1, probability=True)\n",
      "\n",
      "               precision    recall  f1-score   support\n",
      "\n",
      "           0       0.97      1.00      0.99        33\n",
      "           1       1.00      0.96      0.98        26\n",
      "\n",
      "    accuracy                           0.98        59\n",
      "   macro avg       0.99      0.98      0.98        59\n",
      "weighted avg       0.98      0.98      0.98        59\n",
      "\n"
     ]
    }
   ],
   "source": [
    "param_grid = {'kernel':['linear','rbf','poly'],'C': [0.5, 1, 10, 100],  \n",
    "              'gamma': [1, 0.1, 0.01, 0.001, 0.0001]}\n",
    "\n",
    "grid_SVC = GridSearchCV(svm.SVC(probability=True), param_grid, scoring='f1', verbose = 3,)\n",
    "grid_SVC.fit(X_train, y_train)\n",
    "\n",
    "# print best parameter after tuning \n",
    "print(\"\\nBest Parameters: \", grid_SVC.best_params_)\n",
    "\n",
    "# print how our model looks after hyper-parameter tuning\n",
    "print(\"\\n\", grid_SVC.best_estimator_)\n",
    "\n",
    "predSVC = grid_SVC.predict(X_test) \n",
    "# print classification report \n",
    "print(\"\\n\", classification_report(y_test, predSVC))"
   ]
  },
  {
   "cell_type": "markdown",
   "id": "cf4c4053",
   "metadata": {},
   "source": [
    " As we can see here In SVM model the  accuracy 98% and its really good "
   ]
  },
  {
   "cell_type": "code",
   "execution_count": 107,
   "id": "00d4874d",
   "metadata": {
    "scrolled": true
   },
   "outputs": [
    {
     "data": {
      "image/png": "[encoded data removed]",
      "text/plain": [
       "<Figure size 432x288 with 2 Axes>"
      ]
     },
     "metadata": {
      "needs_background": "light"
     },
     "output_type": "display_data"
    }
   ],
   "source": [
    "plot_confusion_matrix(grid_SVC, X_test, y_test, cmap=plt.cm.Reds) \n",
    "plt.title('Confusion matrix for SVM', y=1.1)\n",
    "plt.show()"
   ]
  },
  {
   "cell_type": "markdown",
   "id": "05f8a539",
   "metadata": {},
   "source": [
    "Bsed on plot_confusion_matrix above we can see there is only 1 false prediction . This model performs very good and is able to classify most patients correctly."
   ]
  },
  {
   "cell_type": "code",
   "execution_count": 108,
   "id": "078dc585",
   "metadata": {},
   "outputs": [
    {
     "data": {
      "image/png": "[encoded data removed]",
      "text/plain": [
       "<Figure size 432x288 with 1 Axes>"
      ]
     },
     "metadata": {
      "needs_background": "light"
     },
     "output_type": "display_data"
    }
   ],
   "source": [
    "fpr, tpr, _ = metrics.roc_curve(y_test,  predSVC)\n",
    "auc = metrics.roc_auc_score(y_test, predSVC)\n",
    "plt.plot(fpr,tpr,label=\"data 1, auc=\"+str(auc),c=\"r\")\n",
    "plt.legend(loc=4)\n",
    "plt.show()"
   ]
  },
  {
   "cell_type": "markdown",
   "id": "01b2a1df",
   "metadata": {},
   "source": [
    "The Above plot illustrate the AUC 98% wich is very good "
   ]
  },
  {
   "cell_type": "code",
   "execution_count": 109,
   "id": "f5172d0a",
   "metadata": {},
   "outputs": [
    {
     "data": {
      "text/plain": [
       "['svm_clf.pkl']"
      ]
     },
     "execution_count": 109,
     "metadata": {},
     "output_type": "execute_result"
    }
   ],
   "source": [
    "# Dumping SVM Classifier\n",
    "joblib.dump(grid_SVC, 'svm_clf.pkl')"
   ]
  },
  {
   "cell_type": "markdown",
   "id": "8bc489ef",
   "metadata": {},
   "source": [
    "## Naive Bayes"
   ]
  },
  {
   "cell_type": "code",
   "execution_count": 110,
   "id": "0e2f2abc",
   "metadata": {},
   "outputs": [
    {
     "name": "stdout",
     "output_type": "stream",
     "text": [
      "              precision    recall  f1-score   support\n",
      "\n",
      "           0       0.81      0.91      0.86        33\n",
      "           1       0.86      0.73      0.79        26\n",
      "\n",
      "    accuracy                           0.83        59\n",
      "   macro avg       0.84      0.82      0.82        59\n",
      "weighted avg       0.83      0.83      0.83        59\n",
      "\n"
     ]
    }
   ],
   "source": [
    "\n",
    "# Naive Bayes\n",
    "\n",
    "gnb = Naive_Bayes()\n",
    "gnb.fit(X_train, y_train)\n",
    "predgnb = gnb.predict(X_test)\n",
    "\n",
    "print(classification_report(y_test, predgnb))"
   ]
  },
  {
   "cell_type": "code",
   "execution_count": 111,
   "id": "56a714cf",
   "metadata": {},
   "outputs": [
    {
     "name": "stdout",
     "output_type": "stream",
     "text": [
      "Confusion Matrix:\n"
     ]
    },
    {
     "data": {
      "text/plain": [
       "array([[30,  3],\n",
       "       [ 7, 19]], dtype=int64)"
      ]
     },
     "execution_count": 111,
     "metadata": {},
     "output_type": "execute_result"
    }
   ],
   "source": [
    "print(\"Confusion Matrix:\")\n",
    "confusion_matrix(y_test, predgnb)"
   ]
  },
  {
   "cell_type": "code",
   "execution_count": 112,
   "id": "e1357b8e",
   "metadata": {},
   "outputs": [
    {
     "name": "stdout",
     "output_type": "stream",
     "text": [
      "Accuracy % : 83.05084745762711\n"
     ]
    }
   ],
   "source": [
    "# scores -check how efficiently labels are predicted\n",
    "accuracy_testing = accuracy_score(y_test, predgnb)\n",
    "print(\"Accuracy % :\",accuracy_testing*100)"
   ]
  },
  {
   "cell_type": "code",
   "execution_count": 113,
   "id": "7428e551",
   "metadata": {},
   "outputs": [
    {
     "data": {
      "image/png": "[encoded data removed]",
      "text/plain": [
       "<Figure size 432x288 with 2 Axes>"
      ]
     },
     "metadata": {
      "needs_background": "light"
     },
     "output_type": "display_data"
    }
   ],
   "source": [
    "plot_confusion_matrix(gnb, X_test, y_test, cmap=plt.cm.Reds) \n",
    "plt.title('Confusion matrix for Naive Byes', y=1.1)\n",
    "plt.show()"
   ]
  },
  {
   "cell_type": "markdown",
   "id": "6ff5cb3d",
   "metadata": {},
   "source": [
    "Based on confusion_matrix above and the prediction 7 false negative, the model is weak in predicting class 1. This model is not performing well."
   ]
  },
  {
   "cell_type": "code",
   "execution_count": 114,
   "id": "c0d53b36",
   "metadata": {},
   "outputs": [
    {
     "data": {
      "image/png": "[encoded data removed]",
      "text/plain": [
       "<Figure size 432x288 with 1 Axes>"
      ]
     },
     "metadata": {
      "needs_background": "light"
     },
     "output_type": "display_data"
    }
   ],
   "source": [
    "y_pred_proba = gnb.predict_proba(X_test)[::,1]\n",
    "fpr, tpr, _ = metrics.roc_curve(y_test,  y_pred_proba)\n",
    "auc = metrics.roc_auc_score(y_test, y_pred_proba)\n",
    "plt.plot(fpr,tpr,label=\"data 1, auc=\"+str(auc),c=\"r\")\n",
    "plt.legend(loc=4)\n",
    "plt.show()"
   ]
  },
  {
   "cell_type": "markdown",
   "id": "c9ed06ba",
   "metadata": {},
   "source": [
    "Here the plot shows AUC is 85% and its not good enough"
   ]
  },
  {
   "cell_type": "code",
   "execution_count": 115,
   "id": "42d35f49",
   "metadata": {},
   "outputs": [
    {
     "data": {
      "text/plain": [
       "['nb_clf.pkl']"
      ]
     },
     "execution_count": 115,
     "metadata": {},
     "output_type": "execute_result"
    }
   ],
   "source": [
    "# Dumping Naive Bayes Classifier\n",
    "joblib.dump(gnb, 'nb_clf.pkl')"
   ]
  },
  {
   "cell_type": "markdown",
   "id": "1928b22b",
   "metadata": {},
   "source": [
    "## XGBoost Classifer\n",
    "Because my integrated omics project uses XGBoost for prediction of gut microbiota, I wanted to use it here to train a XGBoost classifier for classification of Parkinson's cases or not. The following parameters have been optimized for XGBoost:\n",
    "\n",
    "Max Depth: This value is used to determine the Maximum Depth of the Tree.\n",
    "ETA : This is also known as Learning Rate.\n",
    "Reg_Lambda : This is the L2 Regularization for the weights.\n",
    "Random State : This is used to evaluate and determine the performance of the model based on different random states.\n",
    "The Parameter Optimization has been performed using GridSearchCV with the following parameters:\n",
    "\n",
    "\n",
    "Scoring Parameter: F1 Score\n",
    "\n",
    "Cross Validation: 3"
   ]
  },
  {
   "cell_type": "code",
   "execution_count": 120,
   "id": "a1b035a0",
   "metadata": {},
   "outputs": [],
   "source": [
    "# Defining Parameter Dictionary\n",
    "param_dict = {'max_depth': range(4,8), 'eta' : [0.1, 0.2, 0.3, 0.4, 0.5],\n",
    "              'reg_lambda' : [0.8, 0.9, 1, 1.1, 1.2],\n",
    "              'random_state': [300, 600, 900]}"
   ]
  },
  {
   "cell_type": "code",
   "execution_count": 121,
   "id": "dd7bd4e0",
   "metadata": {},
   "outputs": [
    {
     "name": "stdout",
     "output_type": "stream",
     "text": [
      "Fitting 3 folds for each of 300 candidates, totalling 900 fits\n"
     ]
    },
    {
     "data": {
      "text/html": [
       "<style>#sk-container-id-4 {color: black;background-color: white;}#sk-container-id-4 pre{padding: 0;}#sk-container-id-4 div.sk-toggleable {background-color: white;}#sk-container-id-4 label.sk-toggleable__label {cursor: pointer;display: block;width: 100%;margin-bottom: 0;padding: 0.3em;box-sizing: border-box;text-align: center;}#sk-container-id-4 label.sk-toggleable__label-arrow:before {content: \"▸\";float: left;margin-right: 0.25em;color: #696969;}#sk-container-id-4 label.sk-toggleable__label-arrow:hover:before {color: black;}#sk-container-id-4 div.sk-estimator:hover label.sk-toggleable__label-arrow:before {color: black;}#sk-container-id-4 div.sk-toggleable__content {max-height: 0;max-width: 0;overflow: hidden;text-align: left;background-color: #f0f8ff;}#sk-container-id-4 div.sk-toggleable__content pre {margin: 0.2em;color: black;border-radius: 0.25em;background-color: #f0f8ff;}#sk-container-id-4 input.sk-toggleable__control:checked~div.sk-toggleable__content {max-height: 200px;max-width: 100%;overflow: auto;}#sk-container-id-4 input.sk-toggleable__control:checked~label.sk-toggleable__label-arrow:before {content: \"▾\";}#sk-container-id-4 div.sk-estimator input.sk-toggleable__control:checked~label.sk-toggleable__label {background-color: #d4ebff;}#sk-container-id-4 div.sk-label input.sk-toggleable__control:checked~label.sk-toggleable__label {background-color: #d4ebff;}#sk-container-id-4 input.sk-hidden--visually {border: 0;clip: rect(1px 1px 1px 1px);clip: rect(1px, 1px, 1px, 1px);height: 1px;margin: -1px;overflow: hidden;padding: 0;position: absolute;width: 1px;}#sk-container-id-4 div.sk-estimator {font-family: monospace;background-color: #f0f8ff;border: 1px dotted black;border-radius: 0.25em;box-sizing: border-box;margin-bottom: 0.5em;}#sk-container-id-4 div.sk-estimator:hover {background-color: #d4ebff;}#sk-container-id-4 div.sk-parallel-item::after {content: \"\";width: 100%;border-bottom: 1px solid gray;flex-grow: 1;}#sk-container-id-4 div.sk-label:hover label.sk-toggleable__label {background-color: #d4ebff;}#sk-container-id-4 div.sk-serial::before {content: \"\";position: absolute;border-left: 1px solid gray;box-sizing: border-box;top: 0;bottom: 0;left: 50%;z-index: 0;}#sk-container-id-4 div.sk-serial {display: flex;flex-direction: column;align-items: center;background-color: white;padding-right: 0.2em;padding-left: 0.2em;position: relative;}#sk-container-id-4 div.sk-item {position: relative;z-index: 1;}#sk-container-id-4 div.sk-parallel {display: flex;align-items: stretch;justify-content: center;background-color: white;position: relative;}#sk-container-id-4 div.sk-item::before, #sk-container-id-4 div.sk-parallel-item::before {content: \"\";position: absolute;border-left: 1px solid gray;box-sizing: border-box;top: 0;bottom: 0;left: 50%;z-index: -1;}#sk-container-id-4 div.sk-parallel-item {display: flex;flex-direction: column;z-index: 1;position: relative;background-color: white;}#sk-container-id-4 div.sk-parallel-item:first-child::after {align-self: flex-end;width: 50%;}#sk-container-id-4 div.sk-parallel-item:last-child::after {align-self: flex-start;width: 50%;}#sk-container-id-4 div.sk-parallel-item:only-child::after {width: 0;}#sk-container-id-4 div.sk-dashed-wrapped {border: 1px dashed gray;margin: 0 0.4em 0.5em 0.4em;box-sizing: border-box;padding-bottom: 0.4em;background-color: white;}#sk-container-id-4 div.sk-label label {font-family: monospace;font-weight: bold;display: inline-block;line-height: 1.2em;}#sk-container-id-4 div.sk-label-container {text-align: center;}#sk-container-id-4 div.sk-container {/* jupyter's `normalize.less` sets `[hidden] { display: none; }` but bootstrap.min.css set `[hidden] { display: none !important; }` so we also need the `!important` here to be able to override the default hidden behavior on the sphinx rendered scikit-learn.org. See: https://github.com/scikit-learn/scikit-learn/issues/21755 */display: inline-block !important;position: relative;}#sk-container-id-4 div.sk-text-repr-fallback {display: none;}</style><div id=\"sk-container-id-4\" class=\"sk-top-container\"><div class=\"sk-text-repr-fallback\"><pre>GridSearchCV(cv=3,\n",
       "             estimator=XGBClassifier(base_score=None, booster=None,\n",
       "                                     callbacks=None, colsample_bylevel=None,\n",
       "                                     colsample_bynode=None,\n",
       "                                     colsample_bytree=None,\n",
       "                                     early_stopping_rounds=None,\n",
       "                                     enable_categorical=False, eval_metric=None,\n",
       "                                     gamma=None, gpu_id=None, grow_policy=None,\n",
       "                                     importance_type=None,\n",
       "                                     interaction_constraints=None,\n",
       "                                     learning_rate=None, max_bin=None,\n",
       "                                     max_ca...\n",
       "                                     max_delta_step=None, max_depth=None,\n",
       "                                     max_leaves=None, min_child_weight=None,\n",
       "                                     missing=nan, monotone_constraints=None,\n",
       "                                     n_estimators=100, n_jobs=None,\n",
       "                                     num_parallel_tree=None, predictor=None,\n",
       "                                     random_state=None, reg_alpha=None,\n",
       "                                     reg_lambda=None, ...),\n",
       "             param_grid={&#x27;eta&#x27;: [0.1, 0.2, 0.3, 0.4, 0.5],\n",
       "                         &#x27;max_depth&#x27;: range(4, 8),\n",
       "                         &#x27;random_state&#x27;: [300, 600, 900],\n",
       "                         &#x27;reg_lambda&#x27;: [0.8, 0.9, 1, 1.1, 1.2]},\n",
       "             scoring=&#x27;f1&#x27;, verbose=1)</pre><b>In a Jupyter environment, please rerun this cell to show the HTML representation or trust the notebook. <br />On GitHub, the HTML representation is unable to render, please try loading this page with nbviewer.org.</b></div><div class=\"sk-container\" hidden><div class=\"sk-item sk-dashed-wrapped\"><div class=\"sk-label-container\"><div class=\"sk-label sk-toggleable\"><input class=\"sk-toggleable__control sk-hidden--visually\" id=\"sk-estimator-id-10\" type=\"checkbox\" ><label for=\"sk-estimator-id-10\" class=\"sk-toggleable__label sk-toggleable__label-arrow\">GridSearchCV</label><div class=\"sk-toggleable__content\"><pre>GridSearchCV(cv=3,\n",
       "             estimator=XGBClassifier(base_score=None, booster=None,\n",
       "                                     callbacks=None, colsample_bylevel=None,\n",
       "                                     colsample_bynode=None,\n",
       "                                     colsample_bytree=None,\n",
       "                                     early_stopping_rounds=None,\n",
       "                                     enable_categorical=False, eval_metric=None,\n",
       "                                     gamma=None, gpu_id=None, grow_policy=None,\n",
       "                                     importance_type=None,\n",
       "                                     interaction_constraints=None,\n",
       "                                     learning_rate=None, max_bin=None,\n",
       "                                     max_ca...\n",
       "                                     max_delta_step=None, max_depth=None,\n",
       "                                     max_leaves=None, min_child_weight=None,\n",
       "                                     missing=nan, monotone_constraints=None,\n",
       "                                     n_estimators=100, n_jobs=None,\n",
       "                                     num_parallel_tree=None, predictor=None,\n",
       "                                     random_state=None, reg_alpha=None,\n",
       "                                     reg_lambda=None, ...),\n",
       "             param_grid={&#x27;eta&#x27;: [0.1, 0.2, 0.3, 0.4, 0.5],\n",
       "                         &#x27;max_depth&#x27;: range(4, 8),\n",
       "                         &#x27;random_state&#x27;: [300, 600, 900],\n",
       "                         &#x27;reg_lambda&#x27;: [0.8, 0.9, 1, 1.1, 1.2]},\n",
       "             scoring=&#x27;f1&#x27;, verbose=1)</pre></div></div></div><div class=\"sk-parallel\"><div class=\"sk-parallel-item\"><div class=\"sk-item\"><div class=\"sk-label-container\"><div class=\"sk-label sk-toggleable\"><input class=\"sk-toggleable__control sk-hidden--visually\" id=\"sk-estimator-id-11\" type=\"checkbox\" ><label for=\"sk-estimator-id-11\" class=\"sk-toggleable__label sk-toggleable__label-arrow\">estimator: XGBClassifier</label><div class=\"sk-toggleable__content\"><pre>XGBClassifier(base_score=None, booster=None, callbacks=None,\n",
       "              colsample_bylevel=None, colsample_bynode=None,\n",
       "              colsample_bytree=None, early_stopping_rounds=None,\n",
       "              enable_categorical=False, eval_metric=None, gamma=None,\n",
       "              gpu_id=None, grow_policy=None, importance_type=None,\n",
       "              interaction_constraints=None, learning_rate=None, max_bin=None,\n",
       "              max_cat_to_onehot=None, max_delta_step=None, max_depth=None,\n",
       "              max_leaves=None, min_child_weight=None, missing=nan,\n",
       "              monotone_constraints=None, n_estimators=100, n_jobs=None,\n",
       "              num_parallel_tree=None, predictor=None, random_state=None,\n",
       "              reg_alpha=None, reg_lambda=None, ...)</pre></div></div></div><div class=\"sk-serial\"><div class=\"sk-item\"><div class=\"sk-estimator sk-toggleable\"><input class=\"sk-toggleable__control sk-hidden--visually\" id=\"sk-estimator-id-12\" type=\"checkbox\" ><label for=\"sk-estimator-id-12\" class=\"sk-toggleable__label sk-toggleable__label-arrow\">XGBClassifier</label><div class=\"sk-toggleable__content\"><pre>XGBClassifier(base_score=None, booster=None, callbacks=None,\n",
       "              colsample_bylevel=None, colsample_bynode=None,\n",
       "              colsample_bytree=None, early_stopping_rounds=None,\n",
       "              enable_categorical=False, eval_metric=None, gamma=None,\n",
       "              gpu_id=None, grow_policy=None, importance_type=None,\n",
       "              interaction_constraints=None, learning_rate=None, max_bin=None,\n",
       "              max_cat_to_onehot=None, max_delta_step=None, max_depth=None,\n",
       "              max_leaves=None, min_child_weight=None, missing=nan,\n",
       "              monotone_constraints=None, n_estimators=100, n_jobs=None,\n",
       "              num_parallel_tree=None, predictor=None, random_state=None,\n",
       "              reg_alpha=None, reg_lambda=None, ...)</pre></div></div></div></div></div></div></div></div></div></div>"
      ],
      "text/plain": [
       "GridSearchCV(cv=3,\n",
       "             estimator=XGBClassifier(base_score=None, booster=None,\n",
       "                                     callbacks=None, colsample_bylevel=None,\n",
       "                                     colsample_bynode=None,\n",
       "                                     colsample_bytree=None,\n",
       "                                     early_stopping_rounds=None,\n",
       "                                     enable_categorical=False, eval_metric=None,\n",
       "                                     gamma=None, gpu_id=None, grow_policy=None,\n",
       "                                     importance_type=None,\n",
       "                                     interaction_constraints=None,\n",
       "                                     learning_rate=None, max_bin=None,\n",
       "                                     max_ca...\n",
       "                                     max_delta_step=None, max_depth=None,\n",
       "                                     max_leaves=None, min_child_weight=None,\n",
       "                                     missing=nan, monotone_constraints=None,\n",
       "                                     n_estimators=100, n_jobs=None,\n",
       "                                     num_parallel_tree=None, predictor=None,\n",
       "                                     random_state=None, reg_alpha=None,\n",
       "                                     reg_lambda=None, ...),\n",
       "             param_grid={'eta': [0.1, 0.2, 0.3, 0.4, 0.5],\n",
       "                         'max_depth': range(4, 8),\n",
       "                         'random_state': [300, 600, 900],\n",
       "                         'reg_lambda': [0.8, 0.9, 1, 1.1, 1.2]},\n",
       "             scoring='f1', verbose=1)"
      ]
     },
     "execution_count": 121,
     "metadata": {},
     "output_type": "execute_result"
    }
   ],
   "source": [
    "clf = GridSearchCV(XGBClassifier(), param_grid = param_dict,\n",
    "                   scoring = 'f1', cv = 3, verbose = 1)\n",
    "clf.fit(X_train, y_train)"
   ]
  },
  {
   "cell_type": "code",
   "execution_count": 118,
   "id": "34f47b84",
   "metadata": {},
   "outputs": [
    {
     "name": "stdout",
     "output_type": "stream",
     "text": [
      "Best Score : 0.9453289847101379\n",
      "Best Parameters : {'eta': 0.1, 'max_depth': 6, 'random_state': 300, 'reg_lambda': 0.9}\n"
     ]
    }
   ],
   "source": [
    "print('Best Score :', clf.best_score_)\n",
    "print('Best Parameters :', clf.best_params_)"
   ]
  },
  {
   "cell_type": "code",
   "execution_count": 122,
   "id": "a15c5c4c",
   "metadata": {},
   "outputs": [],
   "source": [
    "# Extracting Best Classifier From GridSearchCV\n",
    "xgb_clf = clf.best_estimator_"
   ]
  },
  {
   "cell_type": "code",
   "execution_count": 123,
   "id": "76cca475",
   "metadata": {},
   "outputs": [
    {
     "name": "stdout",
     "output_type": "stream",
     "text": [
      "For Train Set\n",
      "Accuracy : 1.0\n",
      "Precision : 1.0\n",
      "Recall : 1.0\n",
      "R2 Score : 1.0\n"
     ]
    }
   ],
   "source": [
    "# Evaluating Performance on Train Set\n",
    "pred = xgb_clf.predict(X_train)\n",
    "print('For Train Set')\n",
    "print('Accuracy :', metrics.accuracy_score(y_train, pred))\n",
    "print('Precision :', metrics.precision_score(y_train, pred))\n",
    "print('Recall :', metrics.recall_score(y_train, pred))\n",
    "print('R2 Score :', metrics.r2_score(y_train, pred))"
   ]
  },
  {
   "cell_type": "code",
   "execution_count": 124,
   "id": "e7fd3320",
   "metadata": {},
   "outputs": [
    {
     "name": "stdout",
     "output_type": "stream",
     "text": [
      "For Test Set\n",
      "Accuracy : 0.9661016949152542\n",
      "Precision : 0.9285714285714286\n",
      "Recall : 1.0\n",
      "R2 Score : 0.8624708624708625\n"
     ]
    }
   ],
   "source": [
    "# Evaluating Performance on Train Set\n",
    "# Evaluating Performance on Train Set\n",
    "predXGB = xgb_clf.predict(X_test)\n",
    "print('For Test Set')\n",
    "print('Accuracy :', metrics.accuracy_score(y_test, predXGB))\n",
    "print('Precision :', metrics.precision_score(y_test, predXGB))\n",
    "print('Recall :', metrics.recall_score(y_test, predXGB))\n",
    "print('R2 Score :', metrics.r2_score(y_test, predXGB))"
   ]
  },
  {
   "cell_type": "code",
   "execution_count": 125,
   "id": "1e156551",
   "metadata": {},
   "outputs": [
    {
     "data": {
      "image/png": "[encoded data removed]",
      "text/plain": [
       "<Figure size 432x288 with 2 Axes>"
      ]
     },
     "metadata": {
      "needs_background": "light"
     },
     "output_type": "display_data"
    }
   ],
   "source": [
    "plot_confusion_matrix(xgb_clf, X_test, y_test, cmap=plt.cm.Reds) \n",
    "plt.title('Confusion matrix for XGBoost', y=1.1)\n",
    "plt.show()"
   ]
  },
  {
   "cell_type": "markdown",
   "id": "0fd2c17d",
   "metadata": {},
   "source": [
    " As the plot of confusion matrix showes the prediction is quite good. It also has a high accuracy. It does hav ea recall of 1.0 which means no parkinson patients are classified as healthy. This is great."
   ]
  },
  {
   "cell_type": "code",
   "execution_count": 126,
   "id": "9db9acc6",
   "metadata": {},
   "outputs": [
    {
     "data": {
      "text/plain": [
       "['xgb_clf.pkl']"
      ]
     },
     "execution_count": 126,
     "metadata": {},
     "output_type": "execute_result"
    }
   ],
   "source": [
    "# Dumping XGBoost Classifier\n",
    "joblib.dump(xgb_clf, 'xgb_clf.pkl')"
   ]
  },
  {
   "cell_type": "markdown",
   "id": "33149ffe",
   "metadata": {},
   "source": [
    "## Comparision Table"
   ]
  },
  {
   "cell_type": "code",
   "execution_count": 131,
   "id": "50f11352",
   "metadata": {},
   "outputs": [],
   "source": [
    "from sklearn.metrics import precision_score,recall_score ,accuracy_score, f1_score, r2_score, log_loss\n",
    "\n",
    "chart = {\n",
    "        'Metric':[\"Accuracy\", \"F1-Score\", \"Recall\", \"Precision\", \"R2-Score\"],\n",
    "        'DT':[accuracy_score(y_test, predDT), f1_score(y_test, predDT), recall_score(y_test, predDT), precision_score(y_test, predDT), r2_score(y_test, predDT)],\n",
    "        'LR':[accuracy_score(y_test, predlog), f1_score(y_test, predlog), recall_score(y_test, predlog), precision_score(y_test, predlog), r2_score(y_test, predlog)],\n",
    "        'SVM':[accuracy_score(y_test, predSVC), f1_score(y_test, predSVC), recall_score(y_test, predSVC), precision_score(y_test, predSVC), r2_score(y_test, predSVC)],\n",
    "        'NB':[accuracy_score(y_test, predgnb), f1_score(y_test, predgnb), recall_score(y_test, predgnb), precision_score(y_test, predgnb), r2_score(y_test, predgnb)],\n",
    "        'XGB':[accuracy_score(y_test, predXGB), f1_score(y_test, predXGB), recall_score(y_test, predXGB), precision_score(y_test, predXGB), r2_score(y_test, predXGB)]\n",
    "}\n",
    "chart = pd.DataFrame(chart)"
   ]
  },
  {
   "cell_type": "code",
   "execution_count": 132,
   "id": "8aefdfa7",
   "metadata": {},
   "outputs": [
    {
     "data": {
      "text/html": [
       "<div>\n",
       "<style scoped>\n",
       "    .dataframe tbody tr th:only-of-type {\n",
       "        vertical-align: middle;\n",
       "    }\n",
       "\n",
       "    .dataframe tbody tr th {\n",
       "        vertical-align: top;\n",
       "    }\n",
       "\n",
       "    .dataframe thead th {\n",
       "        text-align: right;\n",
       "    }\n",
       "</style>\n",
       "<table border=\"1\" class=\"dataframe\">\n",
       "  <thead>\n",
       "    <tr style=\"text-align: right;\">\n",
       "      <th></th>\n",
       "      <th>Metric</th>\n",
       "      <th>DT</th>\n",
       "      <th>LR</th>\n",
       "      <th>SVM</th>\n",
       "      <th>NB</th>\n",
       "      <th>XGB</th>\n",
       "    </tr>\n",
       "  </thead>\n",
       "  <tbody>\n",
       "    <tr>\n",
       "      <th>0</th>\n",
       "      <td>Accuracy</td>\n",
       "      <td>0.864407</td>\n",
       "      <td>0.762712</td>\n",
       "      <td>0.983051</td>\n",
       "      <td>0.830508</td>\n",
       "      <td>0.966102</td>\n",
       "    </tr>\n",
       "    <tr>\n",
       "      <th>1</th>\n",
       "      <td>F1-Score</td>\n",
       "      <td>0.851852</td>\n",
       "      <td>0.720000</td>\n",
       "      <td>0.980392</td>\n",
       "      <td>0.791667</td>\n",
       "      <td>0.962963</td>\n",
       "    </tr>\n",
       "    <tr>\n",
       "      <th>2</th>\n",
       "      <td>Recall</td>\n",
       "      <td>0.884615</td>\n",
       "      <td>0.692308</td>\n",
       "      <td>0.961538</td>\n",
       "      <td>0.730769</td>\n",
       "      <td>1.000000</td>\n",
       "    </tr>\n",
       "    <tr>\n",
       "      <th>3</th>\n",
       "      <td>Precision</td>\n",
       "      <td>0.821429</td>\n",
       "      <td>0.750000</td>\n",
       "      <td>1.000000</td>\n",
       "      <td>0.863636</td>\n",
       "      <td>0.928571</td>\n",
       "    </tr>\n",
       "    <tr>\n",
       "      <th>4</th>\n",
       "      <td>R2-Score</td>\n",
       "      <td>0.449883</td>\n",
       "      <td>0.037296</td>\n",
       "      <td>0.931235</td>\n",
       "      <td>0.312354</td>\n",
       "      <td>0.862471</td>\n",
       "    </tr>\n",
       "  </tbody>\n",
       "</table>\n",
       "</div>"
      ],
      "text/plain": [
       "      Metric        DT        LR       SVM        NB       XGB\n",
       "0   Accuracy  0.864407  0.762712  0.983051  0.830508  0.966102\n",
       "1   F1-Score  0.851852  0.720000  0.980392  0.791667  0.962963\n",
       "2     Recall  0.884615  0.692308  0.961538  0.730769  1.000000\n",
       "3  Precision  0.821429  0.750000  1.000000  0.863636  0.928571\n",
       "4   R2-Score  0.449883  0.037296  0.931235  0.312354  0.862471"
      ]
     },
     "metadata": {},
     "output_type": "display_data"
    }
   ],
   "source": [
    "display(chart)"
   ]
  },
  {
   "cell_type": "markdown",
   "id": "e7a37fde",
   "metadata": {},
   "source": [
    "## Voting classifier"
   ]
  },
  {
   "cell_type": "code",
   "execution_count": 133,
   "id": "8707a8e7",
   "metadata": {},
   "outputs": [
    {
     "name": "stdout",
     "output_type": "stream",
     "text": [
      "Fitting 3 folds for each of 300 candidates, totalling 900 fits\n",
      "Fitting 5 folds for each of 60 candidates, totalling 300 fits\n",
      "[CV 1/5] END .....C=0.5, gamma=1, kernel=linear;, score=0.809 total time=   0.0s\n",
      "[CV 2/5] END .....C=0.5, gamma=1, kernel=linear;, score=0.818 total time=   0.0s\n",
      "[CV 3/5] END .....C=0.5, gamma=1, kernel=linear;, score=0.792 total time=   0.0s\n",
      "[CV 4/5] END .....C=0.5, gamma=1, kernel=linear;, score=0.844 total time=   0.0s\n",
      "[CV 5/5] END .....C=0.5, gamma=1, kernel=linear;, score=0.791 total time=   0.0s\n",
      "[CV 1/5] END ........C=0.5, gamma=1, kernel=rbf;, score=0.875 total time=   0.0s\n",
      "[CV 2/5] END ........C=0.5, gamma=1, kernel=rbf;, score=0.913 total time=   0.0s\n",
      "[CV 3/5] END ........C=0.5, gamma=1, kernel=rbf;, score=0.913 total time=   0.0s\n",
      "[CV 4/5] END ........C=0.5, gamma=1, kernel=rbf;, score=0.957 total time=   0.0s\n",
      "[CV 5/5] END ........C=0.5, gamma=1, kernel=rbf;, score=0.933 total time=   0.0s\n",
      "[CV 1/5] END .......C=0.5, gamma=1, kernel=poly;, score=0.780 total time=   0.0s\n",
      "[CV 2/5] END .......C=0.5, gamma=1, kernel=poly;, score=0.864 total time=   0.0s\n",
      "[CV 3/5] END .......C=0.5, gamma=1, kernel=poly;, score=0.884 total time=   0.0s\n",
      "[CV 4/5] END .......C=0.5, gamma=1, kernel=poly;, score=0.957 total time=   0.0s\n",
      "[CV 5/5] END .......C=0.5, gamma=1, kernel=poly;, score=0.857 total time=   0.0s\n",
      "[CV 1/5] END ...C=0.5, gamma=0.1, kernel=linear;, score=0.809 total time=   0.0s\n",
      "[CV 2/5] END ...C=0.5, gamma=0.1, kernel=linear;, score=0.818 total time=   0.0s\n",
      "[CV 3/5] END ...C=0.5, gamma=0.1, kernel=linear;, score=0.792 total time=   0.0s\n",
      "[CV 4/5] END ...C=0.5, gamma=0.1, kernel=linear;, score=0.844 total time=   0.0s\n",
      "[CV 5/5] END ...C=0.5, gamma=0.1, kernel=linear;, score=0.791 total time=   0.0s\n",
      "[CV 1/5] END ......C=0.5, gamma=0.1, kernel=rbf;, score=0.750 total time=   0.0s\n",
      "[CV 2/5] END ......C=0.5, gamma=0.1, kernel=rbf;, score=0.800 total time=   0.0s\n",
      "[CV 3/5] END ......C=0.5, gamma=0.1, kernel=rbf;, score=0.808 total time=   0.0s\n",
      "[CV 4/5] END ......C=0.5, gamma=0.1, kernel=rbf;, score=0.776 total time=   0.0s\n",
      "[CV 5/5] END ......C=0.5, gamma=0.1, kernel=rbf;, score=0.864 total time=   0.0s\n",
      "[CV 1/5] END .....C=0.5, gamma=0.1, kernel=poly;, score=0.694 total time=   0.0s\n",
      "[CV 2/5] END .....C=0.5, gamma=0.1, kernel=poly;, score=0.676 total time=   0.0s\n",
      "[CV 3/5] END .....C=0.5, gamma=0.1, kernel=poly;, score=0.676 total time=   0.0s\n",
      "[CV 4/5] END .....C=0.5, gamma=0.1, kernel=poly;, score=0.676 total time=   0.0s\n",
      "[CV 5/5] END .....C=0.5, gamma=0.1, kernel=poly;, score=0.676 total time=   0.0s\n",
      "[CV 1/5] END ..C=0.5, gamma=0.01, kernel=linear;, score=0.809 total time=   0.0s\n",
      "[CV 2/5] END ..C=0.5, gamma=0.01, kernel=linear;, score=0.818 total time=   0.0s\n",
      "[CV 3/5] END ..C=0.5, gamma=0.01, kernel=linear;, score=0.792 total time=   0.0s\n",
      "[CV 4/5] END ..C=0.5, gamma=0.01, kernel=linear;, score=0.844 total time=   0.0s\n",
      "[CV 5/5] END ..C=0.5, gamma=0.01, kernel=linear;, score=0.791 total time=   0.0s\n",
      "[CV 1/5] END .....C=0.5, gamma=0.01, kernel=rbf;, score=0.772 total time=   0.0s\n",
      "[CV 2/5] END .....C=0.5, gamma=0.01, kernel=rbf;, score=0.714 total time=   0.0s\n",
      "[CV 3/5] END .....C=0.5, gamma=0.01, kernel=rbf;, score=0.721 total time=   0.0s\n",
      "[CV 4/5] END .....C=0.5, gamma=0.01, kernel=rbf;, score=0.754 total time=   0.0s\n",
      "[CV 5/5] END .....C=0.5, gamma=0.01, kernel=rbf;, score=0.755 total time=   0.0s\n",
      "[CV 1/5] END ....C=0.5, gamma=0.01, kernel=poly;, score=0.694 total time=   0.0s\n",
      "[CV 2/5] END ....C=0.5, gamma=0.01, kernel=poly;, score=0.676 total time=   0.0s\n",
      "[CV 3/5] END ....C=0.5, gamma=0.01, kernel=poly;, score=0.676 total time=   0.0s\n",
      "[CV 4/5] END ....C=0.5, gamma=0.01, kernel=poly;, score=0.676 total time=   0.0s\n",
      "[CV 5/5] END ....C=0.5, gamma=0.01, kernel=poly;, score=0.676 total time=   0.0s\n",
      "[CV 1/5] END .C=0.5, gamma=0.001, kernel=linear;, score=0.809 total time=   0.0s\n",
      "[CV 2/5] END .C=0.5, gamma=0.001, kernel=linear;, score=0.818 total time=   0.0s\n",
      "[CV 3/5] END .C=0.5, gamma=0.001, kernel=linear;, score=0.792 total time=   0.0s\n",
      "[CV 4/5] END .C=0.5, gamma=0.001, kernel=linear;, score=0.844 total time=   0.0s\n",
      "[CV 5/5] END .C=0.5, gamma=0.001, kernel=linear;, score=0.791 total time=   0.0s\n",
      "[CV 1/5] END ....C=0.5, gamma=0.001, kernel=rbf;, score=0.694 total time=   0.0s\n",
      "[CV 2/5] END ....C=0.5, gamma=0.001, kernel=rbf;, score=0.676 total time=   0.0s\n",
      "[CV 3/5] END ....C=0.5, gamma=0.001, kernel=rbf;, score=0.676 total time=   0.0s\n",
      "[CV 4/5] END ....C=0.5, gamma=0.001, kernel=rbf;, score=0.676 total time=   0.0s\n",
      "[CV 5/5] END ....C=0.5, gamma=0.001, kernel=rbf;, score=0.676 total time=   0.0s\n",
      "[CV 1/5] END ...C=0.5, gamma=0.001, kernel=poly;, score=0.694 total time=   0.0s\n",
      "[CV 2/5] END ...C=0.5, gamma=0.001, kernel=poly;, score=0.676 total time=   0.0s\n",
      "[CV 3/5] END ...C=0.5, gamma=0.001, kernel=poly;, score=0.676 total time=   0.0s\n",
      "[CV 4/5] END ...C=0.5, gamma=0.001, kernel=poly;, score=0.676 total time=   0.0s\n",
      "[CV 5/5] END ...C=0.5, gamma=0.001, kernel=poly;, score=0.676 total time=   0.0s\n",
      "[CV 1/5] END C=0.5, gamma=0.0001, kernel=linear;, score=0.809 total time=   0.0s\n",
      "[CV 2/5] END C=0.5, gamma=0.0001, kernel=linear;, score=0.818 total time=   0.0s\n",
      "[CV 3/5] END C=0.5, gamma=0.0001, kernel=linear;, score=0.792 total time=   0.0s\n",
      "[CV 4/5] END C=0.5, gamma=0.0001, kernel=linear;, score=0.844 total time=   0.0s\n",
      "[CV 5/5] END C=0.5, gamma=0.0001, kernel=linear;, score=0.791 total time=   0.0s\n",
      "[CV 1/5] END ...C=0.5, gamma=0.0001, kernel=rbf;, score=0.694 total time=   0.0s\n",
      "[CV 2/5] END ...C=0.5, gamma=0.0001, kernel=rbf;, score=0.676 total time=   0.0s\n",
      "[CV 3/5] END ...C=0.5, gamma=0.0001, kernel=rbf;, score=0.676 total time=   0.0s\n",
      "[CV 4/5] END ...C=0.5, gamma=0.0001, kernel=rbf;, score=0.676 total time=   0.0s\n",
      "[CV 5/5] END ...C=0.5, gamma=0.0001, kernel=rbf;, score=0.676 total time=   0.0s\n",
      "[CV 1/5] END ..C=0.5, gamma=0.0001, kernel=poly;, score=0.694 total time=   0.0s\n",
      "[CV 2/5] END ..C=0.5, gamma=0.0001, kernel=poly;, score=0.676 total time=   0.0s\n",
      "[CV 3/5] END ..C=0.5, gamma=0.0001, kernel=poly;, score=0.676 total time=   0.0s\n",
      "[CV 4/5] END ..C=0.5, gamma=0.0001, kernel=poly;, score=0.676 total time=   0.0s\n",
      "[CV 5/5] END ..C=0.5, gamma=0.0001, kernel=poly;, score=0.676 total time=   0.0s\n",
      "[CV 1/5] END .......C=1, gamma=1, kernel=linear;, score=0.800 total time=   0.0s\n",
      "[CV 2/5] END .......C=1, gamma=1, kernel=linear;, score=0.837 total time=   0.0s\n",
      "[CV 3/5] END .......C=1, gamma=1, kernel=linear;, score=0.792 total time=   0.0s\n",
      "[CV 4/5] END .......C=1, gamma=1, kernel=linear;, score=0.800 total time=   0.0s\n",
      "[CV 5/5] END .......C=1, gamma=1, kernel=linear;, score=0.818 total time=   0.0s\n",
      "[CV 1/5] END ..........C=1, gamma=1, kernel=rbf;, score=0.939 total time=   0.0s\n",
      "[CV 2/5] END ..........C=1, gamma=1, kernel=rbf;, score=0.936 total time=   0.0s\n",
      "[CV 3/5] END ..........C=1, gamma=1, kernel=rbf;, score=0.913 total time=   0.0s\n",
      "[CV 4/5] END ..........C=1, gamma=1, kernel=rbf;, score=0.979 total time=   0.0s\n",
      "[CV 5/5] END ..........C=1, gamma=1, kernel=rbf;, score=0.933 total time=   0.0s\n",
      "[CV 1/5] END .........C=1, gamma=1, kernel=poly;, score=0.818 total time=   0.0s\n",
      "[CV 2/5] END .........C=1, gamma=1, kernel=poly;, score=0.889 total time=   0.0s\n",
      "[CV 3/5] END .........C=1, gamma=1, kernel=poly;, score=0.884 total time=   0.0s\n",
      "[CV 4/5] END .........C=1, gamma=1, kernel=poly;, score=0.957 total time=   0.0s\n",
      "[CV 5/5] END .........C=1, gamma=1, kernel=poly;, score=0.884 total time=   0.0s\n",
      "[CV 1/5] END .....C=1, gamma=0.1, kernel=linear;, score=0.800 total time=   0.0s\n",
      "[CV 2/5] END .....C=1, gamma=0.1, kernel=linear;, score=0.837 total time=   0.0s\n",
      "[CV 3/5] END .....C=1, gamma=0.1, kernel=linear;, score=0.792 total time=   0.0s\n",
      "[CV 4/5] END .....C=1, gamma=0.1, kernel=linear;, score=0.800 total time=   0.0s\n",
      "[CV 5/5] END .....C=1, gamma=0.1, kernel=linear;, score=0.818 total time=   0.0s\n",
      "[CV 1/5] END ........C=1, gamma=0.1, kernel=rbf;, score=0.870 total time=   0.0s\n",
      "[CV 2/5] END ........C=1, gamma=0.1, kernel=rbf;, score=0.800 total time=   0.0s\n",
      "[CV 3/5] END ........C=1, gamma=0.1, kernel=rbf;, score=0.816 total time=   0.0s\n",
      "[CV 4/5] END ........C=1, gamma=0.1, kernel=rbf;, score=0.800 total time=   0.0s\n",
      "[CV 5/5] END ........C=1, gamma=0.1, kernel=rbf;, score=0.844 total time=   0.0s\n",
      "[CV 1/5] END .......C=1, gamma=0.1, kernel=poly;, score=0.694 total time=   0.0s\n",
      "[CV 2/5] END .......C=1, gamma=0.1, kernel=poly;, score=0.676 total time=   0.0s\n",
      "[CV 3/5] END .......C=1, gamma=0.1, kernel=poly;, score=0.676 total time=   0.0s\n",
      "[CV 4/5] END .......C=1, gamma=0.1, kernel=poly;, score=0.676 total time=   0.0s\n",
      "[CV 5/5] END .......C=1, gamma=0.1, kernel=poly;, score=0.676 total time=   0.0s\n",
      "[CV 1/5] END ....C=1, gamma=0.01, kernel=linear;, score=0.800 total time=   0.0s\n",
      "[CV 2/5] END ....C=1, gamma=0.01, kernel=linear;, score=0.837 total time=   0.0s\n",
      "[CV 3/5] END ....C=1, gamma=0.01, kernel=linear;, score=0.792 total time=   0.0s\n",
      "[CV 4/5] END ....C=1, gamma=0.01, kernel=linear;, score=0.800 total time=   0.0s\n",
      "[CV 5/5] END ....C=1, gamma=0.01, kernel=linear;, score=0.818 total time=   0.0s\n",
      "[CV 1/5] END .......C=1, gamma=0.01, kernel=rbf;, score=0.764 total time=   0.0s\n",
      "[CV 2/5] END .......C=1, gamma=0.01, kernel=rbf;, score=0.769 total time=   0.0s\n"
     ]
    },
    {
     "name": "stdout",
     "output_type": "stream",
     "text": [
      "[CV 3/5] END .......C=1, gamma=0.01, kernel=rbf;, score=0.702 total time=   0.0s\n",
      "[CV 4/5] END .......C=1, gamma=0.01, kernel=rbf;, score=0.769 total time=   0.0s\n",
      "[CV 5/5] END .......C=1, gamma=0.01, kernel=rbf;, score=0.816 total time=   0.0s\n",
      "[CV 1/5] END ......C=1, gamma=0.01, kernel=poly;, score=0.694 total time=   0.0s\n",
      "[CV 2/5] END ......C=1, gamma=0.01, kernel=poly;, score=0.676 total time=   0.0s\n",
      "[CV 3/5] END ......C=1, gamma=0.01, kernel=poly;, score=0.676 total time=   0.0s\n",
      "[CV 4/5] END ......C=1, gamma=0.01, kernel=poly;, score=0.676 total time=   0.0s\n",
      "[CV 5/5] END ......C=1, gamma=0.01, kernel=poly;, score=0.676 total time=   0.0s\n",
      "[CV 1/5] END ...C=1, gamma=0.001, kernel=linear;, score=0.800 total time=   0.0s\n",
      "[CV 2/5] END ...C=1, gamma=0.001, kernel=linear;, score=0.837 total time=   0.0s\n",
      "[CV 3/5] END ...C=1, gamma=0.001, kernel=linear;, score=0.792 total time=   0.0s\n",
      "[CV 4/5] END ...C=1, gamma=0.001, kernel=linear;, score=0.800 total time=   0.0s\n",
      "[CV 5/5] END ...C=1, gamma=0.001, kernel=linear;, score=0.818 total time=   0.0s\n",
      "[CV 1/5] END ......C=1, gamma=0.001, kernel=rbf;, score=0.694 total time=   0.0s\n",
      "[CV 2/5] END ......C=1, gamma=0.001, kernel=rbf;, score=0.676 total time=   0.0s\n",
      "[CV 3/5] END ......C=1, gamma=0.001, kernel=rbf;, score=0.676 total time=   0.0s\n",
      "[CV 4/5] END ......C=1, gamma=0.001, kernel=rbf;, score=0.676 total time=   0.0s\n",
      "[CV 5/5] END ......C=1, gamma=0.001, kernel=rbf;, score=0.676 total time=   0.0s\n",
      "[CV 1/5] END .....C=1, gamma=0.001, kernel=poly;, score=0.694 total time=   0.0s\n",
      "[CV 2/5] END .....C=1, gamma=0.001, kernel=poly;, score=0.676 total time=   0.0s\n",
      "[CV 3/5] END .....C=1, gamma=0.001, kernel=poly;, score=0.676 total time=   0.0s\n",
      "[CV 4/5] END .....C=1, gamma=0.001, kernel=poly;, score=0.676 total time=   0.0s\n",
      "[CV 5/5] END .....C=1, gamma=0.001, kernel=poly;, score=0.676 total time=   0.0s\n",
      "[CV 1/5] END ..C=1, gamma=0.0001, kernel=linear;, score=0.800 total time=   0.0s\n",
      "[CV 2/5] END ..C=1, gamma=0.0001, kernel=linear;, score=0.837 total time=   0.0s\n",
      "[CV 3/5] END ..C=1, gamma=0.0001, kernel=linear;, score=0.792 total time=   0.0s\n",
      "[CV 4/5] END ..C=1, gamma=0.0001, kernel=linear;, score=0.800 total time=   0.0s\n",
      "[CV 5/5] END ..C=1, gamma=0.0001, kernel=linear;, score=0.818 total time=   0.0s\n",
      "[CV 1/5] END .....C=1, gamma=0.0001, kernel=rbf;, score=0.694 total time=   0.0s\n",
      "[CV 2/5] END .....C=1, gamma=0.0001, kernel=rbf;, score=0.676 total time=   0.0s\n",
      "[CV 3/5] END .....C=1, gamma=0.0001, kernel=rbf;, score=0.676 total time=   0.0s\n",
      "[CV 4/5] END .....C=1, gamma=0.0001, kernel=rbf;, score=0.676 total time=   0.0s\n",
      "[CV 5/5] END .....C=1, gamma=0.0001, kernel=rbf;, score=0.676 total time=   0.0s\n",
      "[CV 1/5] END ....C=1, gamma=0.0001, kernel=poly;, score=0.694 total time=   0.0s\n",
      "[CV 2/5] END ....C=1, gamma=0.0001, kernel=poly;, score=0.676 total time=   0.0s\n",
      "[CV 3/5] END ....C=1, gamma=0.0001, kernel=poly;, score=0.676 total time=   0.0s\n",
      "[CV 4/5] END ....C=1, gamma=0.0001, kernel=poly;, score=0.676 total time=   0.0s\n",
      "[CV 5/5] END ....C=1, gamma=0.0001, kernel=poly;, score=0.676 total time=   0.0s\n",
      "[CV 1/5] END ......C=10, gamma=1, kernel=linear;, score=0.783 total time=   0.0s\n",
      "[CV 2/5] END ......C=10, gamma=1, kernel=linear;, score=0.844 total time=   0.0s\n",
      "[CV 3/5] END ......C=10, gamma=1, kernel=linear;, score=0.750 total time=   0.0s\n",
      "[CV 4/5] END ......C=10, gamma=1, kernel=linear;, score=0.800 total time=   0.0s\n",
      "[CV 5/5] END ......C=10, gamma=1, kernel=linear;, score=0.800 total time=   0.0s\n",
      "[CV 1/5] END .........C=10, gamma=1, kernel=rbf;, score=0.939 total time=   0.0s\n",
      "[CV 2/5] END .........C=10, gamma=1, kernel=rbf;, score=0.958 total time=   0.0s\n",
      "[CV 3/5] END .........C=10, gamma=1, kernel=rbf;, score=0.957 total time=   0.0s\n",
      "[CV 4/5] END .........C=10, gamma=1, kernel=rbf;, score=0.979 total time=   0.0s\n",
      "[CV 5/5] END .........C=10, gamma=1, kernel=rbf;, score=0.957 total time=   0.0s\n",
      "[CV 1/5] END ........C=10, gamma=1, kernel=poly;, score=0.844 total time=   0.0s\n",
      "[CV 2/5] END ........C=10, gamma=1, kernel=poly;, score=0.889 total time=   0.0s\n",
      "[CV 3/5] END ........C=10, gamma=1, kernel=poly;, score=0.909 total time=   0.0s\n",
      "[CV 4/5] END ........C=10, gamma=1, kernel=poly;, score=0.957 total time=   0.0s\n",
      "[CV 5/5] END ........C=10, gamma=1, kernel=poly;, score=0.913 total time=   0.0s\n",
      "[CV 1/5] END ....C=10, gamma=0.1, kernel=linear;, score=0.783 total time=   0.0s\n",
      "[CV 2/5] END ....C=10, gamma=0.1, kernel=linear;, score=0.844 total time=   0.0s\n",
      "[CV 3/5] END ....C=10, gamma=0.1, kernel=linear;, score=0.750 total time=   0.0s\n",
      "[CV 4/5] END ....C=10, gamma=0.1, kernel=linear;, score=0.800 total time=   0.0s\n",
      "[CV 5/5] END ....C=10, gamma=0.1, kernel=linear;, score=0.800 total time=   0.0s\n",
      "[CV 1/5] END .......C=10, gamma=0.1, kernel=rbf;, score=0.851 total time=   0.0s\n",
      "[CV 2/5] END .......C=10, gamma=0.1, kernel=rbf;, score=0.889 total time=   0.0s\n",
      "[CV 3/5] END .......C=10, gamma=0.1, kernel=rbf;, score=0.851 total time=   0.0s\n",
      "[CV 4/5] END .......C=10, gamma=0.1, kernel=rbf;, score=0.909 total time=   0.0s\n",
      "[CV 5/5] END .......C=10, gamma=0.1, kernel=rbf;, score=0.913 total time=   0.0s\n",
      "[CV 1/5] END ......C=10, gamma=0.1, kernel=poly;, score=0.718 total time=   0.0s\n",
      "[CV 2/5] END ......C=10, gamma=0.1, kernel=poly;, score=0.769 total time=   0.0s\n",
      "[CV 3/5] END ......C=10, gamma=0.1, kernel=poly;, score=0.780 total time=   0.0s\n",
      "[CV 4/5] END ......C=10, gamma=0.1, kernel=poly;, score=0.769 total time=   0.0s\n",
      "[CV 5/5] END ......C=10, gamma=0.1, kernel=poly;, score=0.829 total time=   0.0s\n",
      "[CV 1/5] END ...C=10, gamma=0.01, kernel=linear;, score=0.783 total time=   0.0s\n",
      "[CV 2/5] END ...C=10, gamma=0.01, kernel=linear;, score=0.844 total time=   0.0s\n",
      "[CV 3/5] END ...C=10, gamma=0.01, kernel=linear;, score=0.750 total time=   0.0s\n",
      "[CV 4/5] END ...C=10, gamma=0.01, kernel=linear;, score=0.800 total time=   0.0s\n",
      "[CV 5/5] END ...C=10, gamma=0.01, kernel=linear;, score=0.800 total time=   0.0s\n",
      "[CV 1/5] END ......C=10, gamma=0.01, kernel=rbf;, score=0.800 total time=   0.0s\n",
      "[CV 2/5] END ......C=10, gamma=0.01, kernel=rbf;, score=0.800 total time=   0.0s\n",
      "[CV 3/5] END ......C=10, gamma=0.01, kernel=rbf;, score=0.784 total time=   0.0s\n",
      "[CV 4/5] END ......C=10, gamma=0.01, kernel=rbf;, score=0.766 total time=   0.0s\n",
      "[CV 5/5] END ......C=10, gamma=0.01, kernel=rbf;, score=0.844 total time=   0.0s\n",
      "[CV 1/5] END .....C=10, gamma=0.01, kernel=poly;, score=0.694 total time=   0.0s\n",
      "[CV 2/5] END .....C=10, gamma=0.01, kernel=poly;, score=0.676 total time=   0.0s\n",
      "[CV 3/5] END .....C=10, gamma=0.01, kernel=poly;, score=0.676 total time=   0.0s\n",
      "[CV 4/5] END .....C=10, gamma=0.01, kernel=poly;, score=0.676 total time=   0.0s\n",
      "[CV 5/5] END .....C=10, gamma=0.01, kernel=poly;, score=0.676 total time=   0.0s\n",
      "[CV 1/5] END ..C=10, gamma=0.001, kernel=linear;, score=0.783 total time=   0.0s\n",
      "[CV 2/5] END ..C=10, gamma=0.001, kernel=linear;, score=0.844 total time=   0.0s\n",
      "[CV 3/5] END ..C=10, gamma=0.001, kernel=linear;, score=0.750 total time=   0.0s\n",
      "[CV 4/5] END ..C=10, gamma=0.001, kernel=linear;, score=0.800 total time=   0.0s\n",
      "[CV 5/5] END ..C=10, gamma=0.001, kernel=linear;, score=0.800 total time=   0.0s\n",
      "[CV 1/5] END .....C=10, gamma=0.001, kernel=rbf;, score=0.764 total time=   0.0s\n",
      "[CV 2/5] END .....C=10, gamma=0.001, kernel=rbf;, score=0.769 total time=   0.0s\n",
      "[CV 3/5] END .....C=10, gamma=0.001, kernel=rbf;, score=0.702 total time=   0.0s\n",
      "[CV 4/5] END .....C=10, gamma=0.001, kernel=rbf;, score=0.769 total time=   0.0s\n",
      "[CV 5/5] END .....C=10, gamma=0.001, kernel=rbf;, score=0.816 total time=   0.0s\n",
      "[CV 1/5] END ....C=10, gamma=0.001, kernel=poly;, score=0.694 total time=   0.0s\n",
      "[CV 2/5] END ....C=10, gamma=0.001, kernel=poly;, score=0.676 total time=   0.0s\n",
      "[CV 3/5] END ....C=10, gamma=0.001, kernel=poly;, score=0.676 total time=   0.0s\n",
      "[CV 4/5] END ....C=10, gamma=0.001, kernel=poly;, score=0.676 total time=   0.0s\n",
      "[CV 5/5] END ....C=10, gamma=0.001, kernel=poly;, score=0.676 total time=   0.0s\n",
      "[CV 1/5] END .C=10, gamma=0.0001, kernel=linear;, score=0.783 total time=   0.0s\n",
      "[CV 2/5] END .C=10, gamma=0.0001, kernel=linear;, score=0.844 total time=   0.0s\n",
      "[CV 3/5] END .C=10, gamma=0.0001, kernel=linear;, score=0.750 total time=   0.0s\n",
      "[CV 4/5] END .C=10, gamma=0.0001, kernel=linear;, score=0.800 total time=   0.0s\n"
     ]
    },
    {
     "name": "stdout",
     "output_type": "stream",
     "text": [
      "[CV 5/5] END .C=10, gamma=0.0001, kernel=linear;, score=0.800 total time=   0.0s\n",
      "[CV 1/5] END ....C=10, gamma=0.0001, kernel=rbf;, score=0.694 total time=   0.0s\n",
      "[CV 2/5] END ....C=10, gamma=0.0001, kernel=rbf;, score=0.676 total time=   0.0s\n",
      "[CV 3/5] END ....C=10, gamma=0.0001, kernel=rbf;, score=0.676 total time=   0.0s\n",
      "[CV 4/5] END ....C=10, gamma=0.0001, kernel=rbf;, score=0.676 total time=   0.0s\n",
      "[CV 5/5] END ....C=10, gamma=0.0001, kernel=rbf;, score=0.676 total time=   0.0s\n",
      "[CV 1/5] END ...C=10, gamma=0.0001, kernel=poly;, score=0.694 total time=   0.0s\n",
      "[CV 2/5] END ...C=10, gamma=0.0001, kernel=poly;, score=0.676 total time=   0.0s\n",
      "[CV 3/5] END ...C=10, gamma=0.0001, kernel=poly;, score=0.676 total time=   0.0s\n",
      "[CV 4/5] END ...C=10, gamma=0.0001, kernel=poly;, score=0.676 total time=   0.0s\n",
      "[CV 5/5] END ...C=10, gamma=0.0001, kernel=poly;, score=0.676 total time=   0.0s\n",
      "[CV 1/5] END .....C=100, gamma=1, kernel=linear;, score=0.783 total time=   0.0s\n",
      "[CV 2/5] END .....C=100, gamma=1, kernel=linear;, score=0.844 total time=   0.0s\n",
      "[CV 3/5] END .....C=100, gamma=1, kernel=linear;, score=0.750 total time=   0.0s\n",
      "[CV 4/5] END .....C=100, gamma=1, kernel=linear;, score=0.744 total time=   0.0s\n",
      "[CV 5/5] END .....C=100, gamma=1, kernel=linear;, score=0.800 total time=   0.0s\n",
      "[CV 1/5] END ........C=100, gamma=1, kernel=rbf;, score=0.920 total time=   0.0s\n",
      "[CV 2/5] END ........C=100, gamma=1, kernel=rbf;, score=0.958 total time=   0.0s\n",
      "[CV 3/5] END ........C=100, gamma=1, kernel=rbf;, score=0.936 total time=   0.0s\n",
      "[CV 4/5] END ........C=100, gamma=1, kernel=rbf;, score=0.957 total time=   0.0s\n",
      "[CV 5/5] END ........C=100, gamma=1, kernel=rbf;, score=0.936 total time=   0.0s\n",
      "[CV 1/5] END .......C=100, gamma=1, kernel=poly;, score=0.870 total time=   0.0s\n",
      "[CV 2/5] END .......C=100, gamma=1, kernel=poly;, score=0.889 total time=   0.0s\n",
      "[CV 3/5] END .......C=100, gamma=1, kernel=poly;, score=0.884 total time=   0.0s\n",
      "[CV 4/5] END .......C=100, gamma=1, kernel=poly;, score=0.957 total time=   0.0s\n",
      "[CV 5/5] END .......C=100, gamma=1, kernel=poly;, score=0.844 total time=   0.0s\n",
      "[CV 1/5] END ...C=100, gamma=0.1, kernel=linear;, score=0.783 total time=   0.0s\n",
      "[CV 2/5] END ...C=100, gamma=0.1, kernel=linear;, score=0.844 total time=   0.0s\n",
      "[CV 3/5] END ...C=100, gamma=0.1, kernel=linear;, score=0.750 total time=   0.0s\n",
      "[CV 4/5] END ...C=100, gamma=0.1, kernel=linear;, score=0.744 total time=   0.0s\n",
      "[CV 5/5] END ...C=100, gamma=0.1, kernel=linear;, score=0.800 total time=   0.0s\n",
      "[CV 1/5] END ......C=100, gamma=0.1, kernel=rbf;, score=0.894 total time=   0.0s\n",
      "[CV 2/5] END ......C=100, gamma=0.1, kernel=rbf;, score=0.913 total time=   0.0s\n",
      "[CV 3/5] END ......C=100, gamma=0.1, kernel=rbf;, score=0.870 total time=   0.0s\n",
      "[CV 4/5] END ......C=100, gamma=0.1, kernel=rbf;, score=0.979 total time=   0.0s\n",
      "[CV 5/5] END ......C=100, gamma=0.1, kernel=rbf;, score=0.933 total time=   0.0s\n",
      "[CV 1/5] END .....C=100, gamma=0.1, kernel=poly;, score=0.750 total time=   0.0s\n",
      "[CV 2/5] END .....C=100, gamma=0.1, kernel=poly;, score=0.800 total time=   0.0s\n",
      "[CV 3/5] END .....C=100, gamma=0.1, kernel=poly;, score=0.810 total time=   0.0s\n",
      "[CV 4/5] END .....C=100, gamma=0.1, kernel=poly;, score=0.800 total time=   0.0s\n",
      "[CV 5/5] END .....C=100, gamma=0.1, kernel=poly;, score=0.829 total time=   0.0s\n",
      "[CV 1/5] END ..C=100, gamma=0.01, kernel=linear;, score=0.783 total time=   0.0s\n",
      "[CV 2/5] END ..C=100, gamma=0.01, kernel=linear;, score=0.844 total time=   0.0s\n",
      "[CV 3/5] END ..C=100, gamma=0.01, kernel=linear;, score=0.750 total time=   0.0s\n",
      "[CV 4/5] END ..C=100, gamma=0.01, kernel=linear;, score=0.744 total time=   0.0s\n",
      "[CV 5/5] END ..C=100, gamma=0.01, kernel=linear;, score=0.800 total time=   0.0s\n",
      "[CV 1/5] END .....C=100, gamma=0.01, kernel=rbf;, score=0.826 total time=   0.0s\n",
      "[CV 2/5] END .....C=100, gamma=0.01, kernel=rbf;, score=0.818 total time=   0.0s\n",
      "[CV 3/5] END .....C=100, gamma=0.01, kernel=rbf;, score=0.776 total time=   0.0s\n",
      "[CV 4/5] END .....C=100, gamma=0.01, kernel=rbf;, score=0.791 total time=   0.0s\n",
      "[CV 5/5] END .....C=100, gamma=0.01, kernel=rbf;, score=0.844 total time=   0.0s\n",
      "[CV 1/5] END ....C=100, gamma=0.01, kernel=poly;, score=0.694 total time=   0.0s\n",
      "[CV 2/5] END ....C=100, gamma=0.01, kernel=poly;, score=0.676 total time=   0.0s\n",
      "[CV 3/5] END ....C=100, gamma=0.01, kernel=poly;, score=0.676 total time=   0.0s\n",
      "[CV 4/5] END ....C=100, gamma=0.01, kernel=poly;, score=0.676 total time=   0.0s\n",
      "[CV 5/5] END ....C=100, gamma=0.01, kernel=poly;, score=0.676 total time=   0.0s\n",
      "[CV 1/5] END .C=100, gamma=0.001, kernel=linear;, score=0.783 total time=   0.0s\n",
      "[CV 2/5] END .C=100, gamma=0.001, kernel=linear;, score=0.844 total time=   0.0s\n",
      "[CV 3/5] END .C=100, gamma=0.001, kernel=linear;, score=0.750 total time=   0.0s\n",
      "[CV 4/5] END .C=100, gamma=0.001, kernel=linear;, score=0.744 total time=   0.0s\n",
      "[CV 5/5] END .C=100, gamma=0.001, kernel=linear;, score=0.800 total time=   0.0s\n",
      "[CV 1/5] END ....C=100, gamma=0.001, kernel=rbf;, score=0.776 total time=   0.0s\n",
      "[CV 2/5] END ....C=100, gamma=0.001, kernel=rbf;, score=0.800 total time=   0.0s\n",
      "[CV 3/5] END ....C=100, gamma=0.001, kernel=rbf;, score=0.784 total time=   0.0s\n",
      "[CV 4/5] END ....C=100, gamma=0.001, kernel=rbf;, score=0.766 total time=   0.0s\n",
      "[CV 5/5] END ....C=100, gamma=0.001, kernel=rbf;, score=0.844 total time=   0.0s\n",
      "[CV 1/5] END ...C=100, gamma=0.001, kernel=poly;, score=0.694 total time=   0.0s\n",
      "[CV 2/5] END ...C=100, gamma=0.001, kernel=poly;, score=0.676 total time=   0.0s\n",
      "[CV 3/5] END ...C=100, gamma=0.001, kernel=poly;, score=0.676 total time=   0.0s\n",
      "[CV 4/5] END ...C=100, gamma=0.001, kernel=poly;, score=0.676 total time=   0.0s\n",
      "[CV 5/5] END ...C=100, gamma=0.001, kernel=poly;, score=0.676 total time=   0.0s\n",
      "[CV 1/5] END C=100, gamma=0.0001, kernel=linear;, score=0.783 total time=   0.0s\n",
      "[CV 2/5] END C=100, gamma=0.0001, kernel=linear;, score=0.844 total time=   0.0s\n",
      "[CV 3/5] END C=100, gamma=0.0001, kernel=linear;, score=0.750 total time=   0.0s\n",
      "[CV 4/5] END C=100, gamma=0.0001, kernel=linear;, score=0.744 total time=   0.0s\n",
      "[CV 5/5] END C=100, gamma=0.0001, kernel=linear;, score=0.800 total time=   0.0s\n",
      "[CV 1/5] END ...C=100, gamma=0.0001, kernel=rbf;, score=0.764 total time=   0.0s\n",
      "[CV 2/5] END ...C=100, gamma=0.0001, kernel=rbf;, score=0.769 total time=   0.0s\n",
      "[CV 3/5] END ...C=100, gamma=0.0001, kernel=rbf;, score=0.702 total time=   0.0s\n",
      "[CV 4/5] END ...C=100, gamma=0.0001, kernel=rbf;, score=0.769 total time=   0.0s\n",
      "[CV 5/5] END ...C=100, gamma=0.0001, kernel=rbf;, score=0.816 total time=   0.0s\n",
      "[CV 1/5] END ..C=100, gamma=0.0001, kernel=poly;, score=0.694 total time=   0.0s\n",
      "[CV 2/5] END ..C=100, gamma=0.0001, kernel=poly;, score=0.676 total time=   0.0s\n",
      "[CV 3/5] END ..C=100, gamma=0.0001, kernel=poly;, score=0.676 total time=   0.0s\n",
      "[CV 4/5] END ..C=100, gamma=0.0001, kernel=poly;, score=0.676 total time=   0.0s\n",
      "[CV 5/5] END ..C=100, gamma=0.0001, kernel=poly;, score=0.676 total time=   0.0s\n"
     ]
    },
    {
     "data": {
      "text/html": [
       "<style>#sk-container-id-6 {color: black;background-color: white;}#sk-container-id-6 pre{padding: 0;}#sk-container-id-6 div.sk-toggleable {background-color: white;}#sk-container-id-6 label.sk-toggleable__label {cursor: pointer;display: block;width: 100%;margin-bottom: 0;padding: 0.3em;box-sizing: border-box;text-align: center;}#sk-container-id-6 label.sk-toggleable__label-arrow:before {content: \"▸\";float: left;margin-right: 0.25em;color: #696969;}#sk-container-id-6 label.sk-toggleable__label-arrow:hover:before {color: black;}#sk-container-id-6 div.sk-estimator:hover label.sk-toggleable__label-arrow:before {color: black;}#sk-container-id-6 div.sk-toggleable__content {max-height: 0;max-width: 0;overflow: hidden;text-align: left;background-color: #f0f8ff;}#sk-container-id-6 div.sk-toggleable__content pre {margin: 0.2em;color: black;border-radius: 0.25em;background-color: #f0f8ff;}#sk-container-id-6 input.sk-toggleable__control:checked~div.sk-toggleable__content {max-height: 200px;max-width: 100%;overflow: auto;}#sk-container-id-6 input.sk-toggleable__control:checked~label.sk-toggleable__label-arrow:before {content: \"▾\";}#sk-container-id-6 div.sk-estimator input.sk-toggleable__control:checked~label.sk-toggleable__label {background-color: #d4ebff;}#sk-container-id-6 div.sk-label input.sk-toggleable__control:checked~label.sk-toggleable__label {background-color: #d4ebff;}#sk-container-id-6 input.sk-hidden--visually {border: 0;clip: rect(1px 1px 1px 1px);clip: rect(1px, 1px, 1px, 1px);height: 1px;margin: -1px;overflow: hidden;padding: 0;position: absolute;width: 1px;}#sk-container-id-6 div.sk-estimator {font-family: monospace;background-color: #f0f8ff;border: 1px dotted black;border-radius: 0.25em;box-sizing: border-box;margin-bottom: 0.5em;}#sk-container-id-6 div.sk-estimator:hover {background-color: #d4ebff;}#sk-container-id-6 div.sk-parallel-item::after {content: \"\";width: 100%;border-bottom: 1px solid gray;flex-grow: 1;}#sk-container-id-6 div.sk-label:hover label.sk-toggleable__label {background-color: #d4ebff;}#sk-container-id-6 div.sk-serial::before {content: \"\";position: absolute;border-left: 1px solid gray;box-sizing: border-box;top: 0;bottom: 0;left: 50%;z-index: 0;}#sk-container-id-6 div.sk-serial {display: flex;flex-direction: column;align-items: center;background-color: white;padding-right: 0.2em;padding-left: 0.2em;position: relative;}#sk-container-id-6 div.sk-item {position: relative;z-index: 1;}#sk-container-id-6 div.sk-parallel {display: flex;align-items: stretch;justify-content: center;background-color: white;position: relative;}#sk-container-id-6 div.sk-item::before, #sk-container-id-6 div.sk-parallel-item::before {content: \"\";position: absolute;border-left: 1px solid gray;box-sizing: border-box;top: 0;bottom: 0;left: 50%;z-index: -1;}#sk-container-id-6 div.sk-parallel-item {display: flex;flex-direction: column;z-index: 1;position: relative;background-color: white;}#sk-container-id-6 div.sk-parallel-item:first-child::after {align-self: flex-end;width: 50%;}#sk-container-id-6 div.sk-parallel-item:last-child::after {align-self: flex-start;width: 50%;}#sk-container-id-6 div.sk-parallel-item:only-child::after {width: 0;}#sk-container-id-6 div.sk-dashed-wrapped {border: 1px dashed gray;margin: 0 0.4em 0.5em 0.4em;box-sizing: border-box;padding-bottom: 0.4em;background-color: white;}#sk-container-id-6 div.sk-label label {font-family: monospace;font-weight: bold;display: inline-block;line-height: 1.2em;}#sk-container-id-6 div.sk-label-container {text-align: center;}#sk-container-id-6 div.sk-container {/* jupyter's `normalize.less` sets `[hidden] { display: none; }` but bootstrap.min.css set `[hidden] { display: none !important; }` so we also need the `!important` here to be able to override the default hidden behavior on the sphinx rendered scikit-learn.org. See: https://github.com/scikit-learn/scikit-learn/issues/21755 */display: inline-block !important;position: relative;}#sk-container-id-6 div.sk-text-repr-fallback {display: none;}</style><div id=\"sk-container-id-6\" class=\"sk-top-container\"><div class=\"sk-text-repr-fallback\"><pre>VotingClassifier(estimators=[(&#x27;logmodel&#x27;, LogisticRegression()),\n",
       "                             (&#x27;xgb_clf&#x27;,\n",
       "                              XGBClassifier(base_score=0.5, booster=&#x27;gbtree&#x27;,\n",
       "                                            callbacks=None, colsample_bylevel=1,\n",
       "                                            colsample_bynode=1,\n",
       "                                            colsample_bytree=1,\n",
       "                                            early_stopping_rounds=None,\n",
       "                                            enable_categorical=False, eta=0.1,\n",
       "                                            eval_metric=None, gamma=0,\n",
       "                                            gpu_id=-1, grow_policy=&#x27;depthwise&#x27;,\n",
       "                                            importance_type=None,\n",
       "                                            interaction_const...\n",
       "                                           param_grid={&#x27;eta&#x27;: [0.1, 0.2, 0.3,\n",
       "                                                               0.4, 0.5],\n",
       "                                                       &#x27;max_depth&#x27;: range(4, 8),\n",
       "                                                       &#x27;random_state&#x27;: [300,\n",
       "                                                                        600,\n",
       "                                                                        900],\n",
       "                                                       &#x27;reg_lambda&#x27;: [0.8, 0.9,\n",
       "                                                                      1, 1.1,\n",
       "                                                                      1.2]},\n",
       "                                           scoring=&#x27;f1&#x27;, verbose=1)),\n",
       "                             (&#x27;gnb&#x27;, GaussianNB()),\n",
       "                             (&#x27;grid_SVC&#x27;,\n",
       "                              GridSearchCV(estimator=SVC(probability=True),\n",
       "                                           param_grid={&#x27;C&#x27;: [0.5, 1, 10, 100],\n",
       "                                                       &#x27;gamma&#x27;: [1, 0.1, 0.01,\n",
       "                                                                 0.001,\n",
       "                                                                 0.0001],\n",
       "                                                       &#x27;kernel&#x27;: [&#x27;linear&#x27;,\n",
       "                                                                  &#x27;rbf&#x27;,\n",
       "                                                                  &#x27;poly&#x27;]},\n",
       "                                           scoring=&#x27;f1&#x27;, verbose=3))])</pre><b>In a Jupyter environment, please rerun this cell to show the HTML representation or trust the notebook. <br />On GitHub, the HTML representation is unable to render, please try loading this page with nbviewer.org.</b></div><div class=\"sk-container\" hidden><div class=\"sk-item sk-dashed-wrapped\"><div class=\"sk-label-container\"><div class=\"sk-label sk-toggleable\"><input class=\"sk-toggleable__control sk-hidden--visually\" id=\"sk-estimator-id-21\" type=\"checkbox\" ><label for=\"sk-estimator-id-21\" class=\"sk-toggleable__label sk-toggleable__label-arrow\">VotingClassifier</label><div class=\"sk-toggleable__content\"><pre>VotingClassifier(estimators=[(&#x27;logmodel&#x27;, LogisticRegression()),\n",
       "                             (&#x27;xgb_clf&#x27;,\n",
       "                              XGBClassifier(base_score=0.5, booster=&#x27;gbtree&#x27;,\n",
       "                                            callbacks=None, colsample_bylevel=1,\n",
       "                                            colsample_bynode=1,\n",
       "                                            colsample_bytree=1,\n",
       "                                            early_stopping_rounds=None,\n",
       "                                            enable_categorical=False, eta=0.1,\n",
       "                                            eval_metric=None, gamma=0,\n",
       "                                            gpu_id=-1, grow_policy=&#x27;depthwise&#x27;,\n",
       "                                            importance_type=None,\n",
       "                                            interaction_const...\n",
       "                                           param_grid={&#x27;eta&#x27;: [0.1, 0.2, 0.3,\n",
       "                                                               0.4, 0.5],\n",
       "                                                       &#x27;max_depth&#x27;: range(4, 8),\n",
       "                                                       &#x27;random_state&#x27;: [300,\n",
       "                                                                        600,\n",
       "                                                                        900],\n",
       "                                                       &#x27;reg_lambda&#x27;: [0.8, 0.9,\n",
       "                                                                      1, 1.1,\n",
       "                                                                      1.2]},\n",
       "                                           scoring=&#x27;f1&#x27;, verbose=1)),\n",
       "                             (&#x27;gnb&#x27;, GaussianNB()),\n",
       "                             (&#x27;grid_SVC&#x27;,\n",
       "                              GridSearchCV(estimator=SVC(probability=True),\n",
       "                                           param_grid={&#x27;C&#x27;: [0.5, 1, 10, 100],\n",
       "                                                       &#x27;gamma&#x27;: [1, 0.1, 0.01,\n",
       "                                                                 0.001,\n",
       "                                                                 0.0001],\n",
       "                                                       &#x27;kernel&#x27;: [&#x27;linear&#x27;,\n",
       "                                                                  &#x27;rbf&#x27;,\n",
       "                                                                  &#x27;poly&#x27;]},\n",
       "                                           scoring=&#x27;f1&#x27;, verbose=3))])</pre></div></div></div><div class=\"sk-parallel\"><div class=\"sk-parallel-item\"><div class=\"sk-item\"><div class=\"sk-label-container\"><div class=\"sk-label sk-toggleable\"><label>logmodel</label></div></div><div class=\"sk-serial\"><div class=\"sk-item\"><div class=\"sk-estimator sk-toggleable\"><input class=\"sk-toggleable__control sk-hidden--visually\" id=\"sk-estimator-id-22\" type=\"checkbox\" ><label for=\"sk-estimator-id-22\" class=\"sk-toggleable__label sk-toggleable__label-arrow\">LogisticRegression</label><div class=\"sk-toggleable__content\"><pre>LogisticRegression()</pre></div></div></div></div></div></div><div class=\"sk-parallel-item\"><div class=\"sk-item\"><div class=\"sk-label-container\"><div class=\"sk-label sk-toggleable\"><label>xgb_clf</label></div></div><div class=\"sk-serial\"><div class=\"sk-item\"><div class=\"sk-estimator sk-toggleable\"><input class=\"sk-toggleable__control sk-hidden--visually\" id=\"sk-estimator-id-23\" type=\"checkbox\" ><label for=\"sk-estimator-id-23\" class=\"sk-toggleable__label sk-toggleable__label-arrow\">XGBClassifier</label><div class=\"sk-toggleable__content\"><pre>XGBClassifier(base_score=0.5, booster=&#x27;gbtree&#x27;, callbacks=None,\n",
       "              colsample_bylevel=1, colsample_bynode=1, colsample_bytree=1,\n",
       "              early_stopping_rounds=None, enable_categorical=False, eta=0.1,\n",
       "              eval_metric=None, gamma=0, gpu_id=-1, grow_policy=&#x27;depthwise&#x27;,\n",
       "              importance_type=None, interaction_constraints=&#x27;&#x27;,\n",
       "              learning_rate=0.100000001, max_bin=256, max_cat_to_onehot=4,\n",
       "              max_delta_step=0, max_depth=6, max_leaves=0, min_child_weight=1,\n",
       "              missing=nan, monotone_constraints=&#x27;()&#x27;, n_estimators=100,\n",
       "              n_jobs=0, num_parallel_tree=1, predictor=&#x27;auto&#x27;, random_state=300,\n",
       "              reg_alpha=0, ...)</pre></div></div></div></div></div></div><div class=\"sk-parallel-item\"><div class=\"sk-item\"><div class=\"sk-label-container\"><div class=\"sk-label sk-toggleable\"><label>clf</label></div></div><div class=\"sk-serial\"><div class=\"sk-item sk-dashed-wrapped\"><div class=\"sk-parallel\"><div class=\"sk-parallel-item\"><div class=\"sk-item\"><div class=\"sk-label-container\"><div class=\"sk-label sk-toggleable\"><input class=\"sk-toggleable__control sk-hidden--visually\" id=\"sk-estimator-id-24\" type=\"checkbox\" ><label for=\"sk-estimator-id-24\" class=\"sk-toggleable__label sk-toggleable__label-arrow\">estimator: XGBClassifier</label><div class=\"sk-toggleable__content\"><pre>XGBClassifier(base_score=None, booster=None, callbacks=None,\n",
       "              colsample_bylevel=None, colsample_bynode=None,\n",
       "              colsample_bytree=None, early_stopping_rounds=None,\n",
       "              enable_categorical=False, eval_metric=None, gamma=None,\n",
       "              gpu_id=None, grow_policy=None, importance_type=None,\n",
       "              interaction_constraints=None, learning_rate=None, max_bin=None,\n",
       "              max_cat_to_onehot=None, max_delta_step=None, max_depth=None,\n",
       "              max_leaves=None, min_child_weight=None, missing=nan,\n",
       "              monotone_constraints=None, n_estimators=100, n_jobs=None,\n",
       "              num_parallel_tree=None, predictor=None, random_state=None,\n",
       "              reg_alpha=None, reg_lambda=None, ...)</pre></div></div></div><div class=\"sk-serial\"><div class=\"sk-item\"><div class=\"sk-estimator sk-toggleable\"><input class=\"sk-toggleable__control sk-hidden--visually\" id=\"sk-estimator-id-25\" type=\"checkbox\" ><label for=\"sk-estimator-id-25\" class=\"sk-toggleable__label sk-toggleable__label-arrow\">XGBClassifier</label><div class=\"sk-toggleable__content\"><pre>XGBClassifier(base_score=None, booster=None, callbacks=None,\n",
       "              colsample_bylevel=None, colsample_bynode=None,\n",
       "              colsample_bytree=None, early_stopping_rounds=None,\n",
       "              enable_categorical=False, eval_metric=None, gamma=None,\n",
       "              gpu_id=None, grow_policy=None, importance_type=None,\n",
       "              interaction_constraints=None, learning_rate=None, max_bin=None,\n",
       "              max_cat_to_onehot=None, max_delta_step=None, max_depth=None,\n",
       "              max_leaves=None, min_child_weight=None, missing=nan,\n",
       "              monotone_constraints=None, n_estimators=100, n_jobs=None,\n",
       "              num_parallel_tree=None, predictor=None, random_state=None,\n",
       "              reg_alpha=None, reg_lambda=None, ...)</pre></div></div></div></div></div></div></div></div></div></div></div><div class=\"sk-parallel-item\"><div class=\"sk-item\"><div class=\"sk-label-container\"><div class=\"sk-label sk-toggleable\"><label>gnb</label></div></div><div class=\"sk-serial\"><div class=\"sk-item\"><div class=\"sk-estimator sk-toggleable\"><input class=\"sk-toggleable__control sk-hidden--visually\" id=\"sk-estimator-id-26\" type=\"checkbox\" ><label for=\"sk-estimator-id-26\" class=\"sk-toggleable__label sk-toggleable__label-arrow\">GaussianNB</label><div class=\"sk-toggleable__content\"><pre>GaussianNB()</pre></div></div></div></div></div></div><div class=\"sk-parallel-item\"><div class=\"sk-item\"><div class=\"sk-label-container\"><div class=\"sk-label sk-toggleable\"><label>grid_SVC</label></div></div><div class=\"sk-serial\"><div class=\"sk-item sk-dashed-wrapped\"><div class=\"sk-parallel\"><div class=\"sk-parallel-item\"><div class=\"sk-item\"><div class=\"sk-label-container\"><div class=\"sk-label sk-toggleable\"><input class=\"sk-toggleable__control sk-hidden--visually\" id=\"sk-estimator-id-27\" type=\"checkbox\" ><label for=\"sk-estimator-id-27\" class=\"sk-toggleable__label sk-toggleable__label-arrow\">estimator: SVC</label><div class=\"sk-toggleable__content\"><pre>SVC(probability=True)</pre></div></div></div><div class=\"sk-serial\"><div class=\"sk-item\"><div class=\"sk-estimator sk-toggleable\"><input class=\"sk-toggleable__control sk-hidden--visually\" id=\"sk-estimator-id-28\" type=\"checkbox\" ><label for=\"sk-estimator-id-28\" class=\"sk-toggleable__label sk-toggleable__label-arrow\">SVC</label><div class=\"sk-toggleable__content\"><pre>SVC(probability=True)</pre></div></div></div></div></div></div></div></div></div></div></div></div></div></div></div>"
      ],
      "text/plain": [
       "VotingClassifier(estimators=[('logmodel', LogisticRegression()),\n",
       "                             ('xgb_clf',\n",
       "                              XGBClassifier(base_score=0.5, booster='gbtree',\n",
       "                                            callbacks=None, colsample_bylevel=1,\n",
       "                                            colsample_bynode=1,\n",
       "                                            colsample_bytree=1,\n",
       "                                            early_stopping_rounds=None,\n",
       "                                            enable_categorical=False, eta=0.1,\n",
       "                                            eval_metric=None, gamma=0,\n",
       "                                            gpu_id=-1, grow_policy='depthwise',\n",
       "                                            importance_type=None,\n",
       "                                            interaction_const...\n",
       "                                           param_grid={'eta': [0.1, 0.2, 0.3,\n",
       "                                                               0.4, 0.5],\n",
       "                                                       'max_depth': range(4, 8),\n",
       "                                                       'random_state': [300,\n",
       "                                                                        600,\n",
       "                                                                        900],\n",
       "                                                       'reg_lambda': [0.8, 0.9,\n",
       "                                                                      1, 1.1,\n",
       "                                                                      1.2]},\n",
       "                                           scoring='f1', verbose=1)),\n",
       "                             ('gnb', GaussianNB()),\n",
       "                             ('grid_SVC',\n",
       "                              GridSearchCV(estimator=SVC(probability=True),\n",
       "                                           param_grid={'C': [0.5, 1, 10, 100],\n",
       "                                                       'gamma': [1, 0.1, 0.01,\n",
       "                                                                 0.001,\n",
       "                                                                 0.0001],\n",
       "                                                       'kernel': ['linear',\n",
       "                                                                  'rbf',\n",
       "                                                                  'poly']},\n",
       "                                           scoring='f1', verbose=3))])"
      ]
     },
     "execution_count": 133,
     "metadata": {},
     "output_type": "execute_result"
    }
   ],
   "source": [
    "hard_evc = VotingClassifier(estimators = [('logmodel', logmodel), ('xgb_clf',xgb_clf), ('clf', clf),('gnb', gnb),\n",
    "                                     (\"grid_SVC\", grid_SVC)], voting = 'hard')\n",
    "hard_evc.fit(X_train, y_train)"
   ]
  },
  {
   "cell_type": "code",
   "execution_count": 134,
   "id": "a3fb5fdb",
   "metadata": {},
   "outputs": [],
   "source": [
    "def evaluate(y_test, y_pred, X_test, clf):\n",
    "    print(confusion_matrix(y_test, y_pred))\n",
    "    print(classification_report(y_test, y_pred))"
   ]
  },
  {
   "cell_type": "code",
   "execution_count": 135,
   "id": "fa0c95cb",
   "metadata": {},
   "outputs": [
    {
     "name": "stdout",
     "output_type": "stream",
     "text": [
      "[[31  2]\n",
      " [ 8 18]]\n",
      "              precision    recall  f1-score   support\n",
      "\n",
      "           0       0.79      0.94      0.86        33\n",
      "           1       0.90      0.69      0.78        26\n",
      "\n",
      "    accuracy                           0.83        59\n",
      "   macro avg       0.85      0.82      0.82        59\n",
      "weighted avg       0.84      0.83      0.83        59\n",
      "\n"
     ]
    }
   ],
   "source": [
    "##### y_pred = hard_evc.predict(X_test)\n",
    "evaluate(y_test, y_pred, X_test, hard_evc)"
   ]
  },
  {
   "cell_type": "markdown",
   "id": "6d29e6b1",
   "metadata": {},
   "source": [
    "Hard voting entails picking the prediction with the highest number of votes.\n",
    "Soft voting entails combining the probabilities of each prediction in each model and picking the prediction with the highest total probability."
   ]
  },
  {
   "cell_type": "code",
   "execution_count": 137,
   "id": "318b9511",
   "metadata": {
    "scrolled": true
   },
   "outputs": [
    {
     "name": "stdout",
     "output_type": "stream",
     "text": [
      "Fitting 3 folds for each of 300 candidates, totalling 900 fits\n",
      "Fitting 5 folds for each of 60 candidates, totalling 300 fits\n",
      "[CV 1/5] END .....C=0.5, gamma=1, kernel=linear;, score=0.809 total time=   0.0s\n",
      "[CV 2/5] END .....C=0.5, gamma=1, kernel=linear;, score=0.818 total time=   0.0s\n",
      "[CV 3/5] END .....C=0.5, gamma=1, kernel=linear;, score=0.792 total time=   0.0s\n",
      "[CV 4/5] END .....C=0.5, gamma=1, kernel=linear;, score=0.844 total time=   0.0s\n",
      "[CV 5/5] END .....C=0.5, gamma=1, kernel=linear;, score=0.791 total time=   0.0s\n",
      "[CV 1/5] END ........C=0.5, gamma=1, kernel=rbf;, score=0.875 total time=   0.0s\n",
      "[CV 2/5] END ........C=0.5, gamma=1, kernel=rbf;, score=0.913 total time=   0.0s\n",
      "[CV 3/5] END ........C=0.5, gamma=1, kernel=rbf;, score=0.913 total time=   0.0s\n",
      "[CV 4/5] END ........C=0.5, gamma=1, kernel=rbf;, score=0.957 total time=   0.0s\n",
      "[CV 5/5] END ........C=0.5, gamma=1, kernel=rbf;, score=0.933 total time=   0.0s\n",
      "[CV 1/5] END .......C=0.5, gamma=1, kernel=poly;, score=0.780 total time=   0.0s\n",
      "[CV 2/5] END .......C=0.5, gamma=1, kernel=poly;, score=0.864 total time=   0.0s\n",
      "[CV 3/5] END .......C=0.5, gamma=1, kernel=poly;, score=0.884 total time=   0.0s\n",
      "[CV 4/5] END .......C=0.5, gamma=1, kernel=poly;, score=0.957 total time=   0.0s\n",
      "[CV 5/5] END .......C=0.5, gamma=1, kernel=poly;, score=0.857 total time=   0.0s\n",
      "[CV 1/5] END ...C=0.5, gamma=0.1, kernel=linear;, score=0.809 total time=   0.0s\n",
      "[CV 2/5] END ...C=0.5, gamma=0.1, kernel=linear;, score=0.818 total time=   0.0s\n",
      "[CV 3/5] END ...C=0.5, gamma=0.1, kernel=linear;, score=0.792 total time=   0.0s\n",
      "[CV 4/5] END ...C=0.5, gamma=0.1, kernel=linear;, score=0.844 total time=   0.0s\n",
      "[CV 5/5] END ...C=0.5, gamma=0.1, kernel=linear;, score=0.791 total time=   0.0s\n",
      "[CV 1/5] END ......C=0.5, gamma=0.1, kernel=rbf;, score=0.750 total time=   0.0s\n",
      "[CV 2/5] END ......C=0.5, gamma=0.1, kernel=rbf;, score=0.800 total time=   0.0s\n",
      "[CV 3/5] END ......C=0.5, gamma=0.1, kernel=rbf;, score=0.808 total time=   0.0s\n",
      "[CV 4/5] END ......C=0.5, gamma=0.1, kernel=rbf;, score=0.776 total time=   0.0s\n",
      "[CV 5/5] END ......C=0.5, gamma=0.1, kernel=rbf;, score=0.864 total time=   0.0s\n",
      "[CV 1/5] END .....C=0.5, gamma=0.1, kernel=poly;, score=0.694 total time=   0.0s\n",
      "[CV 2/5] END .....C=0.5, gamma=0.1, kernel=poly;, score=0.676 total time=   0.0s\n",
      "[CV 3/5] END .....C=0.5, gamma=0.1, kernel=poly;, score=0.676 total time=   0.0s\n",
      "[CV 4/5] END .....C=0.5, gamma=0.1, kernel=poly;, score=0.676 total time=   0.0s\n",
      "[CV 5/5] END .....C=0.5, gamma=0.1, kernel=poly;, score=0.676 total time=   0.0s\n",
      "[CV 1/5] END ..C=0.5, gamma=0.01, kernel=linear;, score=0.809 total time=   0.0s\n",
      "[CV 2/5] END ..C=0.5, gamma=0.01, kernel=linear;, score=0.818 total time=   0.0s\n",
      "[CV 3/5] END ..C=0.5, gamma=0.01, kernel=linear;, score=0.792 total time=   0.0s\n",
      "[CV 4/5] END ..C=0.5, gamma=0.01, kernel=linear;, score=0.844 total time=   0.0s\n",
      "[CV 5/5] END ..C=0.5, gamma=0.01, kernel=linear;, score=0.791 total time=   0.0s\n",
      "[CV 1/5] END .....C=0.5, gamma=0.01, kernel=rbf;, score=0.772 total time=   0.0s\n",
      "[CV 2/5] END .....C=0.5, gamma=0.01, kernel=rbf;, score=0.714 total time=   0.0s\n",
      "[CV 3/5] END .....C=0.5, gamma=0.01, kernel=rbf;, score=0.721 total time=   0.0s\n",
      "[CV 4/5] END .....C=0.5, gamma=0.01, kernel=rbf;, score=0.754 total time=   0.0s\n",
      "[CV 5/5] END .....C=0.5, gamma=0.01, kernel=rbf;, score=0.755 total time=   0.0s\n",
      "[CV 1/5] END ....C=0.5, gamma=0.01, kernel=poly;, score=0.694 total time=   0.0s\n",
      "[CV 2/5] END ....C=0.5, gamma=0.01, kernel=poly;, score=0.676 total time=   0.0s\n",
      "[CV 3/5] END ....C=0.5, gamma=0.01, kernel=poly;, score=0.676 total time=   0.0s\n",
      "[CV 4/5] END ....C=0.5, gamma=0.01, kernel=poly;, score=0.676 total time=   0.0s\n",
      "[CV 5/5] END ....C=0.5, gamma=0.01, kernel=poly;, score=0.676 total time=   0.0s\n",
      "[CV 1/5] END .C=0.5, gamma=0.001, kernel=linear;, score=0.809 total time=   0.0s\n",
      "[CV 2/5] END .C=0.5, gamma=0.001, kernel=linear;, score=0.818 total time=   0.0s\n",
      "[CV 3/5] END .C=0.5, gamma=0.001, kernel=linear;, score=0.792 total time=   0.0s\n",
      "[CV 4/5] END .C=0.5, gamma=0.001, kernel=linear;, score=0.844 total time=   0.0s\n",
      "[CV 5/5] END .C=0.5, gamma=0.001, kernel=linear;, score=0.791 total time=   0.0s\n",
      "[CV 1/5] END ....C=0.5, gamma=0.001, kernel=rbf;, score=0.694 total time=   0.0s\n",
      "[CV 2/5] END ....C=0.5, gamma=0.001, kernel=rbf;, score=0.676 total time=   0.0s\n",
      "[CV 3/5] END ....C=0.5, gamma=0.001, kernel=rbf;, score=0.676 total time=   0.0s\n",
      "[CV 4/5] END ....C=0.5, gamma=0.001, kernel=rbf;, score=0.676 total time=   0.0s\n",
      "[CV 5/5] END ....C=0.5, gamma=0.001, kernel=rbf;, score=0.676 total time=   0.0s\n",
      "[CV 1/5] END ...C=0.5, gamma=0.001, kernel=poly;, score=0.694 total time=   0.0s\n",
      "[CV 2/5] END ...C=0.5, gamma=0.001, kernel=poly;, score=0.676 total time=   0.0s\n",
      "[CV 3/5] END ...C=0.5, gamma=0.001, kernel=poly;, score=0.676 total time=   0.0s\n",
      "[CV 4/5] END ...C=0.5, gamma=0.001, kernel=poly;, score=0.676 total time=   0.0s\n",
      "[CV 5/5] END ...C=0.5, gamma=0.001, kernel=poly;, score=0.676 total time=   0.0s\n",
      "[CV 1/5] END C=0.5, gamma=0.0001, kernel=linear;, score=0.809 total time=   0.0s\n",
      "[CV 2/5] END C=0.5, gamma=0.0001, kernel=linear;, score=0.818 total time=   0.0s\n",
      "[CV 3/5] END C=0.5, gamma=0.0001, kernel=linear;, score=0.792 total time=   0.0s\n",
      "[CV 4/5] END C=0.5, gamma=0.0001, kernel=linear;, score=0.844 total time=   0.0s\n",
      "[CV 5/5] END C=0.5, gamma=0.0001, kernel=linear;, score=0.791 total time=   0.0s\n",
      "[CV 1/5] END ...C=0.5, gamma=0.0001, kernel=rbf;, score=0.694 total time=   0.0s\n",
      "[CV 2/5] END ...C=0.5, gamma=0.0001, kernel=rbf;, score=0.676 total time=   0.0s\n",
      "[CV 3/5] END ...C=0.5, gamma=0.0001, kernel=rbf;, score=0.676 total time=   0.0s\n",
      "[CV 4/5] END ...C=0.5, gamma=0.0001, kernel=rbf;, score=0.676 total time=   0.0s\n",
      "[CV 5/5] END ...C=0.5, gamma=0.0001, kernel=rbf;, score=0.676 total time=   0.0s\n",
      "[CV 1/5] END ..C=0.5, gamma=0.0001, kernel=poly;, score=0.694 total time=   0.0s\n",
      "[CV 2/5] END ..C=0.5, gamma=0.0001, kernel=poly;, score=0.676 total time=   0.0s\n",
      "[CV 3/5] END ..C=0.5, gamma=0.0001, kernel=poly;, score=0.676 total time=   0.0s\n",
      "[CV 4/5] END ..C=0.5, gamma=0.0001, kernel=poly;, score=0.676 total time=   0.0s\n",
      "[CV 5/5] END ..C=0.5, gamma=0.0001, kernel=poly;, score=0.676 total time=   0.0s\n",
      "[CV 1/5] END .......C=1, gamma=1, kernel=linear;, score=0.800 total time=   0.0s\n",
      "[CV 2/5] END .......C=1, gamma=1, kernel=linear;, score=0.837 total time=   0.0s\n",
      "[CV 3/5] END .......C=1, gamma=1, kernel=linear;, score=0.792 total time=   0.0s\n",
      "[CV 4/5] END .......C=1, gamma=1, kernel=linear;, score=0.800 total time=   0.0s\n",
      "[CV 5/5] END .......C=1, gamma=1, kernel=linear;, score=0.818 total time=   0.0s\n",
      "[CV 1/5] END ..........C=1, gamma=1, kernel=rbf;, score=0.939 total time=   0.0s\n",
      "[CV 2/5] END ..........C=1, gamma=1, kernel=rbf;, score=0.936 total time=   0.0s\n",
      "[CV 3/5] END ..........C=1, gamma=1, kernel=rbf;, score=0.913 total time=   0.0s\n",
      "[CV 4/5] END ..........C=1, gamma=1, kernel=rbf;, score=0.979 total time=   0.0s\n",
      "[CV 5/5] END ..........C=1, gamma=1, kernel=rbf;, score=0.933 total time=   0.0s\n",
      "[CV 1/5] END .........C=1, gamma=1, kernel=poly;, score=0.818 total time=   0.0s\n",
      "[CV 2/5] END .........C=1, gamma=1, kernel=poly;, score=0.889 total time=   0.0s\n",
      "[CV 3/5] END .........C=1, gamma=1, kernel=poly;, score=0.884 total time=   0.0s\n",
      "[CV 4/5] END .........C=1, gamma=1, kernel=poly;, score=0.957 total time=   0.0s\n",
      "[CV 5/5] END .........C=1, gamma=1, kernel=poly;, score=0.884 total time=   0.0s\n",
      "[CV 1/5] END .....C=1, gamma=0.1, kernel=linear;, score=0.800 total time=   0.0s\n",
      "[CV 2/5] END .....C=1, gamma=0.1, kernel=linear;, score=0.837 total time=   0.0s\n",
      "[CV 3/5] END .....C=1, gamma=0.1, kernel=linear;, score=0.792 total time=   0.0s\n",
      "[CV 4/5] END .....C=1, gamma=0.1, kernel=linear;, score=0.800 total time=   0.0s\n",
      "[CV 5/5] END .....C=1, gamma=0.1, kernel=linear;, score=0.818 total time=   0.0s\n",
      "[CV 1/5] END ........C=1, gamma=0.1, kernel=rbf;, score=0.870 total time=   0.0s\n",
      "[CV 2/5] END ........C=1, gamma=0.1, kernel=rbf;, score=0.800 total time=   0.0s\n",
      "[CV 3/5] END ........C=1, gamma=0.1, kernel=rbf;, score=0.816 total time=   0.0s\n",
      "[CV 4/5] END ........C=1, gamma=0.1, kernel=rbf;, score=0.800 total time=   0.0s\n",
      "[CV 5/5] END ........C=1, gamma=0.1, kernel=rbf;, score=0.844 total time=   0.0s\n",
      "[CV 1/5] END .......C=1, gamma=0.1, kernel=poly;, score=0.694 total time=   0.0s\n",
      "[CV 2/5] END .......C=1, gamma=0.1, kernel=poly;, score=0.676 total time=   0.0s\n",
      "[CV 3/5] END .......C=1, gamma=0.1, kernel=poly;, score=0.676 total time=   0.0s\n",
      "[CV 4/5] END .......C=1, gamma=0.1, kernel=poly;, score=0.676 total time=   0.0s\n",
      "[CV 5/5] END .......C=1, gamma=0.1, kernel=poly;, score=0.676 total time=   0.0s\n",
      "[CV 1/5] END ....C=1, gamma=0.01, kernel=linear;, score=0.800 total time=   0.0s\n",
      "[CV 2/5] END ....C=1, gamma=0.01, kernel=linear;, score=0.837 total time=   0.0s\n",
      "[CV 3/5] END ....C=1, gamma=0.01, kernel=linear;, score=0.792 total time=   0.0s\n",
      "[CV 4/5] END ....C=1, gamma=0.01, kernel=linear;, score=0.800 total time=   0.0s\n",
      "[CV 5/5] END ....C=1, gamma=0.01, kernel=linear;, score=0.818 total time=   0.0s\n",
      "[CV 1/5] END .......C=1, gamma=0.01, kernel=rbf;, score=0.764 total time=   0.0s\n",
      "[CV 2/5] END .......C=1, gamma=0.01, kernel=rbf;, score=0.769 total time=   0.0s\n",
      "[CV 3/5] END .......C=1, gamma=0.01, kernel=rbf;, score=0.702 total time=   0.0s\n"
     ]
    },
    {
     "name": "stdout",
     "output_type": "stream",
     "text": [
      "[CV 4/5] END .......C=1, gamma=0.01, kernel=rbf;, score=0.769 total time=   0.0s\n",
      "[CV 5/5] END .......C=1, gamma=0.01, kernel=rbf;, score=0.816 total time=   0.0s\n",
      "[CV 1/5] END ......C=1, gamma=0.01, kernel=poly;, score=0.694 total time=   0.0s\n",
      "[CV 2/5] END ......C=1, gamma=0.01, kernel=poly;, score=0.676 total time=   0.0s\n",
      "[CV 3/5] END ......C=1, gamma=0.01, kernel=poly;, score=0.676 total time=   0.0s\n",
      "[CV 4/5] END ......C=1, gamma=0.01, kernel=poly;, score=0.676 total time=   0.0s\n",
      "[CV 5/5] END ......C=1, gamma=0.01, kernel=poly;, score=0.676 total time=   0.0s\n",
      "[CV 1/5] END ...C=1, gamma=0.001, kernel=linear;, score=0.800 total time=   0.0s\n",
      "[CV 2/5] END ...C=1, gamma=0.001, kernel=linear;, score=0.837 total time=   0.0s\n",
      "[CV 3/5] END ...C=1, gamma=0.001, kernel=linear;, score=0.792 total time=   0.0s\n",
      "[CV 4/5] END ...C=1, gamma=0.001, kernel=linear;, score=0.800 total time=   0.0s\n",
      "[CV 5/5] END ...C=1, gamma=0.001, kernel=linear;, score=0.818 total time=   0.0s\n",
      "[CV 1/5] END ......C=1, gamma=0.001, kernel=rbf;, score=0.694 total time=   0.0s\n",
      "[CV 2/5] END ......C=1, gamma=0.001, kernel=rbf;, score=0.676 total time=   0.0s\n",
      "[CV 3/5] END ......C=1, gamma=0.001, kernel=rbf;, score=0.676 total time=   0.0s\n",
      "[CV 4/5] END ......C=1, gamma=0.001, kernel=rbf;, score=0.676 total time=   0.0s\n",
      "[CV 5/5] END ......C=1, gamma=0.001, kernel=rbf;, score=0.676 total time=   0.0s\n",
      "[CV 1/5] END .....C=1, gamma=0.001, kernel=poly;, score=0.694 total time=   0.0s\n",
      "[CV 2/5] END .....C=1, gamma=0.001, kernel=poly;, score=0.676 total time=   0.0s\n",
      "[CV 3/5] END .....C=1, gamma=0.001, kernel=poly;, score=0.676 total time=   0.0s\n",
      "[CV 4/5] END .....C=1, gamma=0.001, kernel=poly;, score=0.676 total time=   0.0s\n",
      "[CV 5/5] END .....C=1, gamma=0.001, kernel=poly;, score=0.676 total time=   0.0s\n",
      "[CV 1/5] END ..C=1, gamma=0.0001, kernel=linear;, score=0.800 total time=   0.0s\n",
      "[CV 2/5] END ..C=1, gamma=0.0001, kernel=linear;, score=0.837 total time=   0.0s\n",
      "[CV 3/5] END ..C=1, gamma=0.0001, kernel=linear;, score=0.792 total time=   0.0s\n",
      "[CV 4/5] END ..C=1, gamma=0.0001, kernel=linear;, score=0.800 total time=   0.0s\n",
      "[CV 5/5] END ..C=1, gamma=0.0001, kernel=linear;, score=0.818 total time=   0.0s\n",
      "[CV 1/5] END .....C=1, gamma=0.0001, kernel=rbf;, score=0.694 total time=   0.0s\n",
      "[CV 2/5] END .....C=1, gamma=0.0001, kernel=rbf;, score=0.676 total time=   0.0s\n",
      "[CV 3/5] END .....C=1, gamma=0.0001, kernel=rbf;, score=0.676 total time=   0.0s\n",
      "[CV 4/5] END .....C=1, gamma=0.0001, kernel=rbf;, score=0.676 total time=   0.0s\n",
      "[CV 5/5] END .....C=1, gamma=0.0001, kernel=rbf;, score=0.676 total time=   0.0s\n",
      "[CV 1/5] END ....C=1, gamma=0.0001, kernel=poly;, score=0.694 total time=   0.0s\n",
      "[CV 2/5] END ....C=1, gamma=0.0001, kernel=poly;, score=0.676 total time=   0.0s\n",
      "[CV 3/5] END ....C=1, gamma=0.0001, kernel=poly;, score=0.676 total time=   0.0s\n",
      "[CV 4/5] END ....C=1, gamma=0.0001, kernel=poly;, score=0.676 total time=   0.0s\n",
      "[CV 5/5] END ....C=1, gamma=0.0001, kernel=poly;, score=0.676 total time=   0.0s\n",
      "[CV 1/5] END ......C=10, gamma=1, kernel=linear;, score=0.783 total time=   0.0s\n",
      "[CV 2/5] END ......C=10, gamma=1, kernel=linear;, score=0.844 total time=   0.0s\n",
      "[CV 3/5] END ......C=10, gamma=1, kernel=linear;, score=0.750 total time=   0.0s\n",
      "[CV 4/5] END ......C=10, gamma=1, kernel=linear;, score=0.800 total time=   0.0s\n",
      "[CV 5/5] END ......C=10, gamma=1, kernel=linear;, score=0.800 total time=   0.0s\n",
      "[CV 1/5] END .........C=10, gamma=1, kernel=rbf;, score=0.939 total time=   0.0s\n",
      "[CV 2/5] END .........C=10, gamma=1, kernel=rbf;, score=0.958 total time=   0.0s\n",
      "[CV 3/5] END .........C=10, gamma=1, kernel=rbf;, score=0.957 total time=   0.0s\n",
      "[CV 4/5] END .........C=10, gamma=1, kernel=rbf;, score=0.979 total time=   0.0s\n",
      "[CV 5/5] END .........C=10, gamma=1, kernel=rbf;, score=0.957 total time=   0.0s\n",
      "[CV 1/5] END ........C=10, gamma=1, kernel=poly;, score=0.844 total time=   0.0s\n",
      "[CV 2/5] END ........C=10, gamma=1, kernel=poly;, score=0.889 total time=   0.0s\n",
      "[CV 3/5] END ........C=10, gamma=1, kernel=poly;, score=0.909 total time=   0.0s\n",
      "[CV 4/5] END ........C=10, gamma=1, kernel=poly;, score=0.957 total time=   0.0s\n",
      "[CV 5/5] END ........C=10, gamma=1, kernel=poly;, score=0.913 total time=   0.0s\n",
      "[CV 1/5] END ....C=10, gamma=0.1, kernel=linear;, score=0.783 total time=   0.0s\n",
      "[CV 2/5] END ....C=10, gamma=0.1, kernel=linear;, score=0.844 total time=   0.0s\n",
      "[CV 3/5] END ....C=10, gamma=0.1, kernel=linear;, score=0.750 total time=   0.0s\n",
      "[CV 4/5] END ....C=10, gamma=0.1, kernel=linear;, score=0.800 total time=   0.0s\n",
      "[CV 5/5] END ....C=10, gamma=0.1, kernel=linear;, score=0.800 total time=   0.0s\n",
      "[CV 1/5] END .......C=10, gamma=0.1, kernel=rbf;, score=0.851 total time=   0.0s\n",
      "[CV 2/5] END .......C=10, gamma=0.1, kernel=rbf;, score=0.889 total time=   0.0s\n",
      "[CV 3/5] END .......C=10, gamma=0.1, kernel=rbf;, score=0.851 total time=   0.0s\n",
      "[CV 4/5] END .......C=10, gamma=0.1, kernel=rbf;, score=0.909 total time=   0.0s\n",
      "[CV 5/5] END .......C=10, gamma=0.1, kernel=rbf;, score=0.913 total time=   0.0s\n",
      "[CV 1/5] END ......C=10, gamma=0.1, kernel=poly;, score=0.718 total time=   0.0s\n",
      "[CV 2/5] END ......C=10, gamma=0.1, kernel=poly;, score=0.769 total time=   0.0s\n",
      "[CV 3/5] END ......C=10, gamma=0.1, kernel=poly;, score=0.780 total time=   0.0s\n",
      "[CV 4/5] END ......C=10, gamma=0.1, kernel=poly;, score=0.769 total time=   0.0s\n",
      "[CV 5/5] END ......C=10, gamma=0.1, kernel=poly;, score=0.829 total time=   0.0s\n",
      "[CV 1/5] END ...C=10, gamma=0.01, kernel=linear;, score=0.783 total time=   0.0s\n",
      "[CV 2/5] END ...C=10, gamma=0.01, kernel=linear;, score=0.844 total time=   0.0s\n",
      "[CV 3/5] END ...C=10, gamma=0.01, kernel=linear;, score=0.750 total time=   0.0s\n",
      "[CV 4/5] END ...C=10, gamma=0.01, kernel=linear;, score=0.800 total time=   0.0s\n",
      "[CV 5/5] END ...C=10, gamma=0.01, kernel=linear;, score=0.800 total time=   0.0s\n",
      "[CV 1/5] END ......C=10, gamma=0.01, kernel=rbf;, score=0.800 total time=   0.0s\n",
      "[CV 2/5] END ......C=10, gamma=0.01, kernel=rbf;, score=0.800 total time=   0.0s\n",
      "[CV 3/5] END ......C=10, gamma=0.01, kernel=rbf;, score=0.784 total time=   0.0s\n",
      "[CV 4/5] END ......C=10, gamma=0.01, kernel=rbf;, score=0.766 total time=   0.0s\n",
      "[CV 5/5] END ......C=10, gamma=0.01, kernel=rbf;, score=0.844 total time=   0.0s\n",
      "[CV 1/5] END .....C=10, gamma=0.01, kernel=poly;, score=0.694 total time=   0.0s\n",
      "[CV 2/5] END .....C=10, gamma=0.01, kernel=poly;, score=0.676 total time=   0.0s\n",
      "[CV 3/5] END .....C=10, gamma=0.01, kernel=poly;, score=0.676 total time=   0.0s\n",
      "[CV 4/5] END .....C=10, gamma=0.01, kernel=poly;, score=0.676 total time=   0.0s\n",
      "[CV 5/5] END .....C=10, gamma=0.01, kernel=poly;, score=0.676 total time=   0.0s\n",
      "[CV 1/5] END ..C=10, gamma=0.001, kernel=linear;, score=0.783 total time=   0.0s\n",
      "[CV 2/5] END ..C=10, gamma=0.001, kernel=linear;, score=0.844 total time=   0.0s\n",
      "[CV 3/5] END ..C=10, gamma=0.001, kernel=linear;, score=0.750 total time=   0.0s\n",
      "[CV 4/5] END ..C=10, gamma=0.001, kernel=linear;, score=0.800 total time=   0.0s\n",
      "[CV 5/5] END ..C=10, gamma=0.001, kernel=linear;, score=0.800 total time=   0.0s\n",
      "[CV 1/5] END .....C=10, gamma=0.001, kernel=rbf;, score=0.764 total time=   0.0s\n",
      "[CV 2/5] END .....C=10, gamma=0.001, kernel=rbf;, score=0.769 total time=   0.0s\n",
      "[CV 3/5] END .....C=10, gamma=0.001, kernel=rbf;, score=0.702 total time=   0.0s\n",
      "[CV 4/5] END .....C=10, gamma=0.001, kernel=rbf;, score=0.769 total time=   0.0s\n",
      "[CV 5/5] END .....C=10, gamma=0.001, kernel=rbf;, score=0.816 total time=   0.0s\n",
      "[CV 1/5] END ....C=10, gamma=0.001, kernel=poly;, score=0.694 total time=   0.0s\n",
      "[CV 2/5] END ....C=10, gamma=0.001, kernel=poly;, score=0.676 total time=   0.0s\n",
      "[CV 3/5] END ....C=10, gamma=0.001, kernel=poly;, score=0.676 total time=   0.0s\n",
      "[CV 4/5] END ....C=10, gamma=0.001, kernel=poly;, score=0.676 total time=   0.0s\n",
      "[CV 5/5] END ....C=10, gamma=0.001, kernel=poly;, score=0.676 total time=   0.0s\n",
      "[CV 1/5] END .C=10, gamma=0.0001, kernel=linear;, score=0.783 total time=   0.0s\n",
      "[CV 2/5] END .C=10, gamma=0.0001, kernel=linear;, score=0.844 total time=   0.0s\n",
      "[CV 3/5] END .C=10, gamma=0.0001, kernel=linear;, score=0.750 total time=   0.0s\n",
      "[CV 4/5] END .C=10, gamma=0.0001, kernel=linear;, score=0.800 total time=   0.0s\n",
      "[CV 5/5] END .C=10, gamma=0.0001, kernel=linear;, score=0.800 total time=   0.0s\n",
      "[CV 1/5] END ....C=10, gamma=0.0001, kernel=rbf;, score=0.694 total time=   0.0s\n",
      "[CV 2/5] END ....C=10, gamma=0.0001, kernel=rbf;, score=0.676 total time=   0.0s\n"
     ]
    },
    {
     "name": "stdout",
     "output_type": "stream",
     "text": [
      "[CV 3/5] END ....C=10, gamma=0.0001, kernel=rbf;, score=0.676 total time=   0.0s\n",
      "[CV 4/5] END ....C=10, gamma=0.0001, kernel=rbf;, score=0.676 total time=   0.0s\n",
      "[CV 5/5] END ....C=10, gamma=0.0001, kernel=rbf;, score=0.676 total time=   0.0s\n",
      "[CV 1/5] END ...C=10, gamma=0.0001, kernel=poly;, score=0.694 total time=   0.0s\n",
      "[CV 2/5] END ...C=10, gamma=0.0001, kernel=poly;, score=0.676 total time=   0.0s\n",
      "[CV 3/5] END ...C=10, gamma=0.0001, kernel=poly;, score=0.676 total time=   0.0s\n",
      "[CV 4/5] END ...C=10, gamma=0.0001, kernel=poly;, score=0.676 total time=   0.0s\n",
      "[CV 5/5] END ...C=10, gamma=0.0001, kernel=poly;, score=0.676 total time=   0.0s\n",
      "[CV 1/5] END .....C=100, gamma=1, kernel=linear;, score=0.783 total time=   0.0s\n",
      "[CV 2/5] END .....C=100, gamma=1, kernel=linear;, score=0.844 total time=   0.0s\n",
      "[CV 3/5] END .....C=100, gamma=1, kernel=linear;, score=0.750 total time=   0.0s\n",
      "[CV 4/5] END .....C=100, gamma=1, kernel=linear;, score=0.744 total time=   0.0s\n",
      "[CV 5/5] END .....C=100, gamma=1, kernel=linear;, score=0.800 total time=   0.0s\n",
      "[CV 1/5] END ........C=100, gamma=1, kernel=rbf;, score=0.920 total time=   0.0s\n",
      "[CV 2/5] END ........C=100, gamma=1, kernel=rbf;, score=0.958 total time=   0.0s\n",
      "[CV 3/5] END ........C=100, gamma=1, kernel=rbf;, score=0.936 total time=   0.0s\n",
      "[CV 4/5] END ........C=100, gamma=1, kernel=rbf;, score=0.957 total time=   0.0s\n",
      "[CV 5/5] END ........C=100, gamma=1, kernel=rbf;, score=0.936 total time=   0.0s\n",
      "[CV 1/5] END .......C=100, gamma=1, kernel=poly;, score=0.870 total time=   0.0s\n",
      "[CV 2/5] END .......C=100, gamma=1, kernel=poly;, score=0.889 total time=   0.0s\n",
      "[CV 3/5] END .......C=100, gamma=1, kernel=poly;, score=0.884 total time=   0.0s\n",
      "[CV 4/5] END .......C=100, gamma=1, kernel=poly;, score=0.957 total time=   0.0s\n",
      "[CV 5/5] END .......C=100, gamma=1, kernel=poly;, score=0.844 total time=   0.0s\n",
      "[CV 1/5] END ...C=100, gamma=0.1, kernel=linear;, score=0.783 total time=   0.0s\n",
      "[CV 2/5] END ...C=100, gamma=0.1, kernel=linear;, score=0.844 total time=   0.0s\n",
      "[CV 3/5] END ...C=100, gamma=0.1, kernel=linear;, score=0.750 total time=   0.0s\n",
      "[CV 4/5] END ...C=100, gamma=0.1, kernel=linear;, score=0.744 total time=   0.0s\n",
      "[CV 5/5] END ...C=100, gamma=0.1, kernel=linear;, score=0.800 total time=   0.0s\n",
      "[CV 1/5] END ......C=100, gamma=0.1, kernel=rbf;, score=0.894 total time=   0.0s\n",
      "[CV 2/5] END ......C=100, gamma=0.1, kernel=rbf;, score=0.913 total time=   0.0s\n",
      "[CV 3/5] END ......C=100, gamma=0.1, kernel=rbf;, score=0.870 total time=   0.0s\n",
      "[CV 4/5] END ......C=100, gamma=0.1, kernel=rbf;, score=0.979 total time=   0.0s\n",
      "[CV 5/5] END ......C=100, gamma=0.1, kernel=rbf;, score=0.933 total time=   0.0s\n",
      "[CV 1/5] END .....C=100, gamma=0.1, kernel=poly;, score=0.750 total time=   0.0s\n",
      "[CV 2/5] END .....C=100, gamma=0.1, kernel=poly;, score=0.800 total time=   0.0s\n",
      "[CV 3/5] END .....C=100, gamma=0.1, kernel=poly;, score=0.810 total time=   0.0s\n",
      "[CV 4/5] END .....C=100, gamma=0.1, kernel=poly;, score=0.800 total time=   0.0s\n",
      "[CV 5/5] END .....C=100, gamma=0.1, kernel=poly;, score=0.829 total time=   0.0s\n",
      "[CV 1/5] END ..C=100, gamma=0.01, kernel=linear;, score=0.783 total time=   0.0s\n",
      "[CV 2/5] END ..C=100, gamma=0.01, kernel=linear;, score=0.844 total time=   0.0s\n",
      "[CV 3/5] END ..C=100, gamma=0.01, kernel=linear;, score=0.750 total time=   0.0s\n",
      "[CV 4/5] END ..C=100, gamma=0.01, kernel=linear;, score=0.744 total time=   0.0s\n",
      "[CV 5/5] END ..C=100, gamma=0.01, kernel=linear;, score=0.800 total time=   0.0s\n",
      "[CV 1/5] END .....C=100, gamma=0.01, kernel=rbf;, score=0.826 total time=   0.0s\n",
      "[CV 2/5] END .....C=100, gamma=0.01, kernel=rbf;, score=0.818 total time=   0.0s\n",
      "[CV 3/5] END .....C=100, gamma=0.01, kernel=rbf;, score=0.776 total time=   0.0s\n",
      "[CV 4/5] END .....C=100, gamma=0.01, kernel=rbf;, score=0.791 total time=   0.0s\n",
      "[CV 5/5] END .....C=100, gamma=0.01, kernel=rbf;, score=0.844 total time=   0.0s\n",
      "[CV 1/5] END ....C=100, gamma=0.01, kernel=poly;, score=0.694 total time=   0.0s\n",
      "[CV 2/5] END ....C=100, gamma=0.01, kernel=poly;, score=0.676 total time=   0.0s\n",
      "[CV 3/5] END ....C=100, gamma=0.01, kernel=poly;, score=0.676 total time=   0.0s\n",
      "[CV 4/5] END ....C=100, gamma=0.01, kernel=poly;, score=0.676 total time=   0.0s\n",
      "[CV 5/5] END ....C=100, gamma=0.01, kernel=poly;, score=0.676 total time=   0.0s\n",
      "[CV 1/5] END .C=100, gamma=0.001, kernel=linear;, score=0.783 total time=   0.0s\n",
      "[CV 2/5] END .C=100, gamma=0.001, kernel=linear;, score=0.844 total time=   0.0s\n",
      "[CV 3/5] END .C=100, gamma=0.001, kernel=linear;, score=0.750 total time=   0.0s\n",
      "[CV 4/5] END .C=100, gamma=0.001, kernel=linear;, score=0.744 total time=   0.0s\n",
      "[CV 5/5] END .C=100, gamma=0.001, kernel=linear;, score=0.800 total time=   0.0s\n",
      "[CV 1/5] END ....C=100, gamma=0.001, kernel=rbf;, score=0.776 total time=   0.0s\n",
      "[CV 2/5] END ....C=100, gamma=0.001, kernel=rbf;, score=0.800 total time=   0.0s\n",
      "[CV 3/5] END ....C=100, gamma=0.001, kernel=rbf;, score=0.784 total time=   0.0s\n",
      "[CV 4/5] END ....C=100, gamma=0.001, kernel=rbf;, score=0.766 total time=   0.0s\n",
      "[CV 5/5] END ....C=100, gamma=0.001, kernel=rbf;, score=0.844 total time=   0.0s\n",
      "[CV 1/5] END ...C=100, gamma=0.001, kernel=poly;, score=0.694 total time=   0.0s\n",
      "[CV 2/5] END ...C=100, gamma=0.001, kernel=poly;, score=0.676 total time=   0.0s\n",
      "[CV 3/5] END ...C=100, gamma=0.001, kernel=poly;, score=0.676 total time=   0.0s\n",
      "[CV 4/5] END ...C=100, gamma=0.001, kernel=poly;, score=0.676 total time=   0.0s\n",
      "[CV 5/5] END ...C=100, gamma=0.001, kernel=poly;, score=0.676 total time=   0.0s\n",
      "[CV 1/5] END C=100, gamma=0.0001, kernel=linear;, score=0.783 total time=   0.0s\n",
      "[CV 2/5] END C=100, gamma=0.0001, kernel=linear;, score=0.844 total time=   0.0s\n",
      "[CV 3/5] END C=100, gamma=0.0001, kernel=linear;, score=0.750 total time=   0.0s\n",
      "[CV 4/5] END C=100, gamma=0.0001, kernel=linear;, score=0.744 total time=   0.0s\n",
      "[CV 5/5] END C=100, gamma=0.0001, kernel=linear;, score=0.800 total time=   0.0s\n",
      "[CV 1/5] END ...C=100, gamma=0.0001, kernel=rbf;, score=0.764 total time=   0.0s\n",
      "[CV 2/5] END ...C=100, gamma=0.0001, kernel=rbf;, score=0.769 total time=   0.0s\n",
      "[CV 3/5] END ...C=100, gamma=0.0001, kernel=rbf;, score=0.702 total time=   0.0s\n",
      "[CV 4/5] END ...C=100, gamma=0.0001, kernel=rbf;, score=0.769 total time=   0.0s\n",
      "[CV 5/5] END ...C=100, gamma=0.0001, kernel=rbf;, score=0.816 total time=   0.0s\n",
      "[CV 1/5] END ..C=100, gamma=0.0001, kernel=poly;, score=0.694 total time=   0.0s\n",
      "[CV 2/5] END ..C=100, gamma=0.0001, kernel=poly;, score=0.676 total time=   0.0s\n",
      "[CV 3/5] END ..C=100, gamma=0.0001, kernel=poly;, score=0.676 total time=   0.0s\n",
      "[CV 4/5] END ..C=100, gamma=0.0001, kernel=poly;, score=0.676 total time=   0.0s\n",
      "[CV 5/5] END ..C=100, gamma=0.0001, kernel=poly;, score=0.676 total time=   0.0s\n"
     ]
    },
    {
     "data": {
      "text/html": [
       "<style>#sk-container-id-7 {color: black;background-color: white;}#sk-container-id-7 pre{padding: 0;}#sk-container-id-7 div.sk-toggleable {background-color: white;}#sk-container-id-7 label.sk-toggleable__label {cursor: pointer;display: block;width: 100%;margin-bottom: 0;padding: 0.3em;box-sizing: border-box;text-align: center;}#sk-container-id-7 label.sk-toggleable__label-arrow:before {content: \"▸\";float: left;margin-right: 0.25em;color: #696969;}#sk-container-id-7 label.sk-toggleable__label-arrow:hover:before {color: black;}#sk-container-id-7 div.sk-estimator:hover label.sk-toggleable__label-arrow:before {color: black;}#sk-container-id-7 div.sk-toggleable__content {max-height: 0;max-width: 0;overflow: hidden;text-align: left;background-color: #f0f8ff;}#sk-container-id-7 div.sk-toggleable__content pre {margin: 0.2em;color: black;border-radius: 0.25em;background-color: #f0f8ff;}#sk-container-id-7 input.sk-toggleable__control:checked~div.sk-toggleable__content {max-height: 200px;max-width: 100%;overflow: auto;}#sk-container-id-7 input.sk-toggleable__control:checked~label.sk-toggleable__label-arrow:before {content: \"▾\";}#sk-container-id-7 div.sk-estimator input.sk-toggleable__control:checked~label.sk-toggleable__label {background-color: #d4ebff;}#sk-container-id-7 div.sk-label input.sk-toggleable__control:checked~label.sk-toggleable__label {background-color: #d4ebff;}#sk-container-id-7 input.sk-hidden--visually {border: 0;clip: rect(1px 1px 1px 1px);clip: rect(1px, 1px, 1px, 1px);height: 1px;margin: -1px;overflow: hidden;padding: 0;position: absolute;width: 1px;}#sk-container-id-7 div.sk-estimator {font-family: monospace;background-color: #f0f8ff;border: 1px dotted black;border-radius: 0.25em;box-sizing: border-box;margin-bottom: 0.5em;}#sk-container-id-7 div.sk-estimator:hover {background-color: #d4ebff;}#sk-container-id-7 div.sk-parallel-item::after {content: \"\";width: 100%;border-bottom: 1px solid gray;flex-grow: 1;}#sk-container-id-7 div.sk-label:hover label.sk-toggleable__label {background-color: #d4ebff;}#sk-container-id-7 div.sk-serial::before {content: \"\";position: absolute;border-left: 1px solid gray;box-sizing: border-box;top: 0;bottom: 0;left: 50%;z-index: 0;}#sk-container-id-7 div.sk-serial {display: flex;flex-direction: column;align-items: center;background-color: white;padding-right: 0.2em;padding-left: 0.2em;position: relative;}#sk-container-id-7 div.sk-item {position: relative;z-index: 1;}#sk-container-id-7 div.sk-parallel {display: flex;align-items: stretch;justify-content: center;background-color: white;position: relative;}#sk-container-id-7 div.sk-item::before, #sk-container-id-7 div.sk-parallel-item::before {content: \"\";position: absolute;border-left: 1px solid gray;box-sizing: border-box;top: 0;bottom: 0;left: 50%;z-index: -1;}#sk-container-id-7 div.sk-parallel-item {display: flex;flex-direction: column;z-index: 1;position: relative;background-color: white;}#sk-container-id-7 div.sk-parallel-item:first-child::after {align-self: flex-end;width: 50%;}#sk-container-id-7 div.sk-parallel-item:last-child::after {align-self: flex-start;width: 50%;}#sk-container-id-7 div.sk-parallel-item:only-child::after {width: 0;}#sk-container-id-7 div.sk-dashed-wrapped {border: 1px dashed gray;margin: 0 0.4em 0.5em 0.4em;box-sizing: border-box;padding-bottom: 0.4em;background-color: white;}#sk-container-id-7 div.sk-label label {font-family: monospace;font-weight: bold;display: inline-block;line-height: 1.2em;}#sk-container-id-7 div.sk-label-container {text-align: center;}#sk-container-id-7 div.sk-container {/* jupyter's `normalize.less` sets `[hidden] { display: none; }` but bootstrap.min.css set `[hidden] { display: none !important; }` so we also need the `!important` here to be able to override the default hidden behavior on the sphinx rendered scikit-learn.org. See: https://github.com/scikit-learn/scikit-learn/issues/21755 */display: inline-block !important;position: relative;}#sk-container-id-7 div.sk-text-repr-fallback {display: none;}</style><div id=\"sk-container-id-7\" class=\"sk-top-container\"><div class=\"sk-text-repr-fallback\"><pre>VotingClassifier(estimators=[(&#x27;logmodel&#x27;, LogisticRegression()),\n",
       "                             (&#x27;xgb_clf&#x27;,\n",
       "                              XGBClassifier(base_score=0.5, booster=&#x27;gbtree&#x27;,\n",
       "                                            callbacks=None, colsample_bylevel=1,\n",
       "                                            colsample_bynode=1,\n",
       "                                            colsample_bytree=1,\n",
       "                                            early_stopping_rounds=None,\n",
       "                                            enable_categorical=False, eta=0.1,\n",
       "                                            eval_metric=None, gamma=0,\n",
       "                                            gpu_id=-1, grow_policy=&#x27;depthwise&#x27;,\n",
       "                                            importance_type=None,\n",
       "                                            interaction_const...\n",
       "                                           param_grid={&#x27;eta&#x27;: [0.1, 0.2, 0.3,\n",
       "                                                               0.4, 0.5],\n",
       "                                                       &#x27;max_depth&#x27;: range(4, 8),\n",
       "                                                       &#x27;random_state&#x27;: [300,\n",
       "                                                                        600,\n",
       "                                                                        900],\n",
       "                                                       &#x27;reg_lambda&#x27;: [0.8, 0.9,\n",
       "                                                                      1, 1.1,\n",
       "                                                                      1.2]},\n",
       "                                           scoring=&#x27;f1&#x27;, verbose=1)),\n",
       "                             (&#x27;gnb&#x27;, GaussianNB()),\n",
       "                             (&#x27;grid_SVC&#x27;,\n",
       "                              GridSearchCV(estimator=SVC(probability=True),\n",
       "                                           param_grid={&#x27;C&#x27;: [0.5, 1, 10, 100],\n",
       "                                                       &#x27;gamma&#x27;: [1, 0.1, 0.01,\n",
       "                                                                 0.001,\n",
       "                                                                 0.0001],\n",
       "                                                       &#x27;kernel&#x27;: [&#x27;linear&#x27;,\n",
       "                                                                  &#x27;rbf&#x27;,\n",
       "                                                                  &#x27;poly&#x27;]},\n",
       "                                           scoring=&#x27;f1&#x27;, verbose=3))],\n",
       "                 voting=&#x27;soft&#x27;)</pre><b>In a Jupyter environment, please rerun this cell to show the HTML representation or trust the notebook. <br />On GitHub, the HTML representation is unable to render, please try loading this page with nbviewer.org.</b></div><div class=\"sk-container\" hidden><div class=\"sk-item sk-dashed-wrapped\"><div class=\"sk-label-container\"><div class=\"sk-label sk-toggleable\"><input class=\"sk-toggleable__control sk-hidden--visually\" id=\"sk-estimator-id-29\" type=\"checkbox\" ><label for=\"sk-estimator-id-29\" class=\"sk-toggleable__label sk-toggleable__label-arrow\">VotingClassifier</label><div class=\"sk-toggleable__content\"><pre>VotingClassifier(estimators=[(&#x27;logmodel&#x27;, LogisticRegression()),\n",
       "                             (&#x27;xgb_clf&#x27;,\n",
       "                              XGBClassifier(base_score=0.5, booster=&#x27;gbtree&#x27;,\n",
       "                                            callbacks=None, colsample_bylevel=1,\n",
       "                                            colsample_bynode=1,\n",
       "                                            colsample_bytree=1,\n",
       "                                            early_stopping_rounds=None,\n",
       "                                            enable_categorical=False, eta=0.1,\n",
       "                                            eval_metric=None, gamma=0,\n",
       "                                            gpu_id=-1, grow_policy=&#x27;depthwise&#x27;,\n",
       "                                            importance_type=None,\n",
       "                                            interaction_const...\n",
       "                                           param_grid={&#x27;eta&#x27;: [0.1, 0.2, 0.3,\n",
       "                                                               0.4, 0.5],\n",
       "                                                       &#x27;max_depth&#x27;: range(4, 8),\n",
       "                                                       &#x27;random_state&#x27;: [300,\n",
       "                                                                        600,\n",
       "                                                                        900],\n",
       "                                                       &#x27;reg_lambda&#x27;: [0.8, 0.9,\n",
       "                                                                      1, 1.1,\n",
       "                                                                      1.2]},\n",
       "                                           scoring=&#x27;f1&#x27;, verbose=1)),\n",
       "                             (&#x27;gnb&#x27;, GaussianNB()),\n",
       "                             (&#x27;grid_SVC&#x27;,\n",
       "                              GridSearchCV(estimator=SVC(probability=True),\n",
       "                                           param_grid={&#x27;C&#x27;: [0.5, 1, 10, 100],\n",
       "                                                       &#x27;gamma&#x27;: [1, 0.1, 0.01,\n",
       "                                                                 0.001,\n",
       "                                                                 0.0001],\n",
       "                                                       &#x27;kernel&#x27;: [&#x27;linear&#x27;,\n",
       "                                                                  &#x27;rbf&#x27;,\n",
       "                                                                  &#x27;poly&#x27;]},\n",
       "                                           scoring=&#x27;f1&#x27;, verbose=3))],\n",
       "                 voting=&#x27;soft&#x27;)</pre></div></div></div><div class=\"sk-parallel\"><div class=\"sk-parallel-item\"><div class=\"sk-item\"><div class=\"sk-label-container\"><div class=\"sk-label sk-toggleable\"><label>logmodel</label></div></div><div class=\"sk-serial\"><div class=\"sk-item\"><div class=\"sk-estimator sk-toggleable\"><input class=\"sk-toggleable__control sk-hidden--visually\" id=\"sk-estimator-id-30\" type=\"checkbox\" ><label for=\"sk-estimator-id-30\" class=\"sk-toggleable__label sk-toggleable__label-arrow\">LogisticRegression</label><div class=\"sk-toggleable__content\"><pre>LogisticRegression()</pre></div></div></div></div></div></div><div class=\"sk-parallel-item\"><div class=\"sk-item\"><div class=\"sk-label-container\"><div class=\"sk-label sk-toggleable\"><label>xgb_clf</label></div></div><div class=\"sk-serial\"><div class=\"sk-item\"><div class=\"sk-estimator sk-toggleable\"><input class=\"sk-toggleable__control sk-hidden--visually\" id=\"sk-estimator-id-31\" type=\"checkbox\" ><label for=\"sk-estimator-id-31\" class=\"sk-toggleable__label sk-toggleable__label-arrow\">XGBClassifier</label><div class=\"sk-toggleable__content\"><pre>XGBClassifier(base_score=0.5, booster=&#x27;gbtree&#x27;, callbacks=None,\n",
       "              colsample_bylevel=1, colsample_bynode=1, colsample_bytree=1,\n",
       "              early_stopping_rounds=None, enable_categorical=False, eta=0.1,\n",
       "              eval_metric=None, gamma=0, gpu_id=-1, grow_policy=&#x27;depthwise&#x27;,\n",
       "              importance_type=None, interaction_constraints=&#x27;&#x27;,\n",
       "              learning_rate=0.100000001, max_bin=256, max_cat_to_onehot=4,\n",
       "              max_delta_step=0, max_depth=6, max_leaves=0, min_child_weight=1,\n",
       "              missing=nan, monotone_constraints=&#x27;()&#x27;, n_estimators=100,\n",
       "              n_jobs=0, num_parallel_tree=1, predictor=&#x27;auto&#x27;, random_state=300,\n",
       "              reg_alpha=0, ...)</pre></div></div></div></div></div></div><div class=\"sk-parallel-item\"><div class=\"sk-item\"><div class=\"sk-label-container\"><div class=\"sk-label sk-toggleable\"><label>clf</label></div></div><div class=\"sk-serial\"><div class=\"sk-item sk-dashed-wrapped\"><div class=\"sk-parallel\"><div class=\"sk-parallel-item\"><div class=\"sk-item\"><div class=\"sk-label-container\"><div class=\"sk-label sk-toggleable\"><input class=\"sk-toggleable__control sk-hidden--visually\" id=\"sk-estimator-id-32\" type=\"checkbox\" ><label for=\"sk-estimator-id-32\" class=\"sk-toggleable__label sk-toggleable__label-arrow\">estimator: XGBClassifier</label><div class=\"sk-toggleable__content\"><pre>XGBClassifier(base_score=None, booster=None, callbacks=None,\n",
       "              colsample_bylevel=None, colsample_bynode=None,\n",
       "              colsample_bytree=None, early_stopping_rounds=None,\n",
       "              enable_categorical=False, eval_metric=None, gamma=None,\n",
       "              gpu_id=None, grow_policy=None, importance_type=None,\n",
       "              interaction_constraints=None, learning_rate=None, max_bin=None,\n",
       "              max_cat_to_onehot=None, max_delta_step=None, max_depth=None,\n",
       "              max_leaves=None, min_child_weight=None, missing=nan,\n",
       "              monotone_constraints=None, n_estimators=100, n_jobs=None,\n",
       "              num_parallel_tree=None, predictor=None, random_state=None,\n",
       "              reg_alpha=None, reg_lambda=None, ...)</pre></div></div></div><div class=\"sk-serial\"><div class=\"sk-item\"><div class=\"sk-estimator sk-toggleable\"><input class=\"sk-toggleable__control sk-hidden--visually\" id=\"sk-estimator-id-33\" type=\"checkbox\" ><label for=\"sk-estimator-id-33\" class=\"sk-toggleable__label sk-toggleable__label-arrow\">XGBClassifier</label><div class=\"sk-toggleable__content\"><pre>XGBClassifier(base_score=None, booster=None, callbacks=None,\n",
       "              colsample_bylevel=None, colsample_bynode=None,\n",
       "              colsample_bytree=None, early_stopping_rounds=None,\n",
       "              enable_categorical=False, eval_metric=None, gamma=None,\n",
       "              gpu_id=None, grow_policy=None, importance_type=None,\n",
       "              interaction_constraints=None, learning_rate=None, max_bin=None,\n",
       "              max_cat_to_onehot=None, max_delta_step=None, max_depth=None,\n",
       "              max_leaves=None, min_child_weight=None, missing=nan,\n",
       "              monotone_constraints=None, n_estimators=100, n_jobs=None,\n",
       "              num_parallel_tree=None, predictor=None, random_state=None,\n",
       "              reg_alpha=None, reg_lambda=None, ...)</pre></div></div></div></div></div></div></div></div></div></div></div><div class=\"sk-parallel-item\"><div class=\"sk-item\"><div class=\"sk-label-container\"><div class=\"sk-label sk-toggleable\"><label>gnb</label></div></div><div class=\"sk-serial\"><div class=\"sk-item\"><div class=\"sk-estimator sk-toggleable\"><input class=\"sk-toggleable__control sk-hidden--visually\" id=\"sk-estimator-id-34\" type=\"checkbox\" ><label for=\"sk-estimator-id-34\" class=\"sk-toggleable__label sk-toggleable__label-arrow\">GaussianNB</label><div class=\"sk-toggleable__content\"><pre>GaussianNB()</pre></div></div></div></div></div></div><div class=\"sk-parallel-item\"><div class=\"sk-item\"><div class=\"sk-label-container\"><div class=\"sk-label sk-toggleable\"><label>grid_SVC</label></div></div><div class=\"sk-serial\"><div class=\"sk-item sk-dashed-wrapped\"><div class=\"sk-parallel\"><div class=\"sk-parallel-item\"><div class=\"sk-item\"><div class=\"sk-label-container\"><div class=\"sk-label sk-toggleable\"><input class=\"sk-toggleable__control sk-hidden--visually\" id=\"sk-estimator-id-35\" type=\"checkbox\" ><label for=\"sk-estimator-id-35\" class=\"sk-toggleable__label sk-toggleable__label-arrow\">estimator: SVC</label><div class=\"sk-toggleable__content\"><pre>SVC(probability=True)</pre></div></div></div><div class=\"sk-serial\"><div class=\"sk-item\"><div class=\"sk-estimator sk-toggleable\"><input class=\"sk-toggleable__control sk-hidden--visually\" id=\"sk-estimator-id-36\" type=\"checkbox\" ><label for=\"sk-estimator-id-36\" class=\"sk-toggleable__label sk-toggleable__label-arrow\">SVC</label><div class=\"sk-toggleable__content\"><pre>SVC(probability=True)</pre></div></div></div></div></div></div></div></div></div></div></div></div></div></div></div>"
      ],
      "text/plain": [
       "VotingClassifier(estimators=[('logmodel', LogisticRegression()),\n",
       "                             ('xgb_clf',\n",
       "                              XGBClassifier(base_score=0.5, booster='gbtree',\n",
       "                                            callbacks=None, colsample_bylevel=1,\n",
       "                                            colsample_bynode=1,\n",
       "                                            colsample_bytree=1,\n",
       "                                            early_stopping_rounds=None,\n",
       "                                            enable_categorical=False, eta=0.1,\n",
       "                                            eval_metric=None, gamma=0,\n",
       "                                            gpu_id=-1, grow_policy='depthwise',\n",
       "                                            importance_type=None,\n",
       "                                            interaction_const...\n",
       "                                           param_grid={'eta': [0.1, 0.2, 0.3,\n",
       "                                                               0.4, 0.5],\n",
       "                                                       'max_depth': range(4, 8),\n",
       "                                                       'random_state': [300,\n",
       "                                                                        600,\n",
       "                                                                        900],\n",
       "                                                       'reg_lambda': [0.8, 0.9,\n",
       "                                                                      1, 1.1,\n",
       "                                                                      1.2]},\n",
       "                                           scoring='f1', verbose=1)),\n",
       "                             ('gnb', GaussianNB()),\n",
       "                             ('grid_SVC',\n",
       "                              GridSearchCV(estimator=SVC(probability=True),\n",
       "                                           param_grid={'C': [0.5, 1, 10, 100],\n",
       "                                                       'gamma': [1, 0.1, 0.01,\n",
       "                                                                 0.001,\n",
       "                                                                 0.0001],\n",
       "                                                       'kernel': ['linear',\n",
       "                                                                  'rbf',\n",
       "                                                                  'poly']},\n",
       "                                           scoring='f1', verbose=3))],\n",
       "                 voting='soft')"
      ]
     },
     "execution_count": 137,
     "metadata": {},
     "output_type": "execute_result"
    }
   ],
   "source": [
    "from sklearn.ensemble import VotingClassifier\n",
    "# logmodel = LogisticRegression()\n",
    "# rnd_clf = RandomForestClassifier()\n",
    "# svm = SVC()\n",
    "\n",
    "soft_evc = VotingClassifier(estimators = [('logmodel', logmodel), ('xgb_clf',xgb_clf), ('clf', clf),\n",
    "                                          ('gnb', gnb),(\"grid_SVC\", grid_SVC)], voting = 'soft')\n",
    "soft_evc.fit(X_train, y_train)"
   ]
  },
  {
   "cell_type": "code",
   "execution_count": 138,
   "id": "dc8d35fa",
   "metadata": {},
   "outputs": [
    {
     "name": "stdout",
     "output_type": "stream",
     "text": [
      "              precision    recall  f1-score   support\n",
      "\n",
      "           0       1.00      0.94      0.97        33\n",
      "           1       0.93      1.00      0.96        26\n",
      "\n",
      "    accuracy                           0.97        59\n",
      "   macro avg       0.96      0.97      0.97        59\n",
      "weighted avg       0.97      0.97      0.97        59\n",
      "\n"
     ]
    }
   ],
   "source": [
    "y_pred = soft_evc.predict(X_test)\n",
    "print(classification_report(y_test, y_pred))"
   ]
  },
  {
   "cell_type": "markdown",
   "id": "83f639f5",
   "metadata": {},
   "source": [
    "Based on VotingClassifier as we can see  hard voting accuracy is 83% and soft voting accuracy is 97% which is showes better accuracy"
   ]
  },
  {
   "cell_type": "markdown",
   "id": "094e8a12",
   "metadata": {},
   "source": [
    "# Conclusion"
   ]
  },
  {
   "cell_type": "markdown",
   "id": "ce92c228",
   "metadata": {},
   "source": [
    "In general we can see that the XGboost classifier has the highest recall. This is important because we do not want to classify parkinson patients as healthy people. We want to detect parkinson. The SVM has the highest accuracy itself and a high F1 score. It would be great to have the recall of the XGboost classifier and the accuracy of the SVM. The rest of the models do not perform as well.\n",
    "\n",
    "As a future direction we can use neural network to predict when someone has parkinson. We can also gather more data to more accurately predict who has parkinsons disease. We can also try other preprocessing techniques to obtain more data representations. This can also work and maybe other models perform better with it. We can also use cross validation.\n",
    "\n",
    "In this notebook I was able to create a model that can predict Parkinsons disease. Hopefully in the future we are able to always detect it."
   ]
  },
  {
   "cell_type": "code",
   "execution_count": null,
   "id": "affd5042",
   "metadata": {},
   "outputs": [],
   "source": []
  }
 ],
 "metadata": {
  "kernelspec": {
   "display_name": "Python 3 (ipykernel)",
   "language": "python",
   "name": "python3"
  },
  "language_info": {
   "codemirror_mode": {
    "name": "ipython",
    "version": 3
   },
   "file_extension": ".py",
   "mimetype": "text/x-python",
   "name": "python",
   "nbconvert_exporter": "python",
   "pygments_lexer": "ipython3",
   "version": "3.9.7"
  }
 },
 "nbformat": 4,
 "nbformat_minor": 5
}
